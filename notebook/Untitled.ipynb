{
 "cells": [
  {
   "cell_type": "code",
   "execution_count": 4,
   "metadata": {},
   "outputs": [],
   "source": [
    "import pandas as pd\n",
    "import pandas_profiling as pdp\n",
    "import lightgbm as lgb\n",
    "import numpy as np\n",
    "import math\n",
    "import matplotlib.pyplot as plt\n",
    "from sklearn.model_selection import KFold, cross_val_score, train_test_split\n",
    "from sklearn.metrics import accuracy_score\n",
    "import optuna"
   ]
  },
  {
   "cell_type": "code",
   "execution_count": 5,
   "metadata": {},
   "outputs": [],
   "source": [
    "train = pd.read_csv('../processed_data/train_v10.csv')\n",
    "test = pd.read_csv('../processed_data/test_v10.csv')"
   ]
  },
  {
   "cell_type": "code",
   "execution_count": 6,
   "metadata": {},
   "outputs": [],
   "source": [
    "use_col = train.columns\n",
    "\n",
    "un_use_col = ['id','y','log_y','high_price_flag','location', 'access', 'layout', 'age', 'direction', 'area','floor', 'bath_toilet', 'kitchen',\n",
    "             'broadcast_com', 'facilities','parking', 'enviroment', 'structure', 'contract_period',\n",
    "             'walk_time','23ku',\n",
    "            #  'area_num_countall','floor_countall','room_num_countall','facilities_countall','age_countall','area_num_countall',\n",
    "            ]\n",
    "use_col = [c for c in use_col if c not in un_use_col]"
   ]
  },
  {
   "cell_type": "code",
   "execution_count": 7,
   "metadata": {},
   "outputs": [],
   "source": [
    "X, y = train.loc[:,use_col], train.loc[:,'high_price_flag']"
   ]
  },
  {
   "cell_type": "code",
   "execution_count": 8,
   "metadata": {},
   "outputs": [],
   "source": [
    "X_train, X_test, y_train, y_test = train_test_split(X, y, test_size=0.3, random_state=0)"
   ]
  },
  {
   "cell_type": "code",
   "execution_count": 9,
   "metadata": {},
   "outputs": [],
   "source": [
    "lgb_train = lgb.Dataset(X_train, y_train)\n",
    "lgb_eval = lgb.Dataset(X_test, y_test, reference=lgb_train)"
   ]
  },
  {
   "cell_type": "code",
   "execution_count": 10,
   "metadata": {},
   "outputs": [],
   "source": [
    "lgbm_params = {\n",
    "        # 多値分類問題\n",
    "        'objective': 'binary',\n",
    "        'metric': 'accuracy',\n",
    "        'stratified': True\n",
    "    }\n",
    "\n",
    "# 上記のパラメータでモデルを学習する\n",
    "model = lgb.train(lgbm_params, lgb_train, valid_sets=lgb_eval)\n",
    "\n",
    "# テストデータを予測する\n",
    "y_pred = model.predict(X_test, num_iteration=model.best_iteration)"
   ]
  },
  {
   "cell_type": "code",
   "execution_count": 11,
   "metadata": {},
   "outputs": [],
   "source": [
    "pred_label = [1 if i>0.5 else 0 for i in y_pred]"
   ]
  },
  {
   "cell_type": "code",
   "execution_count": 12,
   "metadata": {},
   "outputs": [],
   "source": [
    "accuracy = accuracy_score(y_test,pred_label)"
   ]
  },
  {
   "cell_type": "code",
   "execution_count": 13,
   "metadata": {},
   "outputs": [
    {
     "data": {
      "text/plain": [
       "0.9956572396991844"
      ]
     },
     "execution_count": 13,
     "metadata": {},
     "output_type": "execute_result"
    }
   ],
   "source": [
    "accuracy"
   ]
  },
  {
   "cell_type": "code",
   "execution_count": 14,
   "metadata": {},
   "outputs": [
    {
     "data": {
      "text/html": [
       "<div>\n",
       "<style scoped>\n",
       "    .dataframe tbody tr th:only-of-type {\n",
       "        vertical-align: middle;\n",
       "    }\n",
       "\n",
       "    .dataframe tbody tr th {\n",
       "        vertical-align: top;\n",
       "    }\n",
       "\n",
       "    .dataframe thead th {\n",
       "        text-align: right;\n",
       "    }\n",
       "</style>\n",
       "<table border=\"1\" class=\"dataframe\">\n",
       "  <thead>\n",
       "    <tr style=\"text-align: right;\">\n",
       "      <th></th>\n",
       "      <th>gt</th>\n",
       "      <th>pred</th>\n",
       "    </tr>\n",
       "  </thead>\n",
       "  <tbody>\n",
       "    <tr>\n",
       "      <td>27300</td>\n",
       "      <td>0</td>\n",
       "      <td>0</td>\n",
       "    </tr>\n",
       "    <tr>\n",
       "      <td>2953</td>\n",
       "      <td>0</td>\n",
       "      <td>0</td>\n",
       "    </tr>\n",
       "    <tr>\n",
       "      <td>8326</td>\n",
       "      <td>0</td>\n",
       "      <td>0</td>\n",
       "    </tr>\n",
       "    <tr>\n",
       "      <td>2921</td>\n",
       "      <td>0</td>\n",
       "      <td>0</td>\n",
       "    </tr>\n",
       "    <tr>\n",
       "      <td>19929</td>\n",
       "      <td>0</td>\n",
       "      <td>0</td>\n",
       "    </tr>\n",
       "    <tr>\n",
       "      <td>...</td>\n",
       "      <td>...</td>\n",
       "      <td>...</td>\n",
       "    </tr>\n",
       "    <tr>\n",
       "      <td>17358</td>\n",
       "      <td>0</td>\n",
       "      <td>0</td>\n",
       "    </tr>\n",
       "    <tr>\n",
       "      <td>4024</td>\n",
       "      <td>0</td>\n",
       "      <td>0</td>\n",
       "    </tr>\n",
       "    <tr>\n",
       "      <td>9721</td>\n",
       "      <td>0</td>\n",
       "      <td>0</td>\n",
       "    </tr>\n",
       "    <tr>\n",
       "      <td>12102</td>\n",
       "      <td>0</td>\n",
       "      <td>0</td>\n",
       "    </tr>\n",
       "    <tr>\n",
       "      <td>1382</td>\n",
       "      <td>0</td>\n",
       "      <td>0</td>\n",
       "    </tr>\n",
       "  </tbody>\n",
       "</table>\n",
       "<p>9441 rows × 2 columns</p>\n",
       "</div>"
      ],
      "text/plain": [
       "       gt  pred\n",
       "27300   0     0\n",
       "2953    0     0\n",
       "8326    0     0\n",
       "2921    0     0\n",
       "19929   0     0\n",
       "...    ..   ...\n",
       "17358   0     0\n",
       "4024    0     0\n",
       "9721    0     0\n",
       "12102   0     0\n",
       "1382    0     0\n",
       "\n",
       "[9441 rows x 2 columns]"
      ]
     },
     "execution_count": 14,
     "metadata": {},
     "output_type": "execute_result"
    }
   ],
   "source": [
    "pd.DataFrame({\n",
    "    'gt': y_test,\n",
    "    'pred': pred_label\n",
    "})"
   ]
  },
  {
   "cell_type": "code",
   "execution_count": 15,
   "metadata": {},
   "outputs": [],
   "source": [
    "def objective(trial):\n",
    "\n",
    "    learning_rate = trial.suggest_uniform('learning_rate', 0, 1.0)\n",
    "    num_leaves = trial.suggest_int('num_leaves', 10, 2**8)\n",
    "    max_depth = trial.suggest_int('max_depth', 3, 8)\n",
    "    min_data_in_leaf = trial.suggest_int('min_data_in_leaf', 2, 1000)\n",
    "\n",
    "    lgbm_params = {\n",
    "        'task': 'train',\n",
    "        \"metric\": 'binary',\n",
    "        'boosting_type': 'gbdt',\n",
    "        'objective': 'binary',\n",
    "        \"learning_rate\": learning_rate,\n",
    "        \"num_leaves\": num_leaves,\n",
    "        \"max_depth\": max_depth,\n",
    "        \"n_jobs\": 1,\n",
    "        'verbose': -1,\n",
    "        \"seed\": 0\n",
    "    }\n",
    "\n",
    "    cv_results = lgb.cv(lgbm_params, lgb_train, nfold=3, stratified=True)\n",
    "    score = np.array(cv_results['binary_logloss-mean']).mean()\n",
    "    # accuracy = accuracy_score(y_test,pred_label)\n",
    "    return score"
   ]
  },
  {
   "cell_type": "code",
   "execution_count": 16,
   "metadata": {
    "scrolled": true
   },
   "outputs": [
    {
     "name": "stderr",
     "output_type": "stream",
     "text": [
      "\u001b[32m[I 2019-10-06 18:36:56,709]\u001b[0m Finished trial#0 resulted in value: 0.22373274494338702. Current best value is 0.22373274494338702 with parameters: {'learning_rate': 0.2055786152963398, 'num_leaves': 170, 'max_depth': 4, 'min_data_in_leaf': 884}.\u001b[0m\n",
      "\u001b[32m[I 2019-10-06 18:36:57,394]\u001b[0m Finished trial#1 resulted in value: 0.7321009825720379. Current best value is 0.22373274494338702 with parameters: {'learning_rate': 0.2055786152963398, 'num_leaves': 170, 'max_depth': 4, 'min_data_in_leaf': 884}.\u001b[0m\n",
      "\u001b[32m[I 2019-10-06 18:36:58,295]\u001b[0m Finished trial#2 resulted in value: 0.012977225471946125. Current best value is 0.012977225471946125 with parameters: {'learning_rate': 0.06323787278004289, 'num_leaves': 50, 'max_depth': 4, 'min_data_in_leaf': 284}.\u001b[0m\n",
      "\u001b[32m[I 2019-10-06 18:36:59,003]\u001b[0m Finished trial#3 resulted in value: 0.415190047592709. Current best value is 0.012977225471946125 with parameters: {'learning_rate': 0.06323787278004289, 'num_leaves': 50, 'max_depth': 4, 'min_data_in_leaf': 284}.\u001b[0m\n",
      "\u001b[32m[I 2019-10-06 18:36:59,622]\u001b[0m Finished trial#4 resulted in value: 0.49847666896876347. Current best value is 0.012977225471946125 with parameters: {'learning_rate': 0.06323787278004289, 'num_leaves': 50, 'max_depth': 4, 'min_data_in_leaf': 284}.\u001b[0m\n",
      "\u001b[32m[I 2019-10-06 18:37:00,185]\u001b[0m Finished trial#5 resulted in value: 0.49023521438838175. Current best value is 0.012977225471946125 with parameters: {'learning_rate': 0.06323787278004289, 'num_leaves': 50, 'max_depth': 4, 'min_data_in_leaf': 284}.\u001b[0m\n",
      "\u001b[32m[I 2019-10-06 18:37:00,744]\u001b[0m Finished trial#6 resulted in value: 4.596378637040577. Current best value is 0.012977225471946125 with parameters: {'learning_rate': 0.06323787278004289, 'num_leaves': 50, 'max_depth': 4, 'min_data_in_leaf': 284}.\u001b[0m\n",
      "\u001b[32m[I 2019-10-06 18:37:01,294]\u001b[0m Finished trial#7 resulted in value: 0.7619821402745504. Current best value is 0.012977225471946125 with parameters: {'learning_rate': 0.06323787278004289, 'num_leaves': 50, 'max_depth': 4, 'min_data_in_leaf': 284}.\u001b[0m\n",
      "\u001b[32m[I 2019-10-06 18:37:01,888]\u001b[0m Finished trial#8 resulted in value: 0.7208447806952948. Current best value is 0.012977225471946125 with parameters: {'learning_rate': 0.06323787278004289, 'num_leaves': 50, 'max_depth': 4, 'min_data_in_leaf': 284}.\u001b[0m\n",
      "\u001b[32m[I 2019-10-06 18:37:02,530]\u001b[0m Finished trial#9 resulted in value: 0.4179260314174539. Current best value is 0.012977225471946125 with parameters: {'learning_rate': 0.06323787278004289, 'num_leaves': 50, 'max_depth': 4, 'min_data_in_leaf': 284}.\u001b[0m\n"
     ]
    }
   ],
   "source": [
    "study = optuna.create_study()\n",
    "study.optimize(objective,n_trials=10)"
   ]
  },
  {
   "cell_type": "code",
   "execution_count": 91,
   "metadata": {},
   "outputs": [
    {
     "name": "stdout",
     "output_type": "stream",
     "text": [
      "best trial:  FrozenTrial(number=8, state=<TrialState.COMPLETE: 1>, value=0.038809788678887076, datetime_start=datetime.datetime(2019, 10, 5, 16, 33, 59, 267502), datetime_complete=datetime.datetime(2019, 10, 5, 16, 34, 0, 632326), params={'learning_rate': 0.14264489475165743, 'num_leaves': 100, 'max_depth': 4, 'min_data_in_leaf': 337}, distributions={'learning_rate': UniformDistribution(low=0, high=1.0), 'num_leaves': IntUniformDistribution(low=10, high=256), 'max_depth': IntUniformDistribution(low=3, high=8), 'min_data_in_leaf': IntUniformDistribution(low=2, high=1000)}, user_attrs={}, system_attrs={'_number': 8}, intermediate_values={}, params_in_internal_repr={'learning_rate': 0.14264489475165743, 'num_leaves': 100, 'max_depth': 4, 'min_data_in_leaf': 337}, trial_id=8)\n",
      "---------------------------------\n",
      "best_params:  {'learning_rate': 0.14264489475165743, 'num_leaves': 100, 'max_depth': 4, 'min_data_in_leaf': 337}\n"
     ]
    }
   ],
   "source": [
    "print('best trial: ', study.best_trial)\n",
    "print('---------------------------------')\n",
    "print('best_params: ', study.best_params)"
   ]
  },
  {
   "cell_type": "code",
   "execution_count": 17,
   "metadata": {},
   "outputs": [],
   "source": [
    "mdl = lgb.train(study.best_params, lgb_train)"
   ]
  },
  {
   "cell_type": "code",
   "execution_count": 18,
   "metadata": {},
   "outputs": [
    {
     "data": {
      "text/plain": [
       "array([-7.32105455e-05, -5.25067118e-03, -8.12912031e-05, ...,\n",
       "       -5.89339351e-04, -6.46221322e-05, -6.46221322e-05])"
      ]
     },
     "execution_count": 18,
     "metadata": {},
     "output_type": "execute_result"
    }
   ],
   "source": [
    "mdl.predict(X_train,metric='accuracy')"
   ]
  },
  {
   "cell_type": "code",
   "execution_count": 2,
   "metadata": {},
   "outputs": [],
   "source": [
    "p = 'submit/1234_submit.csv'"
   ]
  },
  {
   "cell_type": "code",
   "execution_count": 3,
   "metadata": {},
   "outputs": [],
   "source": [
    "import os"
   ]
  },
  {
   "cell_type": "code",
   "execution_count": 7,
   "metadata": {},
   "outputs": [],
   "source": [
    "a,b = os.path.splitext(p)"
   ]
  },
  {
   "cell_type": "code",
   "execution_count": 8,
   "metadata": {},
   "outputs": [
    {
     "data": {
      "text/plain": [
       "'submit/1234_submit'"
      ]
     },
     "execution_count": 8,
     "metadata": {},
     "output_type": "execute_result"
    }
   ],
   "source": [
    "a"
   ]
  },
  {
   "cell_type": "code",
   "execution_count": 9,
   "metadata": {},
   "outputs": [
    {
     "data": {
      "text/plain": [
       "'.csv'"
      ]
     },
     "execution_count": 9,
     "metadata": {},
     "output_type": "execute_result"
    }
   ],
   "source": [
    "b"
   ]
  },
  {
   "cell_type": "code",
   "execution_count": 11,
   "metadata": {},
   "outputs": [
    {
     "data": {
      "text/plain": [
       "'submit/1234_submitlow.csv'"
      ]
     },
     "execution_count": 11,
     "metadata": {},
     "output_type": "execute_result"
    }
   ],
   "source": [
    "a+'low'+b"
   ]
  },
  {
   "cell_type": "code",
   "execution_count": null,
   "metadata": {},
   "outputs": [],
   "source": []
  }
 ],
 "metadata": {
  "kernelspec": {
   "display_name": "Python 3",
   "language": "python",
   "name": "python3"
  },
  "language_info": {
   "codemirror_mode": {
    "name": "ipython",
    "version": 3
   },
   "file_extension": ".py",
   "mimetype": "text/x-python",
   "name": "python",
   "nbconvert_exporter": "python",
   "pygments_lexer": "ipython3",
   "version": "3.7.4"
  },
  "toc": {
   "base_numbering": 1,
   "nav_menu": {},
   "number_sections": true,
   "sideBar": true,
   "skip_h1_title": false,
   "title_cell": "Table of Contents",
   "title_sidebar": "Contents",
   "toc_cell": false,
   "toc_position": {},
   "toc_section_display": true,
   "toc_window_display": false
  },
  "varInspector": {
   "cols": {
    "lenName": 16,
    "lenType": 16,
    "lenVar": 40
   },
   "kernels_config": {
    "python": {
     "delete_cmd_postfix": "",
     "delete_cmd_prefix": "del ",
     "library": "var_list.py",
     "varRefreshCmd": "print(var_dic_list())"
    },
    "r": {
     "delete_cmd_postfix": ") ",
     "delete_cmd_prefix": "rm(",
     "library": "var_list.r",
     "varRefreshCmd": "cat(var_dic_list()) "
    }
   },
   "types_to_exclude": [
    "module",
    "function",
    "builtin_function_or_method",
    "instance",
    "_Feature"
   ],
   "window_display": false
  }
 },
 "nbformat": 4,
 "nbformat_minor": 2
}
