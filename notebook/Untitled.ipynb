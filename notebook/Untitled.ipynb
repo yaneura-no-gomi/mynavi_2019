{
 "cells": [
  {
   "cell_type": "code",
   "execution_count": 1,
   "metadata": {},
   "outputs": [],
   "source": [
    "import pandas as pd"
   ]
  },
  {
   "cell_type": "code",
   "execution_count": 15,
   "metadata": {},
   "outputs": [],
   "source": [
    "train = pd.read_csv('../processed_data/train_v7.csv')\n",
    "test = pd.read_csv('../processed_data/test_v7.csv')"
   ]
  },
  {
   "cell_type": "code",
   "execution_count": 6,
   "metadata": {},
   "outputs": [
    {
     "data": {
      "text/plain": [
       "0              東京都北区滝野川３丁目\n",
       "1              東京都中央区月島３丁目\n",
       "2              東京都渋谷区笹塚２丁目\n",
       "3        東京都杉並区高円寺南２丁目23-2\n",
       "4           東京都葛飾区金町３丁目7-2\n",
       "               ...        \n",
       "31464          東京都板橋区蓮根２丁目\n",
       "31465    東京都世田谷区太子堂５丁目17-1\n",
       "31466          東京都江東区南砂４丁目\n",
       "31467          東京都中野区中野２丁目\n",
       "31468          東京都豊島区千川２丁目\n",
       "Name: location, Length: 31469, dtype: object"
      ]
     },
     "execution_count": 6,
     "metadata": {},
     "output_type": "execute_result"
    }
   ],
   "source": [
    "train['location']"
   ]
  },
  {
   "cell_type": "code",
   "execution_count": 14,
   "metadata": {},
   "outputs": [
    {
     "data": {
      "text/html": [
       "<div>\n",
       "<style scoped>\n",
       "    .dataframe tbody tr th:only-of-type {\n",
       "        vertical-align: middle;\n",
       "    }\n",
       "\n",
       "    .dataframe tbody tr th {\n",
       "        vertical-align: top;\n",
       "    }\n",
       "\n",
       "    .dataframe thead th {\n",
       "        text-align: right;\n",
       "    }\n",
       "</style>\n",
       "<table border=\"1\" class=\"dataframe\">\n",
       "  <thead>\n",
       "    <tr style=\"text-align: right;\">\n",
       "      <th></th>\n",
       "      <th>0</th>\n",
       "      <th>1</th>\n",
       "      <th>2</th>\n",
       "    </tr>\n",
       "  </thead>\n",
       "  <tbody>\n",
       "    <tr>\n",
       "      <td>0</td>\n",
       "      <td>東京</td>\n",
       "      <td>北</td>\n",
       "      <td>滝野川３丁目</td>\n",
       "    </tr>\n",
       "    <tr>\n",
       "      <td>1</td>\n",
       "      <td>東京</td>\n",
       "      <td>中央</td>\n",
       "      <td>月島３丁目</td>\n",
       "    </tr>\n",
       "    <tr>\n",
       "      <td>2</td>\n",
       "      <td>東京</td>\n",
       "      <td>渋谷</td>\n",
       "      <td>笹塚２丁目</td>\n",
       "    </tr>\n",
       "    <tr>\n",
       "      <td>3</td>\n",
       "      <td>東京</td>\n",
       "      <td>杉並</td>\n",
       "      <td>高円寺南２丁目23-2</td>\n",
       "    </tr>\n",
       "    <tr>\n",
       "      <td>4</td>\n",
       "      <td>東京</td>\n",
       "      <td>葛飾</td>\n",
       "      <td>金町３丁目7-2</td>\n",
       "    </tr>\n",
       "    <tr>\n",
       "      <td>...</td>\n",
       "      <td>...</td>\n",
       "      <td>...</td>\n",
       "      <td>...</td>\n",
       "    </tr>\n",
       "    <tr>\n",
       "      <td>31464</td>\n",
       "      <td>東京</td>\n",
       "      <td>板橋</td>\n",
       "      <td>蓮根２丁目</td>\n",
       "    </tr>\n",
       "    <tr>\n",
       "      <td>31465</td>\n",
       "      <td>東京</td>\n",
       "      <td>世田谷</td>\n",
       "      <td>太子堂５丁目17-1</td>\n",
       "    </tr>\n",
       "    <tr>\n",
       "      <td>31466</td>\n",
       "      <td>東京</td>\n",
       "      <td>江東</td>\n",
       "      <td>南砂４丁目</td>\n",
       "    </tr>\n",
       "    <tr>\n",
       "      <td>31467</td>\n",
       "      <td>東京</td>\n",
       "      <td>中野</td>\n",
       "      <td>中野２丁目</td>\n",
       "    </tr>\n",
       "    <tr>\n",
       "      <td>31468</td>\n",
       "      <td>東京</td>\n",
       "      <td>豊島</td>\n",
       "      <td>千川２丁目</td>\n",
       "    </tr>\n",
       "  </tbody>\n",
       "</table>\n",
       "<p>31469 rows × 3 columns</p>\n",
       "</div>"
      ],
      "text/plain": [
       "        0    1            2\n",
       "0      東京    北       滝野川３丁目\n",
       "1      東京   中央        月島３丁目\n",
       "2      東京   渋谷        笹塚２丁目\n",
       "3      東京   杉並  高円寺南２丁目23-2\n",
       "4      東京   葛飾     金町３丁目7-2\n",
       "...    ..  ...          ...\n",
       "31464  東京   板橋        蓮根２丁目\n",
       "31465  東京  世田谷   太子堂５丁目17-1\n",
       "31466  東京   江東        南砂４丁目\n",
       "31467  東京   中野        中野２丁目\n",
       "31468  東京   豊島        千川２丁目\n",
       "\n",
       "[31469 rows x 3 columns]"
      ]
     },
     "execution_count": 14,
     "metadata": {},
     "output_type": "execute_result"
    }
   ],
   "source": [
    "train['location'].str.extract('(.+)都(.*)区(.*)',expand=True)"
   ]
  },
  {
   "cell_type": "code",
   "execution_count": 16,
   "metadata": {},
   "outputs": [],
   "source": [
    "layout = pd.concat([train['layout'],test['layout']])"
   ]
  },
  {
   "cell_type": "code",
   "execution_count": 19,
   "metadata": {},
   "outputs": [
    {
     "data": {
      "text/plain": [
       "1K            23661\n",
       "1R            10177\n",
       "1LDK           9702\n",
       "2LDK           5131\n",
       "1DK            3781\n",
       "2DK            3715\n",
       "3LDK           2240\n",
       "2K             1807\n",
       "3DK             851\n",
       "1LDK+S(納戸)      487\n",
       "2LDK+S(納戸)      326\n",
       "4LDK            250\n",
       "3LDK+S(納戸)      133\n",
       "1K+S(納戸)        130\n",
       "3K              102\n",
       "2DK+S(納戸)        38\n",
       "5LDK             38\n",
       "4DK              33\n",
       "1DK+S(納戸)        27\n",
       "4LDK+S(納戸)       24\n",
       "4K               12\n",
       "3DK+S(納戸)        10\n",
       "6LDK              9\n",
       "5LDK+S(納戸)        9\n",
       "5DK               8\n",
       "5K                7\n",
       "6LDK+S(納戸)        4\n",
       "2K+S(納戸)          3\n",
       "5DK+S(納戸)         3\n",
       "3K+S(納戸)          2\n",
       "4DK+S(納戸)         2\n",
       "1LK+S(納戸)         2\n",
       "6DK               2\n",
       "1LK               1\n",
       "6K                1\n",
       "2R                1\n",
       "11R               1\n",
       "8LDK              1\n",
       "Name: layout, dtype: int64"
      ]
     },
     "execution_count": 19,
     "metadata": {},
     "output_type": "execute_result"
    }
   ],
   "source": [
    "layout.value_counts()"
   ]
  },
  {
   "cell_type": "code",
   "execution_count": 21,
   "metadata": {},
   "outputs": [
    {
     "data": {
      "text/html": [
       "<div>\n",
       "<style scoped>\n",
       "    .dataframe tbody tr th:only-of-type {\n",
       "        vertical-align: middle;\n",
       "    }\n",
       "\n",
       "    .dataframe tbody tr th {\n",
       "        vertical-align: top;\n",
       "    }\n",
       "\n",
       "    .dataframe thead th {\n",
       "        text-align: right;\n",
       "    }\n",
       "</style>\n",
       "<table border=\"1\" class=\"dataframe\">\n",
       "  <thead>\n",
       "    <tr style=\"text-align: right;\">\n",
       "      <th></th>\n",
       "      <th>id</th>\n",
       "      <th>location</th>\n",
       "      <th>access</th>\n",
       "      <th>layout</th>\n",
       "      <th>age</th>\n",
       "      <th>direction</th>\n",
       "      <th>area</th>\n",
       "      <th>floor</th>\n",
       "      <th>bath_toilet</th>\n",
       "      <th>kitchen</th>\n",
       "      <th>...</th>\n",
       "      <th>23ku_countall</th>\n",
       "      <th>area_num_countall</th>\n",
       "      <th>age_countall</th>\n",
       "      <th>floor_countall</th>\n",
       "      <th>max_floor_countall</th>\n",
       "      <th>layout_countall</th>\n",
       "      <th>room_num_countall</th>\n",
       "      <th>direction_countall</th>\n",
       "      <th>facilities_countall</th>\n",
       "      <th>contact_period_countall</th>\n",
       "    </tr>\n",
       "  </thead>\n",
       "  <tbody>\n",
       "    <tr>\n",
       "      <td>8483</td>\n",
       "      <td>39954</td>\n",
       "      <td>東京都世田谷区桜上水５丁目</td>\n",
       "      <td>京王線\\t桜上水駅\\t徒歩5分\\t\\t京王線\\t上北沢駅\\t徒歩10分\\t\\t東急世田谷線\\...</td>\n",
       "      <td>11R</td>\n",
       "      <td>64年0ヶ月</td>\n",
       "      <td>南</td>\n",
       "      <td>16m2</td>\n",
       "      <td>1</td>\n",
       "      <td>専用バス／\\t専用トイレ／\\tシャワー</td>\n",
       "      <td>ガスコンロ／\\t冷蔵庫あり</td>\n",
       "      <td>...</td>\n",
       "      <td>5971</td>\n",
       "      <td>262</td>\n",
       "      <td>1</td>\n",
       "      <td>12112</td>\n",
       "      <td>12311</td>\n",
       "      <td>1</td>\n",
       "      <td>47969</td>\n",
       "      <td>17696</td>\n",
       "      <td>54</td>\n",
       "      <td>45052</td>\n",
       "    </tr>\n",
       "  </tbody>\n",
       "</table>\n",
       "<p>1 rows × 51 columns</p>\n",
       "</div>"
      ],
      "text/plain": [
       "         id       location                                             access  \\\n",
       "8483  39954  東京都世田谷区桜上水５丁目  京王線\\t桜上水駅\\t徒歩5分\\t\\t京王線\\t上北沢駅\\t徒歩10分\\t\\t東急世田谷線\\...   \n",
       "\n",
       "     layout     age direction  area  floor          bath_toilet  \\\n",
       "8483    11R  64年0ヶ月         南  16m2      1  専用バス／\\t専用トイレ／\\tシャワー   \n",
       "\n",
       "            kitchen  ... 23ku_countall area_num_countall age_countall  \\\n",
       "8483  ガスコンロ／\\t冷蔵庫あり  ...          5971               262            1   \n",
       "\n",
       "     floor_countall max_floor_countall layout_countall  room_num_countall  \\\n",
       "8483          12112              12311               1              47969   \n",
       "\n",
       "      direction_countall  facilities_countall  contact_period_countall  \n",
       "8483               17696                   54                    45052  \n",
       "\n",
       "[1 rows x 51 columns]"
      ]
     },
     "execution_count": 21,
     "metadata": {},
     "output_type": "execute_result"
    }
   ],
   "source": [
    "test[test['layout']=='11R']"
   ]
  },
  {
   "cell_type": "code",
   "execution_count": 22,
   "metadata": {},
   "outputs": [
    {
     "data": {
      "text/html": [
       "<div>\n",
       "<style scoped>\n",
       "    .dataframe tbody tr th:only-of-type {\n",
       "        vertical-align: middle;\n",
       "    }\n",
       "\n",
       "    .dataframe tbody tr th {\n",
       "        vertical-align: top;\n",
       "    }\n",
       "\n",
       "    .dataframe thead th {\n",
       "        text-align: right;\n",
       "    }\n",
       "</style>\n",
       "<table border=\"1\" class=\"dataframe\">\n",
       "  <thead>\n",
       "    <tr style=\"text-align: right;\">\n",
       "      <th></th>\n",
       "      <th>id</th>\n",
       "      <th>location</th>\n",
       "      <th>access</th>\n",
       "      <th>layout</th>\n",
       "      <th>age</th>\n",
       "      <th>direction</th>\n",
       "      <th>area</th>\n",
       "      <th>floor</th>\n",
       "      <th>bath_toilet</th>\n",
       "      <th>kitchen</th>\n",
       "      <th>...</th>\n",
       "      <th>23ku_countall</th>\n",
       "      <th>area_num_countall</th>\n",
       "      <th>age_countall</th>\n",
       "      <th>floor_countall</th>\n",
       "      <th>max_floor_countall</th>\n",
       "      <th>layout_countall</th>\n",
       "      <th>room_num_countall</th>\n",
       "      <th>direction_countall</th>\n",
       "      <th>facilities_countall</th>\n",
       "      <th>contact_period_countall</th>\n",
       "    </tr>\n",
       "  </thead>\n",
       "  <tbody>\n",
       "    <tr>\n",
       "      <td>24546</td>\n",
       "      <td>56017</td>\n",
       "      <td>東京都北区志茂２丁目</td>\n",
       "      <td>京浜東北線\\t赤羽駅\\t徒歩10分\\t\\t南北線\\t志茂駅\\t徒歩4分\\t\\t南北線\\t赤羽...</td>\n",
       "      <td>2R</td>\n",
       "      <td>55年10ヶ月</td>\n",
       "      <td>南</td>\n",
       "      <td>14.8m2</td>\n",
       "      <td>2</td>\n",
       "      <td>共同トイレ</td>\n",
       "      <td>NaN</td>\n",
       "      <td>...</td>\n",
       "      <td>2061</td>\n",
       "      <td>8</td>\n",
       "      <td>7</td>\n",
       "      <td>17202</td>\n",
       "      <td>12311</td>\n",
       "      <td>1</td>\n",
       "      <td>11021</td>\n",
       "      <td>17696</td>\n",
       "      <td>1</td>\n",
       "      <td>45052</td>\n",
       "    </tr>\n",
       "  </tbody>\n",
       "</table>\n",
       "<p>1 rows × 51 columns</p>\n",
       "</div>"
      ],
      "text/plain": [
       "          id    location                                             access  \\\n",
       "24546  56017  東京都北区志茂２丁目  京浜東北線\\t赤羽駅\\t徒歩10分\\t\\t南北線\\t志茂駅\\t徒歩4分\\t\\t南北線\\t赤羽...   \n",
       "\n",
       "      layout      age direction    area  floor bath_toilet kitchen  ...  \\\n",
       "24546     2R  55年10ヶ月         南  14.8m2      2       共同トイレ     NaN  ...   \n",
       "\n",
       "      23ku_countall area_num_countall age_countall floor_countall  \\\n",
       "24546          2061                 8            7          17202   \n",
       "\n",
       "      max_floor_countall layout_countall  room_num_countall  \\\n",
       "24546              12311               1              11021   \n",
       "\n",
       "       direction_countall  facilities_countall  contact_period_countall  \n",
       "24546               17696                    1                    45052  \n",
       "\n",
       "[1 rows x 51 columns]"
      ]
     },
     "execution_count": 22,
     "metadata": {},
     "output_type": "execute_result"
    }
   ],
   "source": [
    "test[test['layout']=='2R']"
   ]
  },
  {
   "cell_type": "code",
   "execution_count": null,
   "metadata": {},
   "outputs": [],
   "source": []
  }
 ],
 "metadata": {
  "kernelspec": {
   "display_name": "Python 3",
   "language": "python",
   "name": "python3"
  },
  "language_info": {
   "codemirror_mode": {
    "name": "ipython",
    "version": 3
   },
   "file_extension": ".py",
   "mimetype": "text/x-python",
   "name": "python",
   "nbconvert_exporter": "python",
   "pygments_lexer": "ipython3",
   "version": "3.7.4"
  },
  "toc": {
   "base_numbering": 1,
   "nav_menu": {},
   "number_sections": true,
   "sideBar": true,
   "skip_h1_title": false,
   "title_cell": "Table of Contents",
   "title_sidebar": "Contents",
   "toc_cell": false,
   "toc_position": {},
   "toc_section_display": true,
   "toc_window_display": false
  },
  "varInspector": {
   "cols": {
    "lenName": 16,
    "lenType": 16,
    "lenVar": 40
   },
   "kernels_config": {
    "python": {
     "delete_cmd_postfix": "",
     "delete_cmd_prefix": "del ",
     "library": "var_list.py",
     "varRefreshCmd": "print(var_dic_list())"
    },
    "r": {
     "delete_cmd_postfix": ") ",
     "delete_cmd_prefix": "rm(",
     "library": "var_list.r",
     "varRefreshCmd": "cat(var_dic_list()) "
    }
   },
   "types_to_exclude": [
    "module",
    "function",
    "builtin_function_or_method",
    "instance",
    "_Feature"
   ],
   "window_display": false
  }
 },
 "nbformat": 4,
 "nbformat_minor": 2
}
