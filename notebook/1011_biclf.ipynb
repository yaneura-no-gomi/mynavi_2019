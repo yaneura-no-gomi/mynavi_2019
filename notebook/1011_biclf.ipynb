{
 "cells": [
  {
   "cell_type": "code",
   "execution_count": 47,
   "metadata": {},
   "outputs": [],
   "source": [
    "import glob\n",
    "import os\n",
    "import re\n",
    "import sys\n",
    "import warnings\n",
    "import pickle\n",
    "\n",
    "import lightgbm as lgb\n",
    "import matplotlib.pyplot as plt\n",
    "import numpy as np\n",
    "import optuna\n",
    "import pandas as pd\n",
    "import seaborn as sns\n",
    "from sklearn.metrics import accuracy_score,confusion_matrix\n",
    "from sklearn.model_selection import (KFold, StratifiedKFold, cross_val_score,\n",
    "                                     train_test_split)\n",
    "from sklearn.preprocessing import StandardScaler\n",
    "from tqdm import tqdm\n",
    "\n",
    "warnings.filterwarnings('ignore')"
   ]
  },
  {
   "cell_type": "code",
   "execution_count": 48,
   "metadata": {},
   "outputs": [
    {
     "name": "stdout",
     "output_type": "stream",
     "text": [
      "/home/toshiya/Workspace/learning/signate/mynavi_2019\n"
     ]
    }
   ],
   "source": [
    "%pwd\n",
    "%cd /home/toshiya/Workspace/learning/signate/mynavi_2019/"
   ]
  },
  {
   "cell_type": "markdown",
   "metadata": {},
   "source": [
    "### 方針"
   ]
  },
  {
   "cell_type": "markdown",
   "metadata": {},
   "source": [
    "- high_price_flag==1が30000件中254件のみ\n",
    "- アンダーサンプリングによって複数の学習データと学習させた分類器を作成\n",
    "- テストデータに対する外れ値予測をアンサンブルによって行う"
   ]
  },
  {
   "cell_type": "code",
   "execution_count": 49,
   "metadata": {},
   "outputs": [
    {
     "data": {
      "text/plain": [
       "Index(['id', 'y', 'location', 'access', 'layout', 'age', 'direction', 'area',\n",
       "       'floor', 'bath_toilet',\n",
       "       ...\n",
       "       'area_num_countall', 'age_countall', 'floor_countall',\n",
       "       'max_floor_countall', 'layout_countall', 'direction_countall',\n",
       "       'facilities_countall', 'contract_period_countall', 'latitude',\n",
       "       'longitude'],\n",
       "      dtype='object', length=125)"
      ]
     },
     "execution_count": 49,
     "metadata": {},
     "output_type": "execute_result"
    }
   ],
   "source": [
    "df = pd.read_csv('processed_data/train_v11.csv')\n",
    "df.columns"
   ]
  },
  {
   "cell_type": "markdown",
   "metadata": {},
   "source": [
    "### データの分割&学習データ作成"
   ]
  },
  {
   "cell_type": "code",
   "execution_count": 50,
   "metadata": {},
   "outputs": [],
   "source": [
    "high = df[df['high_price_flag']==1]\n",
    "other = df[df['high_price_flag']!=1]"
   ]
  },
  {
   "cell_type": "code",
   "execution_count": 51,
   "metadata": {},
   "outputs": [],
   "source": [
    "ratio = 3\n",
    "r1 = other.sample(n=len(high)*ratio)\n",
    "r2 = other.sample(n=len(high)*ratio)\n",
    "r3 = other.sample(n=len(high)*ratio)\n",
    "r4 = other.sample(n=len(high)*ratio)"
   ]
  },
  {
   "cell_type": "code",
   "execution_count": 52,
   "metadata": {},
   "outputs": [],
   "source": [
    "r1 = pd.concat([r1,high]).reset_index(drop=True)\n",
    "r2 = pd.concat([r2,high]).reset_index(drop=True)\n",
    "r3 = pd.concat([r3,high]).reset_index(drop=True)\n",
    "r4 = pd.concat([r4,high]).reset_index(drop=True)"
   ]
  },
  {
   "cell_type": "markdown",
   "metadata": {},
   "source": [
    "### 実験"
   ]
  },
  {
   "cell_type": "code",
   "execution_count": 53,
   "metadata": {},
   "outputs": [],
   "source": [
    "from src.utils.high_and_low_clf import High_and_Low_Classifier"
   ]
  },
  {
   "cell_type": "code",
   "execution_count": 54,
   "metadata": {},
   "outputs": [],
   "source": [
    "use_col = df.columns\n",
    "un_use_col = ['id','y','log_y','high_price_flag','location', 'access', 'layout', 'age', 'direction', 'area','floor', 'bath_toilet', 'kitchen',\n",
    "                 'broadcast_com', 'facilities','parking', 'enviroment', 'structure', 'contract_period',\n",
    "                 'walk_time','23ku',\n",
    "                #  'area_num_countall','floor_countall','room_num_countall','facilities_countall','age_countall','area_num_countall',\n",
    "                ]\n",
    "mdl = lgb.Booster(model_file='mdl/1011_lgbm.txt')\n",
    "feature_importances = pd.DataFrame()\n",
    "feature_importances['feature'] = mdl.feature_name()\n",
    "feature_importances['importance'] = mdl.feature_importance()\n",
    "feature_importances = feature_importances.sort_values(by='importance', ascending=False)\n",
    "\n",
    "un_use_col += list(feature_importances[feature_importances['importance']==0]['feature'])\n",
    "\n",
    "use_col = [c for c in use_col if c not in un_use_col]"
   ]
  },
  {
   "cell_type": "code",
   "execution_count": 55,
   "metadata": {},
   "outputs": [
    {
     "data": {
      "text/plain": [
       "89"
      ]
     },
     "execution_count": 55,
     "metadata": {},
     "output_type": "execute_result"
    }
   ],
   "source": [
    "len(use_col)"
   ]
  },
  {
   "cell_type": "code",
   "execution_count": 56,
   "metadata": {},
   "outputs": [
    {
     "name": "stdout",
     "output_type": "stream",
     "text": [
      "['area_num', 'age_month', 'max_floor', 'room_num', 'L', 'D', 'K', 'R', 'north', 'structure_orderd', 'min_time', 'avg_time', 'bicycle_parking', 'car_parking', 'bike_parking', 'toilet', 'bath', 'sm_doku', 'kanso', 'onsui', 'oidaki', 'b_t_split', 'teiki_syakuya', 'e_num', 'dis_ave', 'dis_min', 'school', 'univ', 'area_par_room', '23ku_mean_std', 'facilities_0', 'facilities_1', 'facilities_2', 'facilities_3', 'facilities_4', 'facilities_5', 'facilities_6', 'facilities_10', 'facilities_11', 'facilities_12', 'facilities_14', 'facilities_15', 'facilities_16', 'facilities_18', 'facilities_19', 'facilities_20', 'facilities_23', 'facilities_24', 'facilities_26', 'facilities_27', 'facilities_28', 'facilities_29', 'facilities_30', 'facilities_32', 'facilities_33', 'facilities_35', 'facilities_36', 'bc_0', 'bc_1', 'bc_2', 'bc_3', 'bc_4', 'bc_5', 'bc_7', 'kitchen_0', 'kitchen_1', 'kitchen_2', 'kitchen_3', 'kitchen_4', 'kitchen_5', 'kitchen_6', 'kitchen_8', 'kitchen_9', 'kitchen_11', 'kitchen_12', 'kitchen_13', 'kitchen_14', 'kitchen_15', 'kitchen_16', '23ku_countall', 'area_num_countall', 'age_countall', 'floor_countall', 'max_floor_countall', 'layout_countall', 'direction_countall', 'facilities_countall', 'latitude', 'longitude']\n"
     ]
    }
   ],
   "source": [
    "print(use_col)"
   ]
  },
  {
   "cell_type": "code",
   "execution_count": 57,
   "metadata": {},
   "outputs": [],
   "source": [
    "X_train,X_test,y_train,y_test = train_test_split(r1.loc[:,use_col],r1.loc[:,'high_price_flag'],random_state=0,test_size=0.3)"
   ]
  },
  {
   "cell_type": "code",
   "execution_count": 58,
   "metadata": {},
   "outputs": [],
   "source": [
    "def objective(trial):\n",
    "\n",
    "    learning_rate = trial.suggest_uniform('learning_rate', 0, 1.0)\n",
    "    num_leaves = trial.suggest_int('num_leaves', 10, 2**8)\n",
    "    max_depth = trial.suggest_int('max_depth', 3, 8)\n",
    "\n",
    "    lgbm_params = {\n",
    "        'task': 'train',\n",
    "        # \"metrics\": 'xentropy',\n",
    "        'boosting_type': 'gbdt',\n",
    "        'objective': 'binary',\n",
    "        \"learning_rate\": learning_rate,\n",
    "        \"num_leaves\": num_leaves,\n",
    "        \"max_depth\": max_depth,\n",
    "        \"n_jobs\": 1,\n",
    "        'verbose': -1,\n",
    "        \"seed\": 0\n",
    "    }\n",
    "\n",
    "    mdl = lgb.LGBMClassifier(**lgbm_params)\n",
    "    stratifiedkfold = StratifiedKFold(n_splits=3)\n",
    "    scores = cross_val_score(mdl,X_train,y_train,cv=stratifiedkfold,scoring='neg_log_loss')\n",
    "    score = np.mean(scores)\n",
    "\n",
    "    return score"
   ]
  },
  {
   "cell_type": "code",
   "execution_count": 59,
   "metadata": {},
   "outputs": [
    {
     "name": "stderr",
     "output_type": "stream",
     "text": [
      "\u001b[32m[I 2019-10-13 21:19:49,392]\u001b[0m Finished trial#0 resulted in value: -0.11925770162843767. Current best value is -0.11925770162843767 with parameters: {'learning_rate': 0.8136290549750936, 'num_leaves': 149, 'max_depth': 4}.\u001b[0m\n",
      "\u001b[32m[I 2019-10-13 21:19:49,586]\u001b[0m Finished trial#1 resulted in value: -0.11028312246706688. Current best value is -0.11925770162843767 with parameters: {'learning_rate': 0.8136290549750936, 'num_leaves': 149, 'max_depth': 4}.\u001b[0m\n",
      "\u001b[32m[I 2019-10-13 21:19:49,779]\u001b[0m Finished trial#2 resulted in value: -0.10235377276527878. Current best value is -0.11925770162843767 with parameters: {'learning_rate': 0.8136290549750936, 'num_leaves': 149, 'max_depth': 4}.\u001b[0m\n",
      "\u001b[32m[I 2019-10-13 21:19:49,981]\u001b[0m Finished trial#3 resulted in value: -0.11179689666823045. Current best value is -0.11925770162843767 with parameters: {'learning_rate': 0.8136290549750936, 'num_leaves': 149, 'max_depth': 4}.\u001b[0m\n",
      "\u001b[32m[I 2019-10-13 21:19:50,164]\u001b[0m Finished trial#4 resulted in value: -0.11335831787883911. Current best value is -0.11925770162843767 with parameters: {'learning_rate': 0.8136290549750936, 'num_leaves': 149, 'max_depth': 4}.\u001b[0m\n",
      "\u001b[32m[I 2019-10-13 21:19:50,399]\u001b[0m Finished trial#5 resulted in value: -0.09860449897277516. Current best value is -0.11925770162843767 with parameters: {'learning_rate': 0.8136290549750936, 'num_leaves': 149, 'max_depth': 4}.\u001b[0m\n",
      "\u001b[32m[I 2019-10-13 21:19:50,585]\u001b[0m Finished trial#6 resulted in value: -0.13207710021825708. Current best value is -0.13207710021825708 with parameters: {'learning_rate': 0.8200823230165528, 'num_leaves': 193, 'max_depth': 4}.\u001b[0m\n",
      "\u001b[32m[I 2019-10-13 21:19:50,819]\u001b[0m Finished trial#7 resulted in value: -0.10623650457234096. Current best value is -0.13207710021825708 with parameters: {'learning_rate': 0.8200823230165528, 'num_leaves': 193, 'max_depth': 4}.\u001b[0m\n",
      "\u001b[32m[I 2019-10-13 21:19:51,005]\u001b[0m Finished trial#8 resulted in value: -0.1069943391055393. Current best value is -0.13207710021825708 with parameters: {'learning_rate': 0.8200823230165528, 'num_leaves': 193, 'max_depth': 4}.\u001b[0m\n",
      "\u001b[32m[I 2019-10-13 21:19:51,218]\u001b[0m Finished trial#9 resulted in value: -0.10615096497061018. Current best value is -0.13207710021825708 with parameters: {'learning_rate': 0.8200823230165528, 'num_leaves': 193, 'max_depth': 4}.\u001b[0m\n"
     ]
    }
   ],
   "source": [
    "study = optuna.create_study()\n",
    "study.optimize(objective,n_trials=10)"
   ]
  },
  {
   "cell_type": "code",
   "execution_count": 60,
   "metadata": {},
   "outputs": [
    {
     "data": {
      "text/plain": [
       "LGBMClassifier(boosting_type='gbdt', class_weight=None, colsample_bytree=1.0,\n",
       "               importance_type='split', learning_rate=0.8200823230165528,\n",
       "               max_depth=4, min_child_samples=20, min_child_weight=0.001,\n",
       "               min_split_gain=0.0, n_estimators=100, n_jobs=-1, num_leaves=193,\n",
       "               objective=None, random_state=None, reg_alpha=0.0, reg_lambda=0.0,\n",
       "               silent=True, subsample=1.0, subsample_for_bin=200000,\n",
       "               subsample_freq=0)"
      ]
     },
     "execution_count": 60,
     "metadata": {},
     "output_type": "execute_result"
    }
   ],
   "source": [
    "mdl = lgb.LGBMClassifier(**study.best_params)\n",
    "mdl.fit(X_train,y_train)"
   ]
  },
  {
   "cell_type": "code",
   "execution_count": 61,
   "metadata": {},
   "outputs": [],
   "source": [
    "pred_train = mdl.predict_proba(X_train)[:,1]\n",
    "pred_train = [1 if i>0.5 else 0 for i in pred_train]\n",
    "pred_test = mdl.predict_proba(X_test)[:,1]\n",
    "pred_test = [1 if i>0.5 else 0 for i in pred_test]\n",
    "train_accuracy = accuracy_score(y_train,pred_train)\n",
    "test_accuracy = accuracy_score(y_test,pred_test)"
   ]
  },
  {
   "cell_type": "code",
   "execution_count": 62,
   "metadata": {},
   "outputs": [
    {
     "data": {
      "text/plain": [
       "array([[225,   1],\n",
       "       [  2,  77]])"
      ]
     },
     "execution_count": 62,
     "metadata": {},
     "output_type": "execute_result"
    }
   ],
   "source": [
    "confusion_matrix(y_test,pred_test)"
   ]
  },
  {
   "cell_type": "code",
   "execution_count": 63,
   "metadata": {},
   "outputs": [
    {
     "data": {
      "text/plain": [
       "array([[30665,   547],\n",
       "       [    2,   252]])"
      ]
     },
     "execution_count": 63,
     "metadata": {},
     "output_type": "execute_result"
    }
   ],
   "source": [
    "pred_r2 = mdl.predict_proba(df.loc[:,use_col])[:,1]\n",
    "pred_r2 = [1 if i>0.5 else 0 for i in pred_r2]\n",
    "confusion_matrix(df.loc[:,'high_price_flag'],pred_r2)"
   ]
  },
  {
   "cell_type": "markdown",
   "metadata": {},
   "source": [
    "### 関数定義"
   ]
  },
  {
   "cell_type": "code",
   "execution_count": 64,
   "metadata": {},
   "outputs": [],
   "source": [
    "def model_train(r,use_col):\n",
    "    X_train,X_test,y_train,y_test = train_test_split(r.loc[:,use_col],r.loc[:,'high_price_flag'],random_state=0,test_size=0.3)\n",
    "    def objective(trial):\n",
    "\n",
    "        learning_rate = trial.suggest_uniform('learning_rate', 0, 1.0)\n",
    "        num_leaves = trial.suggest_int('num_leaves', 10, 2**8)\n",
    "        max_depth = trial.suggest_int('max_depth', 3, 8)\n",
    "\n",
    "        lgbm_params = {\n",
    "            'task': 'train',\n",
    "            'boosting_type': 'gbdt',\n",
    "            'objective': 'binary',\n",
    "            \"learning_rate\": learning_rate,\n",
    "            \"num_leaves\": num_leaves,\n",
    "            \"max_depth\": max_depth,\n",
    "            \"n_jobs\": 1,\n",
    "            'verbose': -1,\n",
    "            \"seed\": 0\n",
    "        }\n",
    "\n",
    "        mdl = lgb.LGBMClassifier(**lgbm_params)\n",
    "        stratifiedkfold = StratifiedKFold(n_splits=3)\n",
    "        scores = cross_val_score(mdl,X_train,y_train,cv=stratifiedkfold,scoring='neg_log_loss')\n",
    "        score = np.mean(scores)\n",
    "\n",
    "        return score\n",
    "    \n",
    "    study = optuna.create_study()\n",
    "    study.optimize(objective,n_trials=10)\n",
    "    \n",
    "    mdl = lgb.LGBMClassifier(**study.best_params)\n",
    "    mdl.fit(X_train,y_train)\n",
    "    \n",
    "    pred_test = mdl.predict_proba(X_test)[:,1]\n",
    "    pred_test = [1 if i>0.5 else 0 for i in pred_test]\n",
    "    test_accuracy = accuracy_score(y_test,pred_test)\n",
    "    \n",
    "    trained_mdl = mdl.fit(r.loc[:,use_col],r.loc[:,'high_price_flag'])\n",
    "    \n",
    "    return test_accuracy,confusion_matrix(y_test,pred_test),trained_mdl"
   ]
  },
  {
   "cell_type": "code",
   "execution_count": 65,
   "metadata": {},
   "outputs": [
    {
     "name": "stderr",
     "output_type": "stream",
     "text": [
      "\u001b[32m[I 2019-10-13 21:19:51,683]\u001b[0m Finished trial#0 resulted in value: -0.07197853085659534. Current best value is -0.07197853085659534 with parameters: {'learning_rate': 0.08790424544562137, 'num_leaves': 64, 'max_depth': 5}.\u001b[0m\n",
      "\u001b[32m[I 2019-10-13 21:19:51,932]\u001b[0m Finished trial#1 resulted in value: -0.08846749384942047. Current best value is -0.08846749384942047 with parameters: {'learning_rate': 0.11554416253421962, 'num_leaves': 46, 'max_depth': 5}.\u001b[0m\n",
      "\u001b[32m[I 2019-10-13 21:19:52,130]\u001b[0m Finished trial#2 resulted in value: -0.1041742695285159. Current best value is -0.1041742695285159 with parameters: {'learning_rate': 0.622523271536627, 'num_leaves': 180, 'max_depth': 7}.\u001b[0m\n",
      "\u001b[32m[I 2019-10-13 21:19:52,315]\u001b[0m Finished trial#3 resulted in value: -0.10007216552907372. Current best value is -0.1041742695285159 with parameters: {'learning_rate': 0.622523271536627, 'num_leaves': 180, 'max_depth': 7}.\u001b[0m\n",
      "\u001b[32m[I 2019-10-13 21:19:52,509]\u001b[0m Finished trial#4 resulted in value: -0.09998799964546151. Current best value is -0.1041742695285159 with parameters: {'learning_rate': 0.622523271536627, 'num_leaves': 180, 'max_depth': 7}.\u001b[0m\n",
      "\u001b[32m[I 2019-10-13 21:19:52,701]\u001b[0m Finished trial#5 resulted in value: -0.11136980317913543. Current best value is -0.11136980317913543 with parameters: {'learning_rate': 0.7843105797602885, 'num_leaves': 164, 'max_depth': 7}.\u001b[0m\n",
      "\u001b[32m[I 2019-10-13 21:19:52,913]\u001b[0m Finished trial#6 resulted in value: -0.10817905915259657. Current best value is -0.11136980317913543 with parameters: {'learning_rate': 0.7843105797602885, 'num_leaves': 164, 'max_depth': 7}.\u001b[0m\n",
      "\u001b[32m[I 2019-10-13 21:19:53,108]\u001b[0m Finished trial#7 resulted in value: -0.11343246076569129. Current best value is -0.11343246076569129 with parameters: {'learning_rate': 0.5955673522831276, 'num_leaves': 117, 'max_depth': 5}.\u001b[0m\n",
      "\u001b[32m[I 2019-10-13 21:19:53,376]\u001b[0m Finished trial#8 resulted in value: -0.09020645679357604. Current best value is -0.11343246076569129 with parameters: {'learning_rate': 0.5955673522831276, 'num_leaves': 117, 'max_depth': 5}.\u001b[0m\n",
      "\u001b[32m[I 2019-10-13 21:19:53,576]\u001b[0m Finished trial#9 resulted in value: -0.11966586713117551. Current best value is -0.11966586713117551 with parameters: {'learning_rate': 0.35697864405798496, 'num_leaves': 136, 'max_depth': 3}.\u001b[0m\n"
     ]
    },
    {
     "name": "stdout",
     "output_type": "stream",
     "text": [
      "---------------------\n",
      "test acc:  0.9868852459016394\n",
      "[[225   1]\n",
      " [  3  76]]\n",
      "---------------------\n"
     ]
    },
    {
     "name": "stderr",
     "output_type": "stream",
     "text": [
      "\u001b[32m[I 2019-10-13 21:19:53,888]\u001b[0m Finished trial#0 resulted in value: -0.14999642668255497. Current best value is -0.14999642668255497 with parameters: {'learning_rate': 0.44450843752212876, 'num_leaves': 114, 'max_depth': 4}.\u001b[0m\n",
      "\u001b[32m[I 2019-10-13 21:19:54,137]\u001b[0m Finished trial#1 resulted in value: -0.10959265068792522. Current best value is -0.14999642668255497 with parameters: {'learning_rate': 0.44450843752212876, 'num_leaves': 114, 'max_depth': 4}.\u001b[0m\n",
      "\u001b[32m[I 2019-10-13 21:19:54,346]\u001b[0m Finished trial#2 resulted in value: -0.16228574275645516. Current best value is -0.16228574275645516 with parameters: {'learning_rate': 0.4591867228677591, 'num_leaves': 55, 'max_depth': 7}.\u001b[0m\n",
      "\u001b[32m[I 2019-10-13 21:19:54,529]\u001b[0m Finished trial#3 resulted in value: -0.1745108543944813. Current best value is -0.1745108543944813 with parameters: {'learning_rate': 0.9657915848539949, 'num_leaves': 80, 'max_depth': 5}.\u001b[0m\n",
      "\u001b[32m[I 2019-10-13 21:19:54,721]\u001b[0m Finished trial#4 resulted in value: -0.17608832833113777. Current best value is -0.17608832833113777 with parameters: {'learning_rate': 0.8140401397240778, 'num_leaves': 75, 'max_depth': 6}.\u001b[0m\n",
      "\u001b[32m[I 2019-10-13 21:19:54,907]\u001b[0m Finished trial#5 resulted in value: -0.17266702418116534. Current best value is -0.17608832833113777 with parameters: {'learning_rate': 0.8140401397240778, 'num_leaves': 75, 'max_depth': 6}.\u001b[0m\n",
      "\u001b[32m[I 2019-10-13 21:19:55,110]\u001b[0m Finished trial#6 resulted in value: -0.14777611970155172. Current best value is -0.17608832833113777 with parameters: {'learning_rate': 0.8140401397240778, 'num_leaves': 75, 'max_depth': 6}.\u001b[0m\n",
      "\u001b[32m[I 2019-10-13 21:19:55,350]\u001b[0m Finished trial#7 resulted in value: -0.0991457447981492. Current best value is -0.17608832833113777 with parameters: {'learning_rate': 0.8140401397240778, 'num_leaves': 75, 'max_depth': 6}.\u001b[0m\n",
      "\u001b[32m[I 2019-10-13 21:19:55,559]\u001b[0m Finished trial#8 resulted in value: -0.15174295316540695. Current best value is -0.17608832833113777 with parameters: {'learning_rate': 0.8140401397240778, 'num_leaves': 75, 'max_depth': 6}.\u001b[0m\n",
      "\u001b[32m[I 2019-10-13 21:19:55,750]\u001b[0m Finished trial#9 resulted in value: -0.15746377197612885. Current best value is -0.17608832833113777 with parameters: {'learning_rate': 0.8140401397240778, 'num_leaves': 75, 'max_depth': 6}.\u001b[0m\n"
     ]
    },
    {
     "name": "stdout",
     "output_type": "stream",
     "text": [
      "---------------------\n",
      "test acc:  0.9868852459016394\n",
      "[[223   3]\n",
      " [  1  78]]\n",
      "---------------------\n"
     ]
    },
    {
     "name": "stderr",
     "output_type": "stream",
     "text": [
      "\u001b[32m[I 2019-10-13 21:19:56,054]\u001b[0m Finished trial#0 resulted in value: -0.144657857780867. Current best value is -0.144657857780867 with parameters: {'learning_rate': 0.5963512594187522, 'num_leaves': 157, 'max_depth': 8}.\u001b[0m\n",
      "\u001b[32m[I 2019-10-13 21:19:56,282]\u001b[0m Finished trial#1 resulted in value: -0.1549507478237798. Current best value is -0.1549507478237798 with parameters: {'learning_rate': 0.34978726916479375, 'num_leaves': 222, 'max_depth': 8}.\u001b[0m\n",
      "\u001b[32m[I 2019-10-13 21:19:56,488]\u001b[0m Finished trial#2 resulted in value: -0.1412583489657198. Current best value is -0.1549507478237798 with parameters: {'learning_rate': 0.34978726916479375, 'num_leaves': 222, 'max_depth': 8}.\u001b[0m\n",
      "\u001b[32m[I 2019-10-13 21:19:56,716]\u001b[0m Finished trial#3 resulted in value: -0.13879406768072544. Current best value is -0.1549507478237798 with parameters: {'learning_rate': 0.34978726916479375, 'num_leaves': 222, 'max_depth': 8}.\u001b[0m\n",
      "\u001b[32m[I 2019-10-13 21:19:56,929]\u001b[0m Finished trial#4 resulted in value: -0.13521173510117176. Current best value is -0.1549507478237798 with parameters: {'learning_rate': 0.34978726916479375, 'num_leaves': 222, 'max_depth': 8}.\u001b[0m\n",
      "\u001b[32m[I 2019-10-13 21:19:57,120]\u001b[0m Finished trial#5 resulted in value: -0.15324144301856557. Current best value is -0.1549507478237798 with parameters: {'learning_rate': 0.34978726916479375, 'num_leaves': 222, 'max_depth': 8}.\u001b[0m\n",
      "\u001b[32m[I 2019-10-13 21:19:57,307]\u001b[0m Finished trial#6 resulted in value: -0.12899229413774913. Current best value is -0.1549507478237798 with parameters: {'learning_rate': 0.34978726916479375, 'num_leaves': 222, 'max_depth': 8}.\u001b[0m\n",
      "\u001b[32m[I 2019-10-13 21:19:57,531]\u001b[0m Finished trial#7 resulted in value: -0.12982250899018824. Current best value is -0.1549507478237798 with parameters: {'learning_rate': 0.34978726916479375, 'num_leaves': 222, 'max_depth': 8}.\u001b[0m\n",
      "\u001b[32m[I 2019-10-13 21:19:57,723]\u001b[0m Finished trial#8 resulted in value: -0.1326179319118436. Current best value is -0.1549507478237798 with parameters: {'learning_rate': 0.34978726916479375, 'num_leaves': 222, 'max_depth': 8}.\u001b[0m\n",
      "\u001b[32m[I 2019-10-13 21:19:57,929]\u001b[0m Finished trial#9 resulted in value: -0.1395045233260218. Current best value is -0.1549507478237798 with parameters: {'learning_rate': 0.34978726916479375, 'num_leaves': 222, 'max_depth': 8}.\u001b[0m\n"
     ]
    },
    {
     "name": "stdout",
     "output_type": "stream",
     "text": [
      "---------------------\n",
      "test acc:  0.9770491803278688\n",
      "[[221   5]\n",
      " [  2  77]]\n",
      "---------------------\n"
     ]
    },
    {
     "name": "stderr",
     "output_type": "stream",
     "text": [
      "\u001b[32m[I 2019-10-13 21:19:58,282]\u001b[0m Finished trial#0 resulted in value: -0.07891782519862893. Current best value is -0.07891782519862893 with parameters: {'learning_rate': 0.11495524677808655, 'num_leaves': 117, 'max_depth': 3}.\u001b[0m\n",
      "\u001b[32m[I 2019-10-13 21:19:58,505]\u001b[0m Finished trial#1 resulted in value: -0.1114142273486769. Current best value is -0.1114142273486769 with parameters: {'learning_rate': 0.3460955207380677, 'num_leaves': 64, 'max_depth': 8}.\u001b[0m\n",
      "\u001b[32m[I 2019-10-13 21:19:58,704]\u001b[0m Finished trial#2 resulted in value: -0.13187694674861528. Current best value is -0.13187694674861528 with parameters: {'learning_rate': 0.4295581523413391, 'num_leaves': 173, 'max_depth': 3}.\u001b[0m\n",
      "\u001b[32m[I 2019-10-13 21:19:58,885]\u001b[0m Finished trial#3 resulted in value: -0.11124590040599501. Current best value is -0.13187694674861528 with parameters: {'learning_rate': 0.4295581523413391, 'num_leaves': 173, 'max_depth': 3}.\u001b[0m\n",
      "\u001b[32m[I 2019-10-13 21:19:59,110]\u001b[0m Finished trial#4 resulted in value: -0.12466095137747844. Current best value is -0.13187694674861528 with parameters: {'learning_rate': 0.4295581523413391, 'num_leaves': 173, 'max_depth': 3}.\u001b[0m\n",
      "\u001b[32m[I 2019-10-13 21:19:59,289]\u001b[0m Finished trial#5 resulted in value: -0.1214079294867166. Current best value is -0.13187694674861528 with parameters: {'learning_rate': 0.4295581523413391, 'num_leaves': 173, 'max_depth': 3}.\u001b[0m\n",
      "\u001b[32m[I 2019-10-13 21:19:59,479]\u001b[0m Finished trial#6 resulted in value: -0.12136930155988251. Current best value is -0.13187694674861528 with parameters: {'learning_rate': 0.4295581523413391, 'num_leaves': 173, 'max_depth': 3}.\u001b[0m\n",
      "\u001b[32m[I 2019-10-13 21:19:59,676]\u001b[0m Finished trial#7 resulted in value: -0.13398997397210688. Current best value is -0.13398997397210688 with parameters: {'learning_rate': 0.6716817859415859, 'num_leaves': 165, 'max_depth': 7}.\u001b[0m\n",
      "\u001b[32m[I 2019-10-13 21:19:59,929]\u001b[0m Finished trial#8 resulted in value: -0.1091096264723254. Current best value is -0.13398997397210688 with parameters: {'learning_rate': 0.6716817859415859, 'num_leaves': 165, 'max_depth': 7}.\u001b[0m\n",
      "\u001b[32m[I 2019-10-13 21:20:00,132]\u001b[0m Finished trial#9 resulted in value: -0.11467992198727216. Current best value is -0.13398997397210688 with parameters: {'learning_rate': 0.6716817859415859, 'num_leaves': 165, 'max_depth': 7}.\u001b[0m\n"
     ]
    },
    {
     "name": "stdout",
     "output_type": "stream",
     "text": [
      "---------------------\n",
      "test acc:  0.9737704918032787\n",
      "[[219   7]\n",
      " [  1  78]]\n",
      "---------------------\n"
     ]
    }
   ],
   "source": [
    "for i,r in enumerate([r1,r2,r3,r4]):\n",
    "    acc,cm,m = model_train(r,use_col)\n",
    "    print('---------------------')\n",
    "    print('test acc: ',acc)\n",
    "    print(cm)\n",
    "    print('---------------------')\n",
    "    with open('mdl/1011_hl{}.pkl'.format(str(i)), 'wb') as f:\n",
    "        pickle.dump(m, f)"
   ]
  },
  {
   "cell_type": "code",
   "execution_count": null,
   "metadata": {},
   "outputs": [],
   "source": []
  }
 ],
 "metadata": {
  "kernelspec": {
   "display_name": "Python 3",
   "language": "python",
   "name": "python3"
  },
  "language_info": {
   "codemirror_mode": {
    "name": "ipython",
    "version": 3
   },
   "file_extension": ".py",
   "mimetype": "text/x-python",
   "name": "python",
   "nbconvert_exporter": "python",
   "pygments_lexer": "ipython3",
   "version": "3.7.4"
  },
  "toc": {
   "base_numbering": 1,
   "nav_menu": {},
   "number_sections": true,
   "sideBar": true,
   "skip_h1_title": false,
   "title_cell": "Table of Contents",
   "title_sidebar": "Contents",
   "toc_cell": false,
   "toc_position": {
    "height": "calc(100% - 180px)",
    "left": "10px",
    "top": "150px",
    "width": "384px"
   },
   "toc_section_display": true,
   "toc_window_display": false
  },
  "varInspector": {
   "cols": {
    "lenName": 16,
    "lenType": 16,
    "lenVar": 40
   },
   "kernels_config": {
    "python": {
     "delete_cmd_postfix": "",
     "delete_cmd_prefix": "del ",
     "library": "var_list.py",
     "varRefreshCmd": "print(var_dic_list())"
    },
    "r": {
     "delete_cmd_postfix": ") ",
     "delete_cmd_prefix": "rm(",
     "library": "var_list.r",
     "varRefreshCmd": "cat(var_dic_list()) "
    }
   },
   "types_to_exclude": [
    "module",
    "function",
    "builtin_function_or_method",
    "instance",
    "_Feature"
   ],
   "window_display": false
  }
 },
 "nbformat": 4,
 "nbformat_minor": 2
}
