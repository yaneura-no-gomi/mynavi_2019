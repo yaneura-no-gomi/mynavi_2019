{
 "cells": [
  {
   "cell_type": "code",
   "execution_count": 8,
   "metadata": {},
   "outputs": [],
   "source": [
    "import sys\n",
    "import os\n",
    "import glob\n",
    "import re\n",
    "\n",
    "import pandas as pd\n",
    "import numpy as np\n",
    "from tqdm import tqdm"
   ]
  },
  {
   "cell_type": "code",
   "execution_count": 10,
   "metadata": {},
   "outputs": [
    {
     "data": {
      "text/html": [
       "<div>\n",
       "<style scoped>\n",
       "    .dataframe tbody tr th:only-of-type {\n",
       "        vertical-align: middle;\n",
       "    }\n",
       "\n",
       "    .dataframe tbody tr th {\n",
       "        vertical-align: top;\n",
       "    }\n",
       "\n",
       "    .dataframe thead th {\n",
       "        text-align: right;\n",
       "    }\n",
       "</style>\n",
       "<table border=\"1\" class=\"dataframe\">\n",
       "  <thead>\n",
       "    <tr style=\"text-align: right;\">\n",
       "      <th></th>\n",
       "      <th>id</th>\n",
       "      <th>y</th>\n",
       "      <th>location</th>\n",
       "      <th>access</th>\n",
       "      <th>layout</th>\n",
       "      <th>age</th>\n",
       "      <th>direction</th>\n",
       "      <th>area</th>\n",
       "      <th>floor</th>\n",
       "      <th>bath_toilet</th>\n",
       "      <th>...</th>\n",
       "      <th>enviroment</th>\n",
       "      <th>structure</th>\n",
       "      <th>contact_period</th>\n",
       "      <th>max_floor</th>\n",
       "      <th>room_num</th>\n",
       "      <th>L</th>\n",
       "      <th>D</th>\n",
       "      <th>K</th>\n",
       "      <th>S</th>\n",
       "      <th>north</th>\n",
       "    </tr>\n",
       "  </thead>\n",
       "  <tbody>\n",
       "    <tr>\n",
       "      <td>0</td>\n",
       "      <td>1</td>\n",
       "      <td>75000</td>\n",
       "      <td>東京都北区滝野川３丁目</td>\n",
       "      <td>都営三田線\\t西巣鴨駅\\t徒歩4分\\t\\t埼京線\\t板橋駅\\t徒歩14分\\t\\t都電荒川線\\...</td>\n",
       "      <td>1K</td>\n",
       "      <td>117</td>\n",
       "      <td>南東</td>\n",
       "      <td>20.01</td>\n",
       "      <td>1</td>\n",
       "      <td>専用バス／\\t専用トイレ／\\tバス・トイレ別／\\tシャワー／\\t浴室乾燥機\\t／\\t温水洗浄便座</td>\n",
       "      <td>...</td>\n",
       "      <td>【小学校】 495m\\t【大学】 461m\\t【小学校】 962m\\t【公園】 1103m\\...</td>\n",
       "      <td>RC（鉄筋コンクリート）</td>\n",
       "      <td>2年間</td>\n",
       "      <td>12</td>\n",
       "      <td>1</td>\n",
       "      <td>0</td>\n",
       "      <td>0</td>\n",
       "      <td>1</td>\n",
       "      <td>0</td>\n",
       "      <td>0</td>\n",
       "    </tr>\n",
       "    <tr>\n",
       "      <td>1</td>\n",
       "      <td>2</td>\n",
       "      <td>76000</td>\n",
       "      <td>東京都中央区月島３丁目</td>\n",
       "      <td>都営大江戸線\\t勝どき駅\\t徒歩5分\\t\\t有楽町線\\t月島駅\\t徒歩9分\\t\\t日比谷線\\...</td>\n",
       "      <td>1R</td>\n",
       "      <td>538</td>\n",
       "      <td>NaN</td>\n",
       "      <td>16.50</td>\n",
       "      <td>5</td>\n",
       "      <td>専用トイレ／\\tシャワー／\\t温水洗浄便座</td>\n",
       "      <td>...</td>\n",
       "      <td>【スーパー】 1283m</td>\n",
       "      <td>鉄骨造</td>\n",
       "      <td>2年間</td>\n",
       "      <td>10</td>\n",
       "      <td>1</td>\n",
       "      <td>0</td>\n",
       "      <td>0</td>\n",
       "      <td>0</td>\n",
       "      <td>0</td>\n",
       "      <td>0</td>\n",
       "    </tr>\n",
       "    <tr>\n",
       "      <td>2</td>\n",
       "      <td>3</td>\n",
       "      <td>110000</td>\n",
       "      <td>東京都渋谷区笹塚２丁目</td>\n",
       "      <td>京王線\\t笹塚駅\\t徒歩6分\\t\\t京王線\\t代田橋駅\\t徒歩7分\\t\\t京王線\\t明大前駅...</td>\n",
       "      <td>1K</td>\n",
       "      <td>102</td>\n",
       "      <td>南</td>\n",
       "      <td>22.05</td>\n",
       "      <td>12</td>\n",
       "      <td>専用バス／\\t専用トイレ／\\tバス・トイレ別／\\tシャワー／\\t浴室乾燥機\\t／\\t温水洗浄...</td>\n",
       "      <td>...</td>\n",
       "      <td>【スーパー】 89m\\t【コンビニ】 184m\\t【コンビニ】 392m\\t【スーパー】 492m</td>\n",
       "      <td>RC（鉄筋コンクリート）</td>\n",
       "      <td>2年間</td>\n",
       "      <td>15</td>\n",
       "      <td>1</td>\n",
       "      <td>0</td>\n",
       "      <td>0</td>\n",
       "      <td>1</td>\n",
       "      <td>0</td>\n",
       "      <td>0</td>\n",
       "    </tr>\n",
       "  </tbody>\n",
       "</table>\n",
       "<p>3 rows × 24 columns</p>\n",
       "</div>"
      ],
      "text/plain": [
       "   id       y     location                                             access  \\\n",
       "0   1   75000  東京都北区滝野川３丁目  都営三田線\\t西巣鴨駅\\t徒歩4分\\t\\t埼京線\\t板橋駅\\t徒歩14分\\t\\t都電荒川線\\...   \n",
       "1   2   76000  東京都中央区月島３丁目  都営大江戸線\\t勝どき駅\\t徒歩5分\\t\\t有楽町線\\t月島駅\\t徒歩9分\\t\\t日比谷線\\...   \n",
       "2   3  110000  東京都渋谷区笹塚２丁目  京王線\\t笹塚駅\\t徒歩6分\\t\\t京王線\\t代田橋駅\\t徒歩7分\\t\\t京王線\\t明大前駅...   \n",
       "\n",
       "  layout  age direction   area  floor  \\\n",
       "0     1K  117        南東  20.01      1   \n",
       "1     1R  538       NaN  16.50      5   \n",
       "2     1K  102         南  22.05     12   \n",
       "\n",
       "                                         bath_toilet  ...  \\\n",
       "0   専用バス／\\t専用トイレ／\\tバス・トイレ別／\\tシャワー／\\t浴室乾燥機\\t／\\t温水洗浄便座  ...   \n",
       "1                              専用トイレ／\\tシャワー／\\t温水洗浄便座  ...   \n",
       "2  専用バス／\\t専用トイレ／\\tバス・トイレ別／\\tシャワー／\\t浴室乾燥機\\t／\\t温水洗浄...  ...   \n",
       "\n",
       "                                          enviroment     structure  \\\n",
       "0  【小学校】 495m\\t【大学】 461m\\t【小学校】 962m\\t【公園】 1103m\\...  RC（鉄筋コンクリート）   \n",
       "1                                       【スーパー】 1283m           鉄骨造   \n",
       "2  【スーパー】 89m\\t【コンビニ】 184m\\t【コンビニ】 392m\\t【スーパー】 492m  RC（鉄筋コンクリート）   \n",
       "\n",
       "  contact_period max_floor room_num  L  D  K  S  north  \n",
       "0            2年間        12        1  0  0  1  0      0  \n",
       "1            2年間        10        1  0  0  0  0      0  \n",
       "2            2年間        15        1  0  0  1  0      0  \n",
       "\n",
       "[3 rows x 24 columns]"
      ]
     },
     "execution_count": 10,
     "metadata": {},
     "output_type": "execute_result"
    }
   ],
   "source": [
    "df = pd.read_csv('../processed_data/train_v2.csv')\n",
    "df.head(3)"
   ]
  },
  {
   "cell_type": "markdown",
   "metadata": {},
   "source": [
    "### structure の前処理"
   ]
  },
  {
   "cell_type": "markdown",
   "metadata": {},
   "source": [
    "- コストの面からみた順序尺度が存在すると仮定"
   ]
  },
  {
   "cell_type": "code",
   "execution_count": 11,
   "metadata": {},
   "outputs": [
    {
     "data": {
      "text/plain": [
       "RC（鉄筋コンクリート）                   17505\n",
       "木造                              5512\n",
       "鉄骨造                             3726\n",
       "SRC（鉄骨鉄筋コンクリート）                 2429\n",
       "軽量鉄骨                            1812\n",
       "ALC（軽量気泡コンクリート）                  297\n",
       "その他                              136\n",
       "PC（プレキャスト・コンクリート（鉄筋コンクリート））       46\n",
       "HPC（プレキャスト・コンクリート（重量鉄骨））           4\n",
       "ブロック                               3\n",
       "Name: structure, dtype: int64"
      ]
     },
     "execution_count": 11,
     "metadata": {},
     "output_type": "execute_result"
    }
   ],
   "source": [
    "df['structure'].value_counts()"
   ]
  },
  {
   "cell_type": "code",
   "execution_count": 12,
   "metadata": {},
   "outputs": [
    {
     "data": {
      "text/plain": [
       "array(['RC（鉄筋コンクリート）', '鉄骨造', '木造', 'SRC（鉄骨鉄筋コンクリート）', '軽量鉄骨',\n",
       "       'ALC（軽量気泡コンクリート）', 'その他', 'PC（プレキャスト・コンクリート（鉄筋コンクリート））',\n",
       "       'HPC（プレキャスト・コンクリート（重量鉄骨））', 'ブロック'], dtype=object)"
      ]
     },
     "execution_count": 12,
     "metadata": {},
     "output_type": "execute_result"
    }
   ],
   "source": [
    "df['structure'].unique()"
   ]
  },
  {
   "cell_type": "code",
   "execution_count": 13,
   "metadata": {},
   "outputs": [
    {
     "data": {
      "text/plain": [
       "0"
      ]
     },
     "execution_count": 13,
     "metadata": {},
     "output_type": "execute_result"
    }
   ],
   "source": [
    "df['structure'].isnull().sum()"
   ]
  },
  {
   "cell_type": "code",
   "execution_count": 18,
   "metadata": {},
   "outputs": [
    {
     "data": {
      "text/html": [
       "<div>\n",
       "<style scoped>\n",
       "    .dataframe tbody tr th:only-of-type {\n",
       "        vertical-align: middle;\n",
       "    }\n",
       "\n",
       "    .dataframe tbody tr th {\n",
       "        vertical-align: top;\n",
       "    }\n",
       "\n",
       "    .dataframe thead th {\n",
       "        text-align: right;\n",
       "    }\n",
       "</style>\n",
       "<table border=\"1\" class=\"dataframe\">\n",
       "  <thead>\n",
       "    <tr style=\"text-align: right;\">\n",
       "      <th></th>\n",
       "      <th>count</th>\n",
       "      <th>mean</th>\n",
       "      <th>std</th>\n",
       "      <th>min</th>\n",
       "      <th>25%</th>\n",
       "      <th>50%</th>\n",
       "      <th>75%</th>\n",
       "      <th>max</th>\n",
       "    </tr>\n",
       "    <tr>\n",
       "      <th>structure</th>\n",
       "      <th></th>\n",
       "      <th></th>\n",
       "      <th></th>\n",
       "      <th></th>\n",
       "      <th></th>\n",
       "      <th></th>\n",
       "      <th></th>\n",
       "      <th></th>\n",
       "    </tr>\n",
       "  </thead>\n",
       "  <tbody>\n",
       "    <tr>\n",
       "      <td>ALC（軽量気泡コンクリート）</td>\n",
       "      <td>297.0</td>\n",
       "      <td>107103.703704</td>\n",
       "      <td>33898.290135</td>\n",
       "      <td>48000.0</td>\n",
       "      <td>81000.0</td>\n",
       "      <td>102000.0</td>\n",
       "      <td>127000.0</td>\n",
       "      <td>255000.0</td>\n",
       "    </tr>\n",
       "    <tr>\n",
       "      <td>HPC（プレキャスト・コンクリート（重量鉄骨））</td>\n",
       "      <td>4.0</td>\n",
       "      <td>93000.000000</td>\n",
       "      <td>41044.691090</td>\n",
       "      <td>55000.0</td>\n",
       "      <td>69250.0</td>\n",
       "      <td>83500.0</td>\n",
       "      <td>107250.0</td>\n",
       "      <td>150000.0</td>\n",
       "    </tr>\n",
       "    <tr>\n",
       "      <td>PC（プレキャスト・コンクリート（鉄筋コンクリート））</td>\n",
       "      <td>46.0</td>\n",
       "      <td>106195.652174</td>\n",
       "      <td>21821.110640</td>\n",
       "      <td>69000.0</td>\n",
       "      <td>89250.0</td>\n",
       "      <td>102500.0</td>\n",
       "      <td>117250.0</td>\n",
       "      <td>159000.0</td>\n",
       "    </tr>\n",
       "    <tr>\n",
       "      <td>RC（鉄筋コンクリート）</td>\n",
       "      <td>17505.0</td>\n",
       "      <td>134366.134704</td>\n",
       "      <td>78147.007990</td>\n",
       "      <td>32000.0</td>\n",
       "      <td>92000.0</td>\n",
       "      <td>115000.0</td>\n",
       "      <td>155000.0</td>\n",
       "      <td>2500000.0</td>\n",
       "    </tr>\n",
       "    <tr>\n",
       "      <td>SRC（鉄骨鉄筋コンクリート）</td>\n",
       "      <td>2429.0</td>\n",
       "      <td>142525.408399</td>\n",
       "      <td>85043.488185</td>\n",
       "      <td>42000.0</td>\n",
       "      <td>91000.0</td>\n",
       "      <td>120000.0</td>\n",
       "      <td>165000.0</td>\n",
       "      <td>1120000.0</td>\n",
       "    </tr>\n",
       "    <tr>\n",
       "      <td>その他</td>\n",
       "      <td>136.0</td>\n",
       "      <td>81724.448529</td>\n",
       "      <td>22799.471945</td>\n",
       "      <td>36000.0</td>\n",
       "      <td>70000.0</td>\n",
       "      <td>78000.0</td>\n",
       "      <td>85625.0</td>\n",
       "      <td>200000.0</td>\n",
       "    </tr>\n",
       "    <tr>\n",
       "      <td>ブロック</td>\n",
       "      <td>3.0</td>\n",
       "      <td>60000.000000</td>\n",
       "      <td>15000.000000</td>\n",
       "      <td>45000.0</td>\n",
       "      <td>52500.0</td>\n",
       "      <td>60000.0</td>\n",
       "      <td>67500.0</td>\n",
       "      <td>75000.0</td>\n",
       "    </tr>\n",
       "    <tr>\n",
       "      <td>木造</td>\n",
       "      <td>5512.0</td>\n",
       "      <td>83823.202286</td>\n",
       "      <td>56896.651521</td>\n",
       "      <td>25000.0</td>\n",
       "      <td>57000.0</td>\n",
       "      <td>69000.0</td>\n",
       "      <td>90000.0</td>\n",
       "      <td>1450000.0</td>\n",
       "    </tr>\n",
       "    <tr>\n",
       "      <td>軽量鉄骨</td>\n",
       "      <td>1812.0</td>\n",
       "      <td>94458.160044</td>\n",
       "      <td>34477.836339</td>\n",
       "      <td>40000.0</td>\n",
       "      <td>70000.0</td>\n",
       "      <td>87000.0</td>\n",
       "      <td>113075.0</td>\n",
       "      <td>450000.0</td>\n",
       "    </tr>\n",
       "    <tr>\n",
       "      <td>鉄骨造</td>\n",
       "      <td>3726.0</td>\n",
       "      <td>91993.971014</td>\n",
       "      <td>51622.538387</td>\n",
       "      <td>35000.0</td>\n",
       "      <td>67000.0</td>\n",
       "      <td>80000.0</td>\n",
       "      <td>102000.0</td>\n",
       "      <td>1390000.0</td>\n",
       "    </tr>\n",
       "  </tbody>\n",
       "</table>\n",
       "</div>"
      ],
      "text/plain": [
       "                               count           mean           std      min  \\\n",
       "structure                                                                    \n",
       "ALC（軽量気泡コンクリート）                297.0  107103.703704  33898.290135  48000.0   \n",
       "HPC（プレキャスト・コンクリート（重量鉄骨））         4.0   93000.000000  41044.691090  55000.0   \n",
       "PC（プレキャスト・コンクリート（鉄筋コンクリート））     46.0  106195.652174  21821.110640  69000.0   \n",
       "RC（鉄筋コンクリート）                 17505.0  134366.134704  78147.007990  32000.0   \n",
       "SRC（鉄骨鉄筋コンクリート）               2429.0  142525.408399  85043.488185  42000.0   \n",
       "その他                            136.0   81724.448529  22799.471945  36000.0   \n",
       "ブロック                             3.0   60000.000000  15000.000000  45000.0   \n",
       "木造                            5512.0   83823.202286  56896.651521  25000.0   \n",
       "軽量鉄骨                          1812.0   94458.160044  34477.836339  40000.0   \n",
       "鉄骨造                           3726.0   91993.971014  51622.538387  35000.0   \n",
       "\n",
       "                                 25%       50%       75%        max  \n",
       "structure                                                            \n",
       "ALC（軽量気泡コンクリート）              81000.0  102000.0  127000.0   255000.0  \n",
       "HPC（プレキャスト・コンクリート（重量鉄骨））     69250.0   83500.0  107250.0   150000.0  \n",
       "PC（プレキャスト・コンクリート（鉄筋コンクリート））  89250.0  102500.0  117250.0   159000.0  \n",
       "RC（鉄筋コンクリート）                 92000.0  115000.0  155000.0  2500000.0  \n",
       "SRC（鉄骨鉄筋コンクリート）              91000.0  120000.0  165000.0  1120000.0  \n",
       "その他                          70000.0   78000.0   85625.0   200000.0  \n",
       "ブロック                         52500.0   60000.0   67500.0    75000.0  \n",
       "木造                           57000.0   69000.0   90000.0  1450000.0  \n",
       "軽量鉄骨                         70000.0   87000.0  113075.0   450000.0  \n",
       "鉄骨造                          67000.0   80000.0  102000.0  1390000.0  "
      ]
     },
     "execution_count": 18,
     "metadata": {},
     "output_type": "execute_result"
    }
   ],
   "source": [
    "df.groupby(by='structure').describe()['y']"
   ]
  },
  {
   "cell_type": "markdown",
   "metadata": {},
   "source": [
    "- SRC, RC, ALC, PC, 軽量鉄骨,　HPC,　鉄骨造,その他・木造,ブロックの順に,8,7,6,5,4,3,2,1,0に置き換え"
   ]
  },
  {
   "cell_type": "code",
   "execution_count": 37,
   "metadata": {},
   "outputs": [],
   "source": [
    "tmp = df['structure'].map({\n",
    "    'SRC（鉄骨鉄筋コンクリート）': 8,\n",
    "    'RC（鉄筋コンクリート）': 7,\n",
    "    'ALC（軽量気泡コンクリート）': 6,\n",
    "    'PC（プレキャスト・コンクリート（鉄筋コンクリート））': 5,\n",
    "    '軽量鉄骨': 4,\n",
    "    'HPC（プレキャスト・コンクリート（重量鉄骨））': 3,\n",
    "    '鉄骨造':  2,\n",
    "    'その他': 1,\n",
    "    '木造': 1,\n",
    "    'ブロック': 0\n",
    "})"
   ]
  },
  {
   "cell_type": "code",
   "execution_count": 39,
   "metadata": {},
   "outputs": [
    {
     "data": {
      "text/plain": [
       "0"
      ]
     },
     "execution_count": 39,
     "metadata": {},
     "output_type": "execute_result"
    }
   ],
   "source": [
    "tmp.isnull().sum()"
   ]
  },
  {
   "cell_type": "code",
   "execution_count": 40,
   "metadata": {},
   "outputs": [],
   "source": [
    "df['structure'] = tmp"
   ]
  },
  {
   "cell_type": "code",
   "execution_count": 42,
   "metadata": {},
   "outputs": [],
   "source": [
    "df.to_csv('../processed_data/train_v3.csv')"
   ]
  },
  {
   "cell_type": "code",
   "execution_count": 43,
   "metadata": {},
   "outputs": [
    {
     "data": {
      "text/plain": [
       "id           0\n",
       "所在地          0\n",
       "アクセス         0\n",
       "間取り          0\n",
       "築年数          0\n",
       "方角        2808\n",
       "面積           0\n",
       "所在階          1\n",
       "バス・トイレ     320\n",
       "キッチン       635\n",
       "放送・通信     3454\n",
       "室内設備        73\n",
       "駐車場       5356\n",
       "周辺環境      9241\n",
       "建物構造         0\n",
       "契約期間      6981\n",
       "dtype: int64"
      ]
     },
     "execution_count": 43,
     "metadata": {},
     "output_type": "execute_result"
    }
   ],
   "source": [
    "test = pd.read_csv('../data/test.csv')\n",
    "test.isnull().sum()"
   ]
  },
  {
   "cell_type": "code",
   "execution_count": 45,
   "metadata": {},
   "outputs": [
    {
     "data": {
      "text/plain": [
       "0    7\n",
       "1    2\n",
       "2    7\n",
       "3    7\n",
       "4    1\n",
       "Name: structure, dtype: int64"
      ]
     },
     "execution_count": 45,
     "metadata": {},
     "output_type": "execute_result"
    }
   ],
   "source": [
    "pd.read_csv('../hoge.csv')['structure'].head()"
   ]
  },
  {
   "cell_type": "code",
   "execution_count": 46,
   "metadata": {},
   "outputs": [
    {
     "data": {
      "text/plain": [
       "array(['東京都北区滝野川３丁目', '東京都中央区月島３丁目', '東京都渋谷区笹塚２丁目', ...,\n",
       "       '東京都足立区堀之内２丁目13-3', '東京都千代田区神田三崎町２丁目１０－１０', '東京都世田谷区太子堂５丁目17-1'],\n",
       "      dtype=object)"
      ]
     },
     "execution_count": 46,
     "metadata": {},
     "output_type": "execute_result"
    }
   ],
   "source": [
    "df['location'].unique()"
   ]
  },
  {
   "cell_type": "code",
   "execution_count": 47,
   "metadata": {},
   "outputs": [
    {
     "data": {
      "text/plain": [
       "Index(['id', 'y', 'location', 'access', 'layout', 'age', 'direction', 'area',\n",
       "       'floor', 'bath_toilet', 'kitchen', 'broadcast_com', 'facilities',\n",
       "       'parking', 'enviroment', 'structure', 'contact_period', 'max_floor',\n",
       "       'room_num', 'L', 'D', 'K', 'S', 'north'],\n",
       "      dtype='object')"
      ]
     },
     "execution_count": 47,
     "metadata": {},
     "output_type": "execute_result"
    }
   ],
   "source": [
    "df.columns"
   ]
  },
  {
   "cell_type": "code",
   "execution_count": 54,
   "metadata": {},
   "outputs": [
    {
     "ename": "KeyError",
     "evalue": "(0, 0)",
     "output_type": "error",
     "traceback": [
      "\u001b[0;31m---------------------------------------------------------------------------\u001b[0m",
      "\u001b[0;31mKeyError\u001b[0m                                  Traceback (most recent call last)",
      "\u001b[0;32m<ipython-input-54-fafbd5f6000b>\u001b[0m in \u001b[0;36m<module>\u001b[0;34m\u001b[0m\n\u001b[0;32m----> 1\u001b[0;31m \u001b[0mdf\u001b[0m\u001b[0;34m[\u001b[0m\u001b[0;34m'access'\u001b[0m\u001b[0;34m]\u001b[0m\u001b[0;34m.\u001b[0m\u001b[0mapply\u001b[0m\u001b[0;34m(\u001b[0m\u001b[0;32mlambda\u001b[0m \u001b[0mx\u001b[0m\u001b[0;34m:\u001b[0m \u001b[0mx\u001b[0m\u001b[0;34m.\u001b[0m\u001b[0msplit\u001b[0m\u001b[0;34m(\u001b[0m\u001b[0;34m'\\t'\u001b[0m\u001b[0;34m)\u001b[0m\u001b[0;34m)\u001b[0m\u001b[0;34m[\u001b[0m\u001b[0;36m0\u001b[0m\u001b[0;34m,\u001b[0m\u001b[0;36m0\u001b[0m\u001b[0;34m]\u001b[0m\u001b[0;34m\u001b[0m\u001b[0;34m\u001b[0m\u001b[0m\n\u001b[0m",
      "\u001b[0;32m~/.pyenv/versions/3.7.4/envs/mynavi_2019/lib/python3.7/site-packages/pandas/core/series.py\u001b[0m in \u001b[0;36m__getitem__\u001b[0;34m(self, key)\u001b[0m\n\u001b[1;32m   1066\u001b[0m         \u001b[0mkey\u001b[0m \u001b[0;34m=\u001b[0m \u001b[0mcom\u001b[0m\u001b[0;34m.\u001b[0m\u001b[0mapply_if_callable\u001b[0m\u001b[0;34m(\u001b[0m\u001b[0mkey\u001b[0m\u001b[0;34m,\u001b[0m \u001b[0mself\u001b[0m\u001b[0;34m)\u001b[0m\u001b[0;34m\u001b[0m\u001b[0;34m\u001b[0m\u001b[0m\n\u001b[1;32m   1067\u001b[0m         \u001b[0;32mtry\u001b[0m\u001b[0;34m:\u001b[0m\u001b[0;34m\u001b[0m\u001b[0;34m\u001b[0m\u001b[0m\n\u001b[0;32m-> 1068\u001b[0;31m             \u001b[0mresult\u001b[0m \u001b[0;34m=\u001b[0m \u001b[0mself\u001b[0m\u001b[0;34m.\u001b[0m\u001b[0mindex\u001b[0m\u001b[0;34m.\u001b[0m\u001b[0mget_value\u001b[0m\u001b[0;34m(\u001b[0m\u001b[0mself\u001b[0m\u001b[0;34m,\u001b[0m \u001b[0mkey\u001b[0m\u001b[0;34m)\u001b[0m\u001b[0;34m\u001b[0m\u001b[0;34m\u001b[0m\u001b[0m\n\u001b[0m\u001b[1;32m   1069\u001b[0m \u001b[0;34m\u001b[0m\u001b[0m\n\u001b[1;32m   1070\u001b[0m             \u001b[0;32mif\u001b[0m \u001b[0;32mnot\u001b[0m \u001b[0mis_scalar\u001b[0m\u001b[0;34m(\u001b[0m\u001b[0mresult\u001b[0m\u001b[0;34m)\u001b[0m\u001b[0;34m:\u001b[0m\u001b[0;34m\u001b[0m\u001b[0;34m\u001b[0m\u001b[0m\n",
      "\u001b[0;32m~/.pyenv/versions/3.7.4/envs/mynavi_2019/lib/python3.7/site-packages/pandas/core/indexes/base.py\u001b[0m in \u001b[0;36mget_value\u001b[0;34m(self, series, key)\u001b[0m\n\u001b[1;32m   4728\u001b[0m         \u001b[0mk\u001b[0m \u001b[0;34m=\u001b[0m \u001b[0mself\u001b[0m\u001b[0;34m.\u001b[0m\u001b[0m_convert_scalar_indexer\u001b[0m\u001b[0;34m(\u001b[0m\u001b[0mk\u001b[0m\u001b[0;34m,\u001b[0m \u001b[0mkind\u001b[0m\u001b[0;34m=\u001b[0m\u001b[0;34m\"getitem\"\u001b[0m\u001b[0;34m)\u001b[0m\u001b[0;34m\u001b[0m\u001b[0;34m\u001b[0m\u001b[0m\n\u001b[1;32m   4729\u001b[0m         \u001b[0;32mtry\u001b[0m\u001b[0;34m:\u001b[0m\u001b[0;34m\u001b[0m\u001b[0;34m\u001b[0m\u001b[0m\n\u001b[0;32m-> 4730\u001b[0;31m             \u001b[0;32mreturn\u001b[0m \u001b[0mself\u001b[0m\u001b[0;34m.\u001b[0m\u001b[0m_engine\u001b[0m\u001b[0;34m.\u001b[0m\u001b[0mget_value\u001b[0m\u001b[0;34m(\u001b[0m\u001b[0ms\u001b[0m\u001b[0;34m,\u001b[0m \u001b[0mk\u001b[0m\u001b[0;34m,\u001b[0m \u001b[0mtz\u001b[0m\u001b[0;34m=\u001b[0m\u001b[0mgetattr\u001b[0m\u001b[0;34m(\u001b[0m\u001b[0mseries\u001b[0m\u001b[0;34m.\u001b[0m\u001b[0mdtype\u001b[0m\u001b[0;34m,\u001b[0m \u001b[0;34m\"tz\"\u001b[0m\u001b[0;34m,\u001b[0m \u001b[0;32mNone\u001b[0m\u001b[0;34m)\u001b[0m\u001b[0;34m)\u001b[0m\u001b[0;34m\u001b[0m\u001b[0;34m\u001b[0m\u001b[0m\n\u001b[0m\u001b[1;32m   4731\u001b[0m         \u001b[0;32mexcept\u001b[0m \u001b[0mKeyError\u001b[0m \u001b[0;32mas\u001b[0m \u001b[0me1\u001b[0m\u001b[0;34m:\u001b[0m\u001b[0;34m\u001b[0m\u001b[0;34m\u001b[0m\u001b[0m\n\u001b[1;32m   4732\u001b[0m             \u001b[0;32mif\u001b[0m \u001b[0mlen\u001b[0m\u001b[0;34m(\u001b[0m\u001b[0mself\u001b[0m\u001b[0;34m)\u001b[0m \u001b[0;34m>\u001b[0m \u001b[0;36m0\u001b[0m \u001b[0;32mand\u001b[0m \u001b[0;34m(\u001b[0m\u001b[0mself\u001b[0m\u001b[0;34m.\u001b[0m\u001b[0mholds_integer\u001b[0m\u001b[0;34m(\u001b[0m\u001b[0;34m)\u001b[0m \u001b[0;32mor\u001b[0m \u001b[0mself\u001b[0m\u001b[0;34m.\u001b[0m\u001b[0mis_boolean\u001b[0m\u001b[0;34m(\u001b[0m\u001b[0;34m)\u001b[0m\u001b[0;34m)\u001b[0m\u001b[0;34m:\u001b[0m\u001b[0;34m\u001b[0m\u001b[0;34m\u001b[0m\u001b[0m\n",
      "\u001b[0;32mpandas/_libs/index.pyx\u001b[0m in \u001b[0;36mpandas._libs.index.IndexEngine.get_value\u001b[0;34m()\u001b[0m\n",
      "\u001b[0;32mpandas/_libs/index.pyx\u001b[0m in \u001b[0;36mpandas._libs.index.IndexEngine.get_value\u001b[0;34m()\u001b[0m\n",
      "\u001b[0;32mpandas/_libs/index.pyx\u001b[0m in \u001b[0;36mpandas._libs.index.IndexEngine.get_loc\u001b[0;34m()\u001b[0m\n",
      "\u001b[0;32mpandas/_libs/index_class_helper.pxi\u001b[0m in \u001b[0;36mpandas._libs.index.Int64Engine._check_type\u001b[0;34m()\u001b[0m\n",
      "\u001b[0;31mKeyError\u001b[0m: (0, 0)"
     ]
    }
   ],
   "source": [
    "df['access'].apply(lambda x: x.split('\\t'))[0,0"
   ]
  },
  {
   "cell_type": "code",
   "execution_count": null,
   "metadata": {},
   "outputs": [],
   "source": []
  }
 ],
 "metadata": {
  "kernelspec": {
   "display_name": "Python 3",
   "language": "python",
   "name": "python3"
  },
  "language_info": {
   "codemirror_mode": {
    "name": "ipython",
    "version": 3
   },
   "file_extension": ".py",
   "mimetype": "text/x-python",
   "name": "python",
   "nbconvert_exporter": "python",
   "pygments_lexer": "ipython3",
   "version": "3.7.4"
  }
 },
 "nbformat": 4,
 "nbformat_minor": 2
}
