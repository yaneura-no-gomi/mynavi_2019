{
 "cells": [
  {
   "cell_type": "code",
   "execution_count": 30,
   "metadata": {},
   "outputs": [],
   "source": [
    "import pandas as pd\n",
    "import lightgbm as lgb\n",
    "import numpy as np\n",
    "from sklearn.model_selection import KFold, cross_val_score, train_test_split\n",
    "from sklearn.model_selection import StratifiedKFold\n",
    "from sklearn.metrics import accuracy_score,confusion_matrix\n",
    "import optuna"
   ]
  },
  {
   "cell_type": "markdown",
   "metadata": {},
   "source": [
    "### train"
   ]
  },
  {
   "cell_type": "code",
   "execution_count": 31,
   "metadata": {},
   "outputs": [],
   "source": [
    "df = pd.read_csv('../data/train.csv')\n",
    "ido_kdo = pd.read_csv('../processed_data/place_train.csv')"
   ]
  },
  {
   "cell_type": "code",
   "execution_count": 32,
   "metadata": {},
   "outputs": [
    {
     "data": {
      "text/plain": [
       "(31470, 31468)"
      ]
     },
     "execution_count": 32,
     "metadata": {},
     "output_type": "execute_result"
    }
   ],
   "source": [
    "len(df),len(ido_kdo)"
   ]
  },
  {
   "cell_type": "code",
   "execution_count": 33,
   "metadata": {},
   "outputs": [
    {
     "data": {
      "text/plain": [
       "Index(['Unnamed: 0', 'latitude', 'longitude'], dtype='object')"
      ]
     },
     "execution_count": 33,
     "metadata": {},
     "output_type": "execute_result"
    }
   ],
   "source": [
    "ido_kdo.columns"
   ]
  },
  {
   "cell_type": "code",
   "execution_count": 34,
   "metadata": {},
   "outputs": [],
   "source": [
    "ido_kdo = ido_kdo.drop('Unnamed: 0',axis=1)"
   ]
  },
  {
   "cell_type": "code",
   "execution_count": 35,
   "metadata": {},
   "outputs": [],
   "source": [
    "id_ = []\n",
    "for i in df['id']:\n",
    "    if i!=20232 and i!=20428:\n",
    "        id_.append(i)"
   ]
  },
  {
   "cell_type": "code",
   "execution_count": 36,
   "metadata": {},
   "outputs": [],
   "source": [
    "ido_kdo['id'] = id_"
   ]
  },
  {
   "cell_type": "code",
   "execution_count": 37,
   "metadata": {},
   "outputs": [
    {
     "data": {
      "text/html": [
       "<div>\n",
       "<style scoped>\n",
       "    .dataframe tbody tr th:only-of-type {\n",
       "        vertical-align: middle;\n",
       "    }\n",
       "\n",
       "    .dataframe tbody tr th {\n",
       "        vertical-align: top;\n",
       "    }\n",
       "\n",
       "    .dataframe thead th {\n",
       "        text-align: right;\n",
       "    }\n",
       "</style>\n",
       "<table border=\"1\" class=\"dataframe\">\n",
       "  <thead>\n",
       "    <tr style=\"text-align: right;\">\n",
       "      <th></th>\n",
       "      <th>latitude</th>\n",
       "      <th>longitude</th>\n",
       "      <th>id</th>\n",
       "    </tr>\n",
       "  </thead>\n",
       "  <tbody>\n",
       "    <tr>\n",
       "      <td>0</td>\n",
       "      <td>35.748456</td>\n",
       "      <td>139.728800</td>\n",
       "      <td>1</td>\n",
       "    </tr>\n",
       "    <tr>\n",
       "      <td>1</td>\n",
       "      <td>35.662885</td>\n",
       "      <td>139.778627</td>\n",
       "      <td>2</td>\n",
       "    </tr>\n",
       "    <tr>\n",
       "      <td>2</td>\n",
       "      <td>35.675153</td>\n",
       "      <td>139.666255</td>\n",
       "      <td>3</td>\n",
       "    </tr>\n",
       "    <tr>\n",
       "      <td>3</td>\n",
       "      <td>35.700170</td>\n",
       "      <td>139.648465</td>\n",
       "      <td>4</td>\n",
       "    </tr>\n",
       "    <tr>\n",
       "      <td>4</td>\n",
       "      <td>35.766431</td>\n",
       "      <td>139.872321</td>\n",
       "      <td>5</td>\n",
       "    </tr>\n",
       "    <tr>\n",
       "      <td>...</td>\n",
       "      <td>...</td>\n",
       "      <td>...</td>\n",
       "      <td>...</td>\n",
       "    </tr>\n",
       "    <tr>\n",
       "      <td>31463</td>\n",
       "      <td>35.782103</td>\n",
       "      <td>139.677100</td>\n",
       "      <td>31466</td>\n",
       "    </tr>\n",
       "    <tr>\n",
       "      <td>31464</td>\n",
       "      <td>35.648356</td>\n",
       "      <td>139.668082</td>\n",
       "      <td>31467</td>\n",
       "    </tr>\n",
       "    <tr>\n",
       "      <td>31465</td>\n",
       "      <td>35.673436</td>\n",
       "      <td>139.830096</td>\n",
       "      <td>31468</td>\n",
       "    </tr>\n",
       "    <tr>\n",
       "      <td>31466</td>\n",
       "      <td>35.703700</td>\n",
       "      <td>139.668807</td>\n",
       "      <td>31469</td>\n",
       "    </tr>\n",
       "    <tr>\n",
       "      <td>31467</td>\n",
       "      <td>35.741599</td>\n",
       "      <td>139.691776</td>\n",
       "      <td>31470</td>\n",
       "    </tr>\n",
       "  </tbody>\n",
       "</table>\n",
       "<p>31468 rows × 3 columns</p>\n",
       "</div>"
      ],
      "text/plain": [
       "        latitude   longitude     id\n",
       "0      35.748456  139.728800      1\n",
       "1      35.662885  139.778627      2\n",
       "2      35.675153  139.666255      3\n",
       "3      35.700170  139.648465      4\n",
       "4      35.766431  139.872321      5\n",
       "...          ...         ...    ...\n",
       "31463  35.782103  139.677100  31466\n",
       "31464  35.648356  139.668082  31467\n",
       "31465  35.673436  139.830096  31468\n",
       "31466  35.703700  139.668807  31469\n",
       "31467  35.741599  139.691776  31470\n",
       "\n",
       "[31468 rows x 3 columns]"
      ]
     },
     "execution_count": 37,
     "metadata": {},
     "output_type": "execute_result"
    }
   ],
   "source": [
    "ido_kdo"
   ]
  },
  {
   "cell_type": "code",
   "execution_count": 39,
   "metadata": {},
   "outputs": [],
   "source": [
    "ido_kdo.to_csv('../processed_data/place_train.csv',index=False)"
   ]
  },
  {
   "cell_type": "markdown",
   "metadata": {},
   "source": [
    "### test"
   ]
  },
  {
   "cell_type": "code",
   "execution_count": 40,
   "metadata": {},
   "outputs": [],
   "source": [
    "df = pd.read_csv('../data/test.csv')\n",
    "ido_kdo = pd.read_csv('../processed_data/place_test.csv')"
   ]
  },
  {
   "cell_type": "code",
   "execution_count": 41,
   "metadata": {},
   "outputs": [
    {
     "data": {
      "text/plain": [
       "(31262, 31262)"
      ]
     },
     "execution_count": 41,
     "metadata": {},
     "output_type": "execute_result"
    }
   ],
   "source": [
    "len(df),len(ido_kdo)"
   ]
  },
  {
   "cell_type": "code",
   "execution_count": 42,
   "metadata": {},
   "outputs": [],
   "source": [
    "ido_kdo = ido_kdo.drop('Unnamed: 0',axis=1)"
   ]
  },
  {
   "cell_type": "code",
   "execution_count": 43,
   "metadata": {},
   "outputs": [],
   "source": [
    "id_ = []\n",
    "for i in df['id']:\n",
    "    id_.append(i)"
   ]
  },
  {
   "cell_type": "code",
   "execution_count": 44,
   "metadata": {},
   "outputs": [],
   "source": [
    "ido_kdo['id'] = id_"
   ]
  },
  {
   "cell_type": "code",
   "execution_count": 45,
   "metadata": {},
   "outputs": [
    {
     "data": {
      "text/html": [
       "<div>\n",
       "<style scoped>\n",
       "    .dataframe tbody tr th:only-of-type {\n",
       "        vertical-align: middle;\n",
       "    }\n",
       "\n",
       "    .dataframe tbody tr th {\n",
       "        vertical-align: top;\n",
       "    }\n",
       "\n",
       "    .dataframe thead th {\n",
       "        text-align: right;\n",
       "    }\n",
       "</style>\n",
       "<table border=\"1\" class=\"dataframe\">\n",
       "  <thead>\n",
       "    <tr style=\"text-align: right;\">\n",
       "      <th></th>\n",
       "      <th>latitude</th>\n",
       "      <th>longitude</th>\n",
       "      <th>id</th>\n",
       "    </tr>\n",
       "  </thead>\n",
       "  <tbody>\n",
       "    <tr>\n",
       "      <td>0</td>\n",
       "      <td>35.617720</td>\n",
       "      <td>139.652763</td>\n",
       "      <td>31471</td>\n",
       "    </tr>\n",
       "    <tr>\n",
       "      <td>1</td>\n",
       "      <td>35.617776</td>\n",
       "      <td>139.672774</td>\n",
       "      <td>31472</td>\n",
       "    </tr>\n",
       "    <tr>\n",
       "      <td>2</td>\n",
       "      <td>35.742006</td>\n",
       "      <td>139.709040</td>\n",
       "      <td>31473</td>\n",
       "    </tr>\n",
       "    <tr>\n",
       "      <td>3</td>\n",
       "      <td>35.675001</td>\n",
       "      <td>139.657326</td>\n",
       "      <td>31474</td>\n",
       "    </tr>\n",
       "    <tr>\n",
       "      <td>4</td>\n",
       "      <td>35.687855</td>\n",
       "      <td>139.652224</td>\n",
       "      <td>31475</td>\n",
       "    </tr>\n",
       "    <tr>\n",
       "      <td>...</td>\n",
       "      <td>...</td>\n",
       "      <td>...</td>\n",
       "      <td>...</td>\n",
       "    </tr>\n",
       "    <tr>\n",
       "      <td>31257</td>\n",
       "      <td>35.742059</td>\n",
       "      <td>139.718584</td>\n",
       "      <td>62728</td>\n",
       "    </tr>\n",
       "    <tr>\n",
       "      <td>31258</td>\n",
       "      <td>35.693369</td>\n",
       "      <td>139.777349</td>\n",
       "      <td>62729</td>\n",
       "    </tr>\n",
       "    <tr>\n",
       "      <td>31259</td>\n",
       "      <td>35.728150</td>\n",
       "      <td>139.667420</td>\n",
       "      <td>62730</td>\n",
       "    </tr>\n",
       "    <tr>\n",
       "      <td>31260</td>\n",
       "      <td>35.686153</td>\n",
       "      <td>139.736463</td>\n",
       "      <td>62731</td>\n",
       "    </tr>\n",
       "    <tr>\n",
       "      <td>31261</td>\n",
       "      <td>35.583678</td>\n",
       "      <td>139.707093</td>\n",
       "      <td>62732</td>\n",
       "    </tr>\n",
       "  </tbody>\n",
       "</table>\n",
       "<p>31262 rows × 3 columns</p>\n",
       "</div>"
      ],
      "text/plain": [
       "        latitude   longitude     id\n",
       "0      35.617720  139.652763  31471\n",
       "1      35.617776  139.672774  31472\n",
       "2      35.742006  139.709040  31473\n",
       "3      35.675001  139.657326  31474\n",
       "4      35.687855  139.652224  31475\n",
       "...          ...         ...    ...\n",
       "31257  35.742059  139.718584  62728\n",
       "31258  35.693369  139.777349  62729\n",
       "31259  35.728150  139.667420  62730\n",
       "31260  35.686153  139.736463  62731\n",
       "31261  35.583678  139.707093  62732\n",
       "\n",
       "[31262 rows x 3 columns]"
      ]
     },
     "execution_count": 45,
     "metadata": {},
     "output_type": "execute_result"
    }
   ],
   "source": [
    "ido_kdo"
   ]
  },
  {
   "cell_type": "code",
   "execution_count": 46,
   "metadata": {},
   "outputs": [],
   "source": [
    "ido_kdo.to_csv('../processed_data/place_test.csv',index=False)"
   ]
  },
  {
   "cell_type": "code",
   "execution_count": null,
   "metadata": {},
   "outputs": [],
   "source": []
  }
 ],
 "metadata": {
  "kernelspec": {
   "display_name": "Python 3",
   "language": "python",
   "name": "python3"
  },
  "language_info": {
   "codemirror_mode": {
    "name": "ipython",
    "version": 3
   },
   "file_extension": ".py",
   "mimetype": "text/x-python",
   "name": "python",
   "nbconvert_exporter": "python",
   "pygments_lexer": "ipython3",
   "version": "3.7.4"
  },
  "toc": {
   "base_numbering": 1,
   "nav_menu": {},
   "number_sections": true,
   "sideBar": true,
   "skip_h1_title": false,
   "title_cell": "Table of Contents",
   "title_sidebar": "Contents",
   "toc_cell": false,
   "toc_position": {},
   "toc_section_display": true,
   "toc_window_display": false
  },
  "varInspector": {
   "cols": {
    "lenName": 16,
    "lenType": 16,
    "lenVar": 40
   },
   "kernels_config": {
    "python": {
     "delete_cmd_postfix": "",
     "delete_cmd_prefix": "del ",
     "library": "var_list.py",
     "varRefreshCmd": "print(var_dic_list())"
    },
    "r": {
     "delete_cmd_postfix": ") ",
     "delete_cmd_prefix": "rm(",
     "library": "var_list.r",
     "varRefreshCmd": "cat(var_dic_list()) "
    }
   },
   "types_to_exclude": [
    "module",
    "function",
    "builtin_function_or_method",
    "instance",
    "_Feature"
   ],
   "window_display": false
  }
 },
 "nbformat": 4,
 "nbformat_minor": 2
}
