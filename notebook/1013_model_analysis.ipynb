{
 "cells": [
  {
   "cell_type": "code",
   "execution_count": 56,
   "metadata": {},
   "outputs": [],
   "source": [
    "import glob\n",
    "import os\n",
    "import re\n",
    "import sys\n",
    "import warnings\n",
    "\n",
    "import matplotlib.pyplot as plt\n",
    "import numpy as np\n",
    "import pandas as pd\n",
    "import seaborn as sns\n",
    "from sklearn.preprocessing import StandardScaler\n",
    "from tqdm import tqdm\n",
    "import lightgbm as lgb\n",
    "from scipy import stats\n",
    "\n",
    "warnings.filterwarnings('ignore')"
   ]
  },
  {
   "cell_type": "code",
   "execution_count": 16,
   "metadata": {},
   "outputs": [],
   "source": [
    "train = pd.read_csv('../processed_data/train_v12.csv')\n",
    "test = pd.read_csv('../processed_data/test_v12.csv')"
   ]
  },
  {
   "cell_type": "code",
   "execution_count": 17,
   "metadata": {},
   "outputs": [
    {
     "data": {
      "text/plain": [
       "Index(['enviroment', 'structure', 'contract_period', 'log_y', 'area_num',\n",
       "       'age_month', 'max_floor', 'room_num', 'L', 'D',\n",
       "       ...\n",
       "       'area_num_countall', 'age_countall', 'floor_countall',\n",
       "       'max_floor_countall', 'layout_countall', 'direction_countall',\n",
       "       'facilities_countall', 'contract_period_countall', 'latitude',\n",
       "       'longitude'],\n",
       "      dtype='object', length=111)"
      ]
     },
     "execution_count": 17,
     "metadata": {},
     "output_type": "execute_result"
    }
   ],
   "source": [
    "train.columns[14:]"
   ]
  },
  {
   "cell_type": "code",
   "execution_count": 18,
   "metadata": {},
   "outputs": [
    {
     "data": {
      "text/plain": [
       "Index(['structure', 'contract_period', 'area_num', 'age_month', 'max_floor',\n",
       "       'room_num', 'L', 'D', 'K', 'R',\n",
       "       ...\n",
       "       'age_countall', 'floor_countall', 'max_floor_countall',\n",
       "       'layout_countall', 'direction_countall', 'facilities_countall',\n",
       "       'contract_period_countall', 'latitude', 'longitude', 'label'],\n",
       "      dtype='object', length=109)"
      ]
     },
     "execution_count": 18,
     "metadata": {},
     "output_type": "execute_result"
    }
   ],
   "source": [
    "test.columns[14:]"
   ]
  },
  {
   "cell_type": "code",
   "execution_count": 19,
   "metadata": {},
   "outputs": [],
   "source": [
    "mdl = lgb.Booster(model_file='../mdl/1013_lgbm.txt')"
   ]
  },
  {
   "cell_type": "code",
   "execution_count": 20,
   "metadata": {},
   "outputs": [
    {
     "name": "stdout",
     "output_type": "stream",
     "text": [
      "89\n"
     ]
    },
    {
     "data": {
      "text/html": [
       "<div>\n",
       "<style scoped>\n",
       "    .dataframe tbody tr th:only-of-type {\n",
       "        vertical-align: middle;\n",
       "    }\n",
       "\n",
       "    .dataframe tbody tr th {\n",
       "        vertical-align: top;\n",
       "    }\n",
       "\n",
       "    .dataframe thead th {\n",
       "        text-align: right;\n",
       "    }\n",
       "</style>\n",
       "<table border=\"1\" class=\"dataframe\">\n",
       "  <thead>\n",
       "    <tr style=\"text-align: right;\">\n",
       "      <th></th>\n",
       "      <th>feature</th>\n",
       "      <th>importance</th>\n",
       "    </tr>\n",
       "  </thead>\n",
       "  <tbody>\n",
       "    <tr>\n",
       "      <td>17</td>\n",
       "      <td>sm_doku</td>\n",
       "      <td>24</td>\n",
       "    </tr>\n",
       "    <tr>\n",
       "      <td>74</td>\n",
       "      <td>kitchen_12</td>\n",
       "      <td>22</td>\n",
       "    </tr>\n",
       "    <tr>\n",
       "      <td>19</td>\n",
       "      <td>onsui</td>\n",
       "      <td>15</td>\n",
       "    </tr>\n",
       "    <tr>\n",
       "      <td>18</td>\n",
       "      <td>kanso</td>\n",
       "      <td>14</td>\n",
       "    </tr>\n",
       "    <tr>\n",
       "      <td>77</td>\n",
       "      <td>kitchen_15</td>\n",
       "      <td>13</td>\n",
       "    </tr>\n",
       "    <tr>\n",
       "      <td>...</td>\n",
       "      <td>...</td>\n",
       "      <td>...</td>\n",
       "    </tr>\n",
       "    <tr>\n",
       "      <td>37</td>\n",
       "      <td>facilities_10</td>\n",
       "      <td>1</td>\n",
       "    </tr>\n",
       "    <tr>\n",
       "      <td>50</td>\n",
       "      <td>facilities_28</td>\n",
       "      <td>1</td>\n",
       "    </tr>\n",
       "    <tr>\n",
       "      <td>7</td>\n",
       "      <td>R</td>\n",
       "      <td>1</td>\n",
       "    </tr>\n",
       "    <tr>\n",
       "      <td>5</td>\n",
       "      <td>D</td>\n",
       "      <td>1</td>\n",
       "    </tr>\n",
       "    <tr>\n",
       "      <td>54</td>\n",
       "      <td>facilities_33</td>\n",
       "      <td>1</td>\n",
       "    </tr>\n",
       "  </tbody>\n",
       "</table>\n",
       "<p>65 rows × 2 columns</p>\n",
       "</div>"
      ],
      "text/plain": [
       "          feature  importance\n",
       "17        sm_doku          24\n",
       "74     kitchen_12          22\n",
       "19          onsui          15\n",
       "18          kanso          14\n",
       "77     kitchen_15          13\n",
       "..            ...         ...\n",
       "37  facilities_10           1\n",
       "50  facilities_28           1\n",
       "7               R           1\n",
       "5               D           1\n",
       "54  facilities_33           1\n",
       "\n",
       "[65 rows x 2 columns]"
      ]
     },
     "execution_count": 20,
     "metadata": {},
     "output_type": "execute_result"
    }
   ],
   "source": [
    "feature_importances = pd.DataFrame()\n",
    "feature_importances['feature'] = mdl.feature_name()\n",
    "feature_importances['importance'] = mdl.feature_importance()\n",
    "feature_importances = feature_importances.sort_values(by='importance', ascending=False)\n",
    "print(len(feature_importances))\n",
    "feature_importances[24:]"
   ]
  },
  {
   "cell_type": "code",
   "execution_count": 21,
   "metadata": {},
   "outputs": [
    {
     "data": {
      "text/plain": [
       "<matplotlib.axes._subplots.AxesSubplot at 0x7fef6b40dc50>"
      ]
     },
     "execution_count": 21,
     "metadata": {},
     "output_type": "execute_result"
    },
    {
     "data": {
      "image/png": "[encoded data removed]",
      "text/plain": [
       "<Figure size 1152x1152 with 1 Axes>"
      ]
     },
     "metadata": {
      "needs_background": "light"
     },
     "output_type": "display_data"
    }
   ],
   "source": [
    "plt.figure(figsize=(16, 16))\n",
    "sns.barplot(data=feature_importances, x='importance', y='feature')"
   ]
  },
  {
   "cell_type": "code",
   "execution_count": 25,
   "metadata": {},
   "outputs": [
    {
     "data": {
      "text/plain": [
       "['area_num',\n",
       " 'age_month',\n",
       " 'max_floor',\n",
       " 'S',\n",
       " 'structure_orderd',\n",
       " 'min_time',\n",
       " 'avg_time',\n",
       " 'dis_ave',\n",
       " 'dis_min',\n",
       " 'area_par_room',\n",
       " '23ku_mean_std',\n",
       " 'facilities_7',\n",
       " 'facilities_8',\n",
       " 'facilities_9',\n",
       " 'facilities_13',\n",
       " 'facilities_17',\n",
       " 'facilities_21',\n",
       " 'facilities_22',\n",
       " 'facilities_25',\n",
       " 'facilities_31',\n",
       " 'facilities_34',\n",
       " 'bc_6',\n",
       " 'kitchen_7',\n",
       " 'kitchen_10',\n",
       " '23ku_countall',\n",
       " 'area_num_countall',\n",
       " 'age_countall',\n",
       " 'floor_countall',\n",
       " 'max_floor_countall',\n",
       " 'layout_countall',\n",
       " 'contract_period_countall',\n",
       " 'latitude',\n",
       " 'longitude']"
      ]
     },
     "execution_count": 25,
     "metadata": {},
     "output_type": "execute_result"
    }
   ],
   "source": [
    "mdl = lgb.Booster(model_file='../mdl/1013_lgbm_2.txt')\n",
    "mdl.feature_name()"
   ]
  },
  {
   "cell_type": "code",
   "execution_count": 31,
   "metadata": {},
   "outputs": [
    {
     "data": {
      "text/plain": [
       "33"
      ]
     },
     "execution_count": 31,
     "metadata": {},
     "output_type": "execute_result"
    }
   ],
   "source": [
    "len(mdl.feature_name())"
   ]
  },
  {
   "cell_type": "code",
   "execution_count": 37,
   "metadata": {},
   "outputs": [
    {
     "data": {
      "text/plain": [
       "625"
      ]
     },
     "execution_count": 37,
     "metadata": {},
     "output_type": "execute_result"
    }
   ],
   "source": [
    "test['label'].sum()"
   ]
  },
  {
   "cell_type": "code",
   "execution_count": 78,
   "metadata": {},
   "outputs": [
    {
     "data": {
      "text/plain": [
       "(array([81., 57., 36., 27., 13., 13.,  6.,  5.,  2.,  2.]),\n",
       " array([12.90420737, 13.05411635, 13.20402534, 13.35393432, 13.50384331,\n",
       "        13.6537523 , 13.80366128, 13.95357027, 14.10347925, 14.25338824,\n",
       "        14.40329722]),\n",
       " <a list of 10 Patch objects>)"
      ]
     },
     "execution_count": 78,
     "metadata": {},
     "output_type": "execute_result"
    },
    {
     "data": {
      "image/png": "[encoded data removed]",
      "text/plain": [
       "<Figure size 432x288 with 1 Axes>"
      ]
     },
     "metadata": {
      "needs_background": "light"
     },
     "output_type": "display_data"
    }
   ],
   "source": [
    "plt.hist(train[train['y']>40*10000]['log_y'])"
   ]
  },
  {
   "cell_type": "code",
   "execution_count": 94,
   "metadata": {},
   "outputs": [
    {
     "data": {
      "text/plain": [
       "(array([137.,  49.,  25.,  15.,   4.,   5.,   3.,   2.,   1.,   1.]),\n",
       " array([ 402000.,  541800.,  681600.,  821400.,  961200., 1101000.,\n",
       "        1240800., 1380600., 1520400., 1660200., 1800000.]),\n",
       " <a list of 10 Patch objects>)"
      ]
     },
     "execution_count": 94,
     "metadata": {},
     "output_type": "execute_result"
    },
    {
     "data": {
      "image/png": "[encoded data removed]",
      "text/plain": [
       "<Figure size 432x288 with 1 Axes>"
      ]
     },
     "metadata": {
      "needs_background": "light"
     },
     "output_type": "display_data"
    }
   ],
   "source": [
    "plt.hist(train[train['y']>40*10000]['y'])"
   ]
  },
  {
   "cell_type": "code",
   "execution_count": 92,
   "metadata": {},
   "outputs": [
    {
     "data": {
      "text/plain": [
       "(array([35., 28., 22., 41., 23., 21., 18., 22., 17., 15.]),\n",
       " array([0.49778495, 0.49778495, 0.49778495, 0.49778495, 0.49778495,\n",
       "        0.49778495, 0.49778495, 0.49778495, 0.49778495, 0.49778495,\n",
       "        0.49778495]),\n",
       " <a list of 10 Patch objects>)"
      ]
     },
     "execution_count": 92,
     "metadata": {},
     "output_type": "execute_result"
    },
    {
     "data": {
      "image/png": "[encoded data removed]",
      "text/plain": [
       "<Figure size 432x288 with 1 Axes>"
      ]
     },
     "metadata": {
      "needs_background": "light"
     },
     "output_type": "display_data"
    }
   ],
   "source": [
    "data, lmbda = stats.boxcox(train[train['y']>40*10000]['y'])\n",
    "plt.hist(data)"
   ]
  },
  {
   "cell_type": "code",
   "execution_count": 95,
   "metadata": {},
   "outputs": [],
   "source": [
    "tage = train[train['y']>40*10000]['y']"
   ]
  },
  {
   "cell_type": "code",
   "execution_count": 99,
   "metadata": {},
   "outputs": [
    {
     "name": "stdout",
     "output_type": "stream",
     "text": [
      "4-5: 110\n",
      "5-6: 43\n",
      "6-7: 18\n",
      "7-8: 13\n",
      "8-9: 7\n",
      "9-10: 6\n",
      "10-11: 0\n",
      "11-12: 3\n",
      "12-13: 1\n",
      "13-14: 1\n",
      "14-15: 1\n",
      "15-16: 0\n",
      "16-17: 1\n",
      "17-18: 0\n",
      "18-19: 0\n"
     ]
    }
   ],
   "source": [
    "for i in range(4,19):\n",
    "    hoge = 0\n",
    "    for j in tage:\n",
    "#         print(j)\n",
    "        if i*100000<j and j<(i+1)*100000:\n",
    "            hoge += 1\n",
    "    print('{}-{}: {}'.format(i,i+1,hoge))"
   ]
  },
  {
   "cell_type": "code",
   "execution_count": null,
   "metadata": {},
   "outputs": [],
   "source": []
  }
 ],
 "metadata": {
  "kernelspec": {
   "display_name": "Python 3",
   "language": "python",
   "name": "python3"
  },
  "language_info": {
   "codemirror_mode": {
    "name": "ipython",
    "version": 3
   },
   "file_extension": ".py",
   "mimetype": "text/x-python",
   "name": "python",
   "nbconvert_exporter": "python",
   "pygments_lexer": "ipython3",
   "version": "3.7.4"
  },
  "toc": {
   "base_numbering": 1,
   "nav_menu": {},
   "number_sections": true,
   "sideBar": true,
   "skip_h1_title": false,
   "title_cell": "Table of Contents",
   "title_sidebar": "Contents",
   "toc_cell": false,
   "toc_position": {},
   "toc_section_display": true,
   "toc_window_display": false
  },
  "varInspector": {
   "cols": {
    "lenName": 16,
    "lenType": 16,
    "lenVar": 40
   },
   "kernels_config": {
    "python": {
     "delete_cmd_postfix": "",
     "delete_cmd_prefix": "del ",
     "library": "var_list.py",
     "varRefreshCmd": "print(var_dic_list())"
    },
    "r": {
     "delete_cmd_postfix": ") ",
     "delete_cmd_prefix": "rm(",
     "library": "var_list.r",
     "varRefreshCmd": "cat(var_dic_list()) "
    }
   },
   "types_to_exclude": [
    "module",
    "function",
    "builtin_function_or_method",
    "instance",
    "_Feature"
   ],
   "window_display": false
  }
 },
 "nbformat": 4,
 "nbformat_minor": 2
}
