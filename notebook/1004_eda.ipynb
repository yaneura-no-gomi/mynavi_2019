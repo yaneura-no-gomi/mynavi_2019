{
 "cells": [
  {
   "cell_type": "code",
   "execution_count": 78,
   "metadata": {},
   "outputs": [],
   "source": [
    "import pandas as pd\n",
    "import pandas_profiling as pdp\n",
    "import lightgbm as lgb\n",
    "import numpy as np\n",
    "import math\n",
    "import matplotlib.pyplot as plt"
   ]
  },
  {
   "cell_type": "code",
   "execution_count": 79,
   "metadata": {},
   "outputs": [],
   "source": [
    "df = pd.read_csv('../processed_data/train_v9.csv')"
   ]
  },
  {
   "cell_type": "code",
   "execution_count": 12,
   "metadata": {},
   "outputs": [
    {
     "data": {
      "text/plain": [
       "122"
      ]
     },
     "execution_count": 12,
     "metadata": {},
     "output_type": "execute_result"
    }
   ],
   "source": [
    "cols = df.columns\n",
    "len(cols)"
   ]
  },
  {
   "cell_type": "code",
   "execution_count": 17,
   "metadata": {},
   "outputs": [],
   "source": [
    "use_col = df.columns\n",
    "\n",
    "un_use_col = ['id','y','log_y','location', 'access', 'layout', 'age', 'direction', 'area','floor', 'bath_toilet', 'kitchen',\n",
    "             'broadcast_com', 'facilities','parking', 'enviroment', 'structure', 'contract_period',\n",
    "             'walk_time','23ku',\n",
    "            #  'area_num_countall','floor_countall','room_num_countall','facilities_countall','age_countall','area_num_countall',\n",
    "            ]\n",
    "\n",
    "mdl = lgb.Booster(model_file='../mdl/1004_lgbm_log_4.txt')\n",
    "feature_importances = pd.DataFrame()\n",
    "feature_importances['feature'] = mdl.feature_name()\n",
    "feature_importances['importance'] = mdl.feature_importance()\n",
    "feature_importances = feature_importances.sort_values(by='importance', ascending=False)\n",
    "\n",
    "un_use_col += list(feature_importances[feature_importances['importance']<30]['feature'])\n",
    "use_col = [c for c in use_col if c not in un_use_col]"
   ]
  },
  {
   "cell_type": "code",
   "execution_count": 18,
   "metadata": {},
   "outputs": [],
   "source": [
    "profile = pdp.ProfileReport(df.loc[:,use_col+['y','log_y']])\n",
    "profile.to_file(output_file=\"../processed_data/profiling_res.html\")"
   ]
  },
  {
   "cell_type": "code",
   "execution_count": 25,
   "metadata": {},
   "outputs": [
    {
     "data": {
      "text/html": [
       "<div>\n",
       "<style scoped>\n",
       "    .dataframe tbody tr th:only-of-type {\n",
       "        vertical-align: middle;\n",
       "    }\n",
       "\n",
       "    .dataframe tbody tr th {\n",
       "        vertical-align: top;\n",
       "    }\n",
       "\n",
       "    .dataframe thead th {\n",
       "        text-align: right;\n",
       "    }\n",
       "</style>\n",
       "<table border=\"1\" class=\"dataframe\">\n",
       "  <thead>\n",
       "    <tr style=\"text-align: right;\">\n",
       "      <th></th>\n",
       "      <th>y</th>\n",
       "      <th>enviroment</th>\n",
       "      <th>e_num</th>\n",
       "      <th>dis_min</th>\n",
       "      <th>dis_ave</th>\n",
       "    </tr>\n",
       "  </thead>\n",
       "  <tbody>\n",
       "    <tr>\n",
       "      <td>4762</td>\n",
       "      <td>58000</td>\n",
       "      <td>【コンビニ】 0m</td>\n",
       "      <td>1</td>\n",
       "      <td>0.0</td>\n",
       "      <td>0.0</td>\n",
       "    </tr>\n",
       "    <tr>\n",
       "      <td>11979</td>\n",
       "      <td>103000</td>\n",
       "      <td>【ドラッグストア】 186m\\t【ドラッグストア】 235m\\t【飲食店】 52m\\t【飲食...</td>\n",
       "      <td>10</td>\n",
       "      <td>0.0</td>\n",
       "      <td>127.7</td>\n",
       "    </tr>\n",
       "    <tr>\n",
       "      <td>15606</td>\n",
       "      <td>123000</td>\n",
       "      <td>【ドラッグストア】 378m\\t【飲食店】 303m\\t【スーパー】 220m\\t【スーパー...</td>\n",
       "      <td>10</td>\n",
       "      <td>0.0</td>\n",
       "      <td>326.8</td>\n",
       "    </tr>\n",
       "    <tr>\n",
       "      <td>23228</td>\n",
       "      <td>262000</td>\n",
       "      <td>【コンビニ】 326m\\t【コンビニ】 252m\\t【コンビニ】 144m\\t【コンビニ】 ...</td>\n",
       "      <td>10</td>\n",
       "      <td>0.0</td>\n",
       "      <td>268.1</td>\n",
       "    </tr>\n",
       "  </tbody>\n",
       "</table>\n",
       "</div>"
      ],
      "text/plain": [
       "            y                                         enviroment  e_num  \\\n",
       "4762    58000                                          【コンビニ】 0m      1   \n",
       "11979  103000  【ドラッグストア】 186m\\t【ドラッグストア】 235m\\t【飲食店】 52m\\t【飲食...     10   \n",
       "15606  123000  【ドラッグストア】 378m\\t【飲食店】 303m\\t【スーパー】 220m\\t【スーパー...     10   \n",
       "23228  262000  【コンビニ】 326m\\t【コンビニ】 252m\\t【コンビニ】 144m\\t【コンビニ】 ...     10   \n",
       "\n",
       "       dis_min  dis_ave  \n",
       "4762       0.0      0.0  \n",
       "11979      0.0    127.7  \n",
       "15606      0.0    326.8  \n",
       "23228      0.0    268.1  "
      ]
     },
     "execution_count": 25,
     "metadata": {},
     "output_type": "execute_result"
    }
   ],
   "source": [
    "df[df['dis_min']==0].loc[:,['y','enviroment','e_num','dis_min','dis_ave']]"
   ]
  },
  {
   "cell_type": "code",
   "execution_count": 29,
   "metadata": {},
   "outputs": [
    {
     "data": {
      "text/plain": [
       "11.184421397998193"
      ]
     },
     "execution_count": 29,
     "metadata": {},
     "output_type": "execute_result"
    }
   ],
   "source": [
    "np.log(72000)"
   ]
  },
  {
   "cell_type": "code",
   "execution_count": 31,
   "metadata": {},
   "outputs": [
    {
     "data": {
      "text/plain": [
       "11.184421397998193"
      ]
     },
     "execution_count": 31,
     "metadata": {},
     "output_type": "execute_result"
    }
   ],
   "source": [
    "math.log(72000,np.e)"
   ]
  },
  {
   "cell_type": "code",
   "execution_count": 43,
   "metadata": {},
   "outputs": [
    {
     "data": {
      "text/plain": [
       "(array([2.000e+00, 3.000e+00, 6.000e+00, 1.500e+01, 3.000e+00, 1.200e+01,\n",
       "        9.000e+00, 2.200e+01, 2.300e+01, 3.400e+01, 8.900e+01, 8.700e+01,\n",
       "        1.820e+02, 1.510e+02, 2.120e+02, 4.600e+02, 3.540e+02, 6.560e+02,\n",
       "        4.180e+02, 9.130e+02, 1.046e+03, 8.440e+02, 1.174e+03, 9.840e+02,\n",
       "        1.105e+03, 1.082e+03, 1.315e+03, 1.366e+03, 1.511e+03, 1.016e+03,\n",
       "        1.491e+03, 1.403e+03, 1.241e+03, 1.159e+03, 1.341e+03, 1.058e+03,\n",
       "        9.340e+02, 8.460e+02, 7.970e+02, 6.110e+02, 6.980e+02, 5.360e+02,\n",
       "        5.490e+02, 4.380e+02, 4.450e+02, 3.640e+02, 3.180e+02, 2.890e+02,\n",
       "        2.240e+02, 2.250e+02, 2.740e+02, 1.800e+02, 1.870e+02, 1.380e+02,\n",
       "        7.800e+01, 6.900e+01, 7.200e+01, 6.100e+01, 4.000e+01, 4.900e+01,\n",
       "        3.100e+01, 3.600e+01, 1.800e+01, 1.700e+01, 2.300e+01, 1.900e+01,\n",
       "        1.100e+01, 1.500e+01, 7.000e+00, 9.000e+00, 1.100e+01, 4.000e+00,\n",
       "        1.200e+01, 5.000e+00, 7.000e+00, 1.000e+00, 3.000e+00, 7.000e+00,\n",
       "        5.000e+00, 1.000e+00, 0.000e+00, 0.000e+00, 6.000e+00, 0.000e+00,\n",
       "        2.000e+00, 3.000e+00, 0.000e+00, 1.000e+00, 1.000e+00, 0.000e+00,\n",
       "        0.000e+00, 1.000e+00, 1.000e+00, 0.000e+00, 0.000e+00, 0.000e+00,\n",
       "        0.000e+00, 0.000e+00, 0.000e+00, 1.000e+00]),\n",
       " array([10.1266311 , 10.17268281, 10.21873451, 10.26478621, 10.31083791,\n",
       "        10.35688961, 10.40294132, 10.44899302, 10.49504472, 10.54109642,\n",
       "        10.58714812, 10.63319982, 10.67925153, 10.72530323, 10.77135493,\n",
       "        10.81740663, 10.86345833, 10.90951004, 10.95556174, 11.00161344,\n",
       "        11.04766514, 11.09371684, 11.13976854, 11.18582025, 11.23187195,\n",
       "        11.27792365, 11.32397535, 11.37002705, 11.41607876, 11.46213046,\n",
       "        11.50818216, 11.55423386, 11.60028556, 11.64633727, 11.69238897,\n",
       "        11.73844067, 11.78449237, 11.83054407, 11.87659577, 11.92264748,\n",
       "        11.96869918, 12.01475088, 12.06080258, 12.10685428, 12.15290599,\n",
       "        12.19895769, 12.24500939, 12.29106109, 12.33711279, 12.38316449,\n",
       "        12.4292162 , 12.4752679 , 12.5213196 , 12.5673713 , 12.613423  ,\n",
       "        12.65947471, 12.70552641, 12.75157811, 12.79762981, 12.84368151,\n",
       "        12.88973322, 12.93578492, 12.98183662, 13.02788832, 13.07394002,\n",
       "        13.11999172, 13.16604343, 13.21209513, 13.25814683, 13.30419853,\n",
       "        13.35025023, 13.39630194, 13.44235364, 13.48840534, 13.53445704,\n",
       "        13.58050874, 13.62656045, 13.67261215, 13.71866385, 13.76471555,\n",
       "        13.81076725, 13.85681895, 13.90287066, 13.94892236, 13.99497406,\n",
       "        14.04102576, 14.08707746, 14.13312917, 14.17918087, 14.22523257,\n",
       "        14.27128427, 14.31733597, 14.36338767, 14.40943938, 14.45549108,\n",
       "        14.50154278, 14.54759448, 14.59364618, 14.63969789, 14.68574959,\n",
       "        14.73180129]),\n",
       " <a list of 100 Patch objects>)"
      ]
     },
     "execution_count": 43,
     "metadata": {},
     "output_type": "execute_result"
    },
    {
     "data": {
      "image/png": "[encoded data removed]",
      "text/plain": [
       "<Figure size 432x288 with 1 Axes>"
      ]
     },
     "metadata": {
      "needs_background": "light"
     },
     "output_type": "display_data"
    }
   ],
   "source": [
    "plt.hist(df['log_y'],bins=100)"
   ]
  },
  {
   "cell_type": "code",
   "execution_count": 38,
   "metadata": {},
   "outputs": [
    {
     "data": {
      "text/plain": [
       "(array([1.2900e+02, 3.5220e+03, 1.1443e+04, 1.0881e+04, 4.1620e+03,\n",
       "        1.0720e+03, 1.8600e+02, 5.6000e+01, 1.3000e+01, 3.0000e+00]),\n",
       " array([14.60964047, 15.27402609, 15.93841171, 16.60279733, 17.26718295,\n",
       "        17.93156857, 18.59595419, 19.26033981, 19.92472543, 20.58911105,\n",
       "        21.25349666]),\n",
       " <a list of 10 Patch objects>)"
      ]
     },
     "execution_count": 38,
     "metadata": {},
     "output_type": "execute_result"
    },
    {
     "data": {
      "image/png": "[encoded data removed]",
      "text/plain": [
       "<Figure size 432x288 with 1 Axes>"
      ]
     },
     "metadata": {
      "needs_background": "light"
     },
     "output_type": "display_data"
    }
   ],
   "source": [
    "plt.hist(np.log(df['y'])/np.log(2))"
   ]
  },
  {
   "cell_type": "code",
   "execution_count": 42,
   "metadata": {},
   "outputs": [
    {
     "data": {
      "text/plain": [
       "(array([2.000e+00, 3.000e+00, 6.000e+00, 1.500e+01, 3.000e+00, 1.200e+01,\n",
       "        9.000e+00, 2.200e+01, 2.300e+01, 3.400e+01, 8.900e+01, 8.700e+01,\n",
       "        1.820e+02, 1.510e+02, 2.120e+02, 4.600e+02, 3.540e+02, 6.560e+02,\n",
       "        4.180e+02, 9.130e+02, 1.046e+03, 8.440e+02, 1.174e+03, 9.840e+02,\n",
       "        1.105e+03, 1.082e+03, 1.315e+03, 1.366e+03, 1.511e+03, 1.016e+03,\n",
       "        1.491e+03, 1.403e+03, 1.241e+03, 1.159e+03, 1.341e+03, 1.058e+03,\n",
       "        9.340e+02, 8.460e+02, 7.970e+02, 6.110e+02, 6.980e+02, 5.360e+02,\n",
       "        5.490e+02, 4.380e+02, 4.450e+02, 3.640e+02, 3.180e+02, 2.890e+02,\n",
       "        2.240e+02, 2.250e+02, 2.740e+02, 1.800e+02, 1.870e+02, 1.380e+02,\n",
       "        7.800e+01, 6.900e+01, 7.200e+01, 6.100e+01, 4.000e+01, 4.900e+01,\n",
       "        3.100e+01, 3.600e+01, 1.800e+01, 1.700e+01, 2.300e+01, 1.900e+01,\n",
       "        1.100e+01, 1.500e+01, 7.000e+00, 9.000e+00, 1.100e+01, 4.000e+00,\n",
       "        1.200e+01, 5.000e+00, 7.000e+00, 1.000e+00, 3.000e+00, 7.000e+00,\n",
       "        5.000e+00, 1.000e+00, 0.000e+00, 0.000e+00, 6.000e+00, 0.000e+00,\n",
       "        2.000e+00, 3.000e+00, 0.000e+00, 1.000e+00, 1.000e+00, 0.000e+00,\n",
       "        0.000e+00, 1.000e+00, 1.000e+00, 0.000e+00, 0.000e+00, 0.000e+00,\n",
       "        0.000e+00, 0.000e+00, 0.000e+00, 1.000e+00]),\n",
       " array([14.60964047, 14.67607904, 14.7425176 , 14.80895616, 14.87539472,\n",
       "        14.94183328, 15.00827185, 15.07471041, 15.14114897, 15.20758753,\n",
       "        15.27402609, 15.34046466, 15.40690322, 15.47334178, 15.53978034,\n",
       "        15.6062189 , 15.67265746, 15.73909603, 15.80553459, 15.87197315,\n",
       "        15.93841171, 16.00485027, 16.07128884, 16.1377274 , 16.20416596,\n",
       "        16.27060452, 16.33704308, 16.40348165, 16.46992021, 16.53635877,\n",
       "        16.60279733, 16.66923589, 16.73567446, 16.80211302, 16.86855158,\n",
       "        16.93499014, 17.0014287 , 17.06786726, 17.13430583, 17.20074439,\n",
       "        17.26718295, 17.33362151, 17.40006007, 17.46649864, 17.5329372 ,\n",
       "        17.59937576, 17.66581432, 17.73225288, 17.79869145, 17.86513001,\n",
       "        17.93156857, 17.99800713, 18.06444569, 18.13088426, 18.19732282,\n",
       "        18.26376138, 18.33019994, 18.3966385 , 18.46307706, 18.52951563,\n",
       "        18.59595419, 18.66239275, 18.72883131, 18.79526987, 18.86170844,\n",
       "        18.928147  , 18.99458556, 19.06102412, 19.12746268, 19.19390125,\n",
       "        19.26033981, 19.32677837, 19.39321693, 19.45965549, 19.52609405,\n",
       "        19.59253262, 19.65897118, 19.72540974, 19.7918483 , 19.85828686,\n",
       "        19.92472543, 19.99116399, 20.05760255, 20.12404111, 20.19047967,\n",
       "        20.25691824, 20.3233568 , 20.38979536, 20.45623392, 20.52267248,\n",
       "        20.58911105, 20.65554961, 20.72198817, 20.78842673, 20.85486529,\n",
       "        20.92130385, 20.98774242, 21.05418098, 21.12061954, 21.1870581 ,\n",
       "        21.25349666]),\n",
       " <a list of 100 Patch objects>)"
      ]
     },
     "execution_count": 42,
     "metadata": {},
     "output_type": "execute_result"
    },
    {
     "data": {
      "image/png": "[encoded data removed]",
      "text/plain": [
       "<Figure size 432x288 with 1 Axes>"
      ]
     },
     "metadata": {
      "needs_background": "light"
     },
     "output_type": "display_data"
    }
   ],
   "source": [
    "plt.hist(np.log2(df['y']),bins=100)"
   ]
  },
  {
   "cell_type": "code",
   "execution_count": 83,
   "metadata": {},
   "outputs": [
    {
     "data": {
      "text/plain": [
       "(array([8.500e+02, 6.358e+03, 7.850e+03, 6.237e+03, 3.796e+03, 2.175e+03,\n",
       "        1.372e+03, 8.580e+02, 4.940e+02, 5.130e+02, 2.750e+02, 1.930e+02,\n",
       "        8.900e+01, 8.500e+01, 6.400e+01, 5.000e+01, 2.800e+01, 2.200e+01,\n",
       "        2.300e+01, 1.900e+01, 1.300e+01, 1.400e+01, 6.000e+00, 1.000e+01,\n",
       "        4.000e+00, 8.000e+00, 6.000e+00, 9.000e+00, 4.000e+00, 2.000e+00,\n",
       "        7.000e+00, 0.000e+00, 2.000e+00, 2.000e+00, 3.000e+00, 4.000e+00,\n",
       "        1.000e+00, 4.000e+00, 1.000e+00, 0.000e+00, 0.000e+00, 0.000e+00,\n",
       "        0.000e+00, 3.000e+00, 3.000e+00, 0.000e+00, 0.000e+00, 2.000e+00,\n",
       "        0.000e+00, 0.000e+00, 0.000e+00, 3.000e+00, 0.000e+00, 0.000e+00,\n",
       "        0.000e+00, 1.000e+00, 0.000e+00, 1.000e+00, 0.000e+00, 0.000e+00,\n",
       "        0.000e+00, 0.000e+00, 0.000e+00, 0.000e+00, 0.000e+00, 0.000e+00,\n",
       "        1.000e+00, 0.000e+00, 0.000e+00, 0.000e+00, 0.000e+00, 1.000e+00,\n",
       "        0.000e+00, 0.000e+00, 0.000e+00, 0.000e+00, 0.000e+00, 0.000e+00,\n",
       "        0.000e+00, 0.000e+00, 0.000e+00, 0.000e+00, 0.000e+00, 0.000e+00,\n",
       "        0.000e+00, 0.000e+00, 0.000e+00, 0.000e+00, 0.000e+00, 0.000e+00,\n",
       "        0.000e+00, 0.000e+00, 0.000e+00, 0.000e+00, 0.000e+00, 0.000e+00,\n",
       "        0.000e+00, 0.000e+00, 0.000e+00, 1.000e+00]),\n",
       " array([  25000.,   49750.,   74500.,   99250.,  124000.,  148750.,\n",
       "         173500.,  198250.,  223000.,  247750.,  272500.,  297250.,\n",
       "         322000.,  346750.,  371500.,  396250.,  421000.,  445750.,\n",
       "         470500.,  495250.,  520000.,  544750.,  569500.,  594250.,\n",
       "         619000.,  643750.,  668500.,  693250.,  718000.,  742750.,\n",
       "         767500.,  792250.,  817000.,  841750.,  866500.,  891250.,\n",
       "         916000.,  940750.,  965500.,  990250., 1015000., 1039750.,\n",
       "        1064500., 1089250., 1114000., 1138750., 1163500., 1188250.,\n",
       "        1213000., 1237750., 1262500., 1287250., 1312000., 1336750.,\n",
       "        1361500., 1386250., 1411000., 1435750., 1460500., 1485250.,\n",
       "        1510000., 1534750., 1559500., 1584250., 1609000., 1633750.,\n",
       "        1658500., 1683250., 1708000., 1732750., 1757500., 1782250.,\n",
       "        1807000., 1831750., 1856500., 1881250., 1906000., 1930750.,\n",
       "        1955500., 1980250., 2005000., 2029750., 2054500., 2079250.,\n",
       "        2104000., 2128750., 2153500., 2178250., 2203000., 2227750.,\n",
       "        2252500., 2277250., 2302000., 2326750., 2351500., 2376250.,\n",
       "        2401000., 2425750., 2450500., 2475250., 2500000.]),\n",
       " <a list of 100 Patch objects>)"
      ]
     },
     "execution_count": 83,
     "metadata": {},
     "output_type": "execute_result"
    },
    {
     "data": {
      "image/png": "[encoded data removed]",
      "text/plain": [
       "<Figure size 432x288 with 1 Axes>"
      ]
     },
     "metadata": {
      "needs_background": "light"
     },
     "output_type": "display_data"
    }
   ],
   "source": [
    "plt.hist(df['y'],bins=100)"
   ]
  },
  {
   "cell_type": "code",
   "execution_count": 100,
   "metadata": {},
   "outputs": [
    {
     "data": {
      "text/plain": [
       "(array([  41.,   89.,  506., 1029., 1959., 2146., 2458., 2229., 2648.,\n",
       "        1989., 2396., 1757., 1654., 1480., 1227., 1035.,  780.,  748.,\n",
       "         554.,  584.,  450.,  437.,  343.,  360.,  268.,  180.,  219.,\n",
       "         167.,  169.,  138.,  192.,  129.,  135.,   77.,  122.,   69.,\n",
       "          78.,   31.,   58.,   42.,   40.,   17.,   29.,   45.,   16.,\n",
       "          14.,   18.,   27.,   23.,   10.]),\n",
       " array([ 25000.,  32460.,  39920.,  47380.,  54840.,  62300.,  69760.,\n",
       "         77220.,  84680.,  92140.,  99600., 107060., 114520., 121980.,\n",
       "        129440., 136900., 144360., 151820., 159280., 166740., 174200.,\n",
       "        181660., 189120., 196580., 204040., 211500., 218960., 226420.,\n",
       "        233880., 241340., 248800., 256260., 263720., 271180., 278640.,\n",
       "        286100., 293560., 301020., 308480., 315940., 323400., 330860.,\n",
       "        338320., 345780., 353240., 360700., 368160., 375620., 383080.,\n",
       "        390540., 398000.]),\n",
       " <a list of 50 Patch objects>)"
      ]
     },
     "execution_count": 100,
     "metadata": {},
     "output_type": "execute_result"
    },
    {
     "data": {
      "image/png": "[encoded data removed]",
      "text/plain": [
       "<Figure size 432x288 with 1 Axes>"
      ]
     },
     "metadata": {
      "needs_background": "light"
     },
     "output_type": "display_data"
    }
   ],
   "source": [
    "plt.hist(df[df['y']<400000]['y'],bins=50)"
   ]
  },
  {
   "cell_type": "code",
   "execution_count": 105,
   "metadata": {},
   "outputs": [
    {
     "data": {
      "text/plain": [
       "(array([   3.,    2.,   10.,   14.,   12.,    9.,   25.,   37.,  105.,\n",
       "          88.,  185.,  255.,  421.,  488.,  666.,  843.,  990., 1075.,\n",
       "        1175., 1319., 1126., 1576., 1582., 1643., 1446., 1932., 1591.,\n",
       "        1356., 1462., 1364., 1244.,  881.,  890.,  744.,  709.,  570.,\n",
       "         556.,  505.,  408.,  305.,  290.,  321.,  268.,  193.,  158.,\n",
       "          97.,   91.,   81.,   41.,   60.]),\n",
       " array([10.1266311 , 10.18198263, 10.23733415, 10.29268567, 10.3480372 ,\n",
       "        10.40338872, 10.45874025, 10.51409177, 10.56944329, 10.62479482,\n",
       "        10.68014634, 10.73549786, 10.79084939, 10.84620091, 10.90155243,\n",
       "        10.95690396, 11.01225548, 11.06760701, 11.12295853, 11.17831005,\n",
       "        11.23366158, 11.2890131 , 11.34436462, 11.39971615, 11.45506767,\n",
       "        11.51041919, 11.56577072, 11.62112224, 11.67647376, 11.73182529,\n",
       "        11.78717681, 11.84252834, 11.89787986, 11.95323138, 12.00858291,\n",
       "        12.06393443, 12.11928595, 12.17463748, 12.229989  , 12.28534052,\n",
       "        12.34069205, 12.39604357, 12.4513951 , 12.50674662, 12.56209814,\n",
       "        12.61744967, 12.67280119, 12.72815271, 12.78350424, 12.83885576,\n",
       "        12.89420728]),\n",
       " <a list of 50 Patch objects>)"
      ]
     },
     "execution_count": 105,
     "metadata": {},
     "output_type": "execute_result"
    },
    {
     "data": {
      "image/png": "[encoded data removed]",
      "text/plain": [
       "<Figure size 432x288 with 1 Axes>"
      ]
     },
     "metadata": {
      "needs_background": "light"
     },
     "output_type": "display_data"
    }
   ],
   "source": [
    "plt.hist(df[df['y']<400000]['log_y'],bins=50)"
   ]
  },
  {
   "cell_type": "code",
   "execution_count": 104,
   "metadata": {},
   "outputs": [
    {
     "data": {
      "text/plain": [
       "(array([78., 24.,  9.,  8.,  2.,  1.,  1.,  0.,  0.,  1.]),\n",
       " array([ 505000.,  704500.,  904000., 1103500., 1303000., 1502500.,\n",
       "        1702000., 1901500., 2101000., 2300500., 2500000.]),\n",
       " <a list of 10 Patch objects>)"
      ]
     },
     "execution_count": 104,
     "metadata": {},
     "output_type": "execute_result"
    },
    {
     "data": {
      "image/png": "[encoded data removed]",
      "text/plain": [
       "<Figure size 432x288 with 1 Axes>"
      ]
     },
     "metadata": {
      "needs_background": "light"
     },
     "output_type": "display_data"
    }
   ],
   "source": [
    "plt.hist(df[df['y']>500000]['y'])"
   ]
  },
  {
   "cell_type": "code",
   "execution_count": 51,
   "metadata": {},
   "outputs": [],
   "source": [
    "train = pd.read_csv('../processed_data/train_v9.csv')\n",
    "test = pd.read_csv('../processed_data/test_v9.csv')"
   ]
  },
  {
   "cell_type": "code",
   "execution_count": 66,
   "metadata": {},
   "outputs": [
    {
     "data": {
      "text/plain": [
       "2714"
      ]
     },
     "execution_count": 66,
     "metadata": {},
     "output_type": "execute_result"
    }
   ],
   "source": [
    "len(train[train['y']>200000])"
   ]
  },
  {
   "cell_type": "code",
   "execution_count": 68,
   "metadata": {},
   "outputs": [
    {
     "data": {
      "text/plain": [
       "31467"
      ]
     },
     "execution_count": 68,
     "metadata": {},
     "output_type": "execute_result"
    }
   ],
   "source": [
    "len(train['y'])"
   ]
  },
  {
   "cell_type": "code",
   "execution_count": 96,
   "metadata": {},
   "outputs": [
    {
     "name": "stdout",
     "output_type": "stream",
     "text": [
      "0-10000 :  0\n",
      "10000-20000 :  0\n",
      "20000-30000 :  26\n",
      "30000-40000 :  175\n",
      "40000-50000 :  926\n",
      "50000-60000 :  2298\n",
      "60000-70000 :  3449\n",
      "70000-80000 :  3498\n",
      "80000-90000 :  3693\n",
      "90000-100000 :  3304\n",
      "100000-110000 :  3308\n",
      "110000-120000 :  2719\n",
      "120000-130000 :  2272\n",
      "130000-140000 :  1893\n",
      "140000-150000 :  1287\n",
      "150000-160000 :  1151\n",
      "160000-170000 :  932\n",
      "170000-180000 :  778\n",
      "180000-190000 :  687\n",
      "190000-200000 :  557\n",
      "200000-210000 :  466\n",
      "210000-220000 :  401\n",
      "220000-230000 :  322\n",
      "230000-240000 :  274\n",
      "240000-250000 :  292\n",
      "250000-260000 :  265\n",
      "260000-270000 :  228\n",
      "270000-280000 :  202\n",
      "280000-290000 :  163\n",
      "290000-300000 :  124\n",
      "300000-310000 :  99\n",
      "310000-320000 :  95\n",
      "320000-330000 :  70\n",
      "330000-340000 :  61\n",
      "340000-350000 :  73\n",
      "350000-360000 :  53\n",
      "360000-370000 :  29\n",
      "370000-380000 :  41\n",
      "380000-390000 :  40\n",
      "390000-400000 :  30\n",
      "400000-410000 :  27\n",
      "410000-420000 :  24\n",
      "420000-430000 :  28\n",
      "430000-440000 :  21\n",
      "440000-450000 :  10\n",
      "450000-460000 :  16\n",
      "460000-470000 :  11\n",
      "470000-480000 :  14\n",
      "480000-490000 :  20\n",
      "490000-500000 :  15\n",
      "500000-510000 :  16\n",
      "510000-520000 :  4\n",
      "520000-530000 :  6\n",
      "530000-540000 :  6\n",
      "540000-550000 :  15\n",
      "550000-560000 :  12\n",
      "560000-570000 :  3\n",
      "570000-580000 :  4\n",
      "580000-590000 :  3\n",
      "590000-600000 :  12\n",
      "600000-610000 :  8\n",
      "610000-620000 :  1\n",
      "620000-630000 :  4\n",
      "630000-640000 :  2\n",
      "640000-650000 :  8\n",
      "650000-660000 :  6\n",
      "660000-670000 :  1\n",
      "670000-680000 :  4\n",
      "680000-690000 :  5\n",
      "690000-700000 :  11\n",
      "700000-710000 :  9\n",
      "710000-720000 :  1\n",
      "720000-730000 :  4\n",
      "730000-740000 :  2\n",
      "740000-750000 :  2\n",
      "750000-760000 :  2\n",
      "760000-770000 :  0\n",
      "770000-780000 :  5\n",
      "780000-790000 :  5\n",
      "790000-800000 :  2\n",
      "800000-810000 :  0\n",
      "810000-820000 :  1\n",
      "820000-830000 :  1\n",
      "830000-840000 :  1\n",
      "840000-850000 :  3\n",
      "850000-860000 :  2\n",
      "860000-870000 :  0\n",
      "870000-880000 :  3\n",
      "880000-890000 :  3\n",
      "890000-900000 :  4\n",
      "900000-910000 :  4\n",
      "910000-920000 :  1\n",
      "920000-930000 :  1\n",
      "930000-940000 :  0\n",
      "940000-950000 :  4\n",
      "950000-960000 :  4\n",
      "960000-970000 :  0\n",
      "970000-980000 :  1\n",
      "980000-990000 :  1\n",
      "990000-1000000 :  0\n",
      "1000000-1010000 :  0\n",
      "1010000-1020000 :  0\n",
      "1020000-1030000 :  0\n",
      "1030000-1040000 :  0\n",
      "1040000-1050000 :  0\n",
      "1050000-1060000 :  0\n",
      "1060000-1070000 :  0\n",
      "1070000-1080000 :  0\n",
      "1080000-1090000 :  0\n",
      "1090000-1100000 :  3\n",
      "1100000-1110000 :  3\n",
      "1110000-1120000 :  3\n",
      "1120000-1130000 :  3\n",
      "1130000-1140000 :  0\n",
      "1140000-1150000 :  0\n",
      "1150000-1160000 :  0\n",
      "1160000-1170000 :  0\n",
      "1170000-1180000 :  0\n",
      "1180000-1190000 :  0\n",
      "1190000-1200000 :  1\n",
      "1200000-1210000 :  2\n",
      "1210000-1220000 :  0\n",
      "1220000-1230000 :  0\n",
      "1230000-1240000 :  0\n",
      "1240000-1250000 :  0\n",
      "1250000-1260000 :  0\n",
      "1260000-1270000 :  0\n",
      "1270000-1280000 :  0\n",
      "1280000-1290000 :  0\n",
      "1290000-1300000 :  3\n",
      "1300000-1310000 :  3\n",
      "1310000-1320000 :  0\n",
      "1320000-1330000 :  0\n",
      "1330000-1340000 :  0\n",
      "1340000-1350000 :  0\n",
      "1350000-1360000 :  0\n",
      "1360000-1370000 :  0\n",
      "1370000-1380000 :  0\n",
      "1380000-1390000 :  1\n",
      "1390000-1400000 :  1\n",
      "1400000-1410000 :  0\n",
      "1410000-1420000 :  0\n",
      "1420000-1430000 :  0\n",
      "1430000-1440000 :  0\n",
      "1440000-1450000 :  1\n",
      "1450000-1460000 :  1\n",
      "1460000-1470000 :  0\n",
      "1470000-1480000 :  0\n",
      "1480000-1490000 :  0\n",
      "1490000-1500000 :  0\n",
      "1500000-1510000 :  0\n",
      "1510000-1520000 :  0\n",
      "1520000-1530000 :  0\n",
      "1530000-1540000 :  0\n",
      "1540000-1550000 :  0\n",
      "1550000-1560000 :  0\n",
      "1560000-1570000 :  0\n",
      "1570000-1580000 :  0\n",
      "1580000-1590000 :  0\n",
      "1590000-1600000 :  0\n",
      "1600000-1610000 :  0\n",
      "1610000-1620000 :  0\n",
      "1620000-1630000 :  0\n",
      "1630000-1640000 :  0\n",
      "1640000-1650000 :  0\n",
      "1650000-1660000 :  1\n",
      "1660000-1670000 :  1\n",
      "1670000-1680000 :  0\n",
      "1680000-1690000 :  0\n",
      "1690000-1700000 :  0\n",
      "1700000-1710000 :  0\n",
      "1710000-1720000 :  0\n",
      "1720000-1730000 :  0\n",
      "1730000-1740000 :  0\n",
      "1740000-1750000 :  0\n",
      "1750000-1760000 :  0\n",
      "1760000-1770000 :  0\n",
      "1770000-1780000 :  0\n",
      "1780000-1790000 :  0\n",
      "1790000-1800000 :  1\n",
      "1800000-1810000 :  1\n",
      "1810000-1820000 :  0\n",
      "1820000-1830000 :  0\n",
      "1830000-1840000 :  0\n",
      "1840000-1850000 :  0\n",
      "1850000-1860000 :  0\n",
      "1860000-1870000 :  0\n",
      "1870000-1880000 :  0\n",
      "1880000-1890000 :  0\n",
      "1890000-1900000 :  0\n",
      "1900000-1910000 :  0\n",
      "1910000-1920000 :  0\n",
      "1920000-1930000 :  0\n",
      "1930000-1940000 :  0\n",
      "1940000-1950000 :  0\n",
      "1950000-1960000 :  0\n",
      "1960000-1970000 :  0\n",
      "1970000-1980000 :  0\n",
      "1980000-1990000 :  0\n",
      "1990000-2000000 :  0\n",
      "2000000-2010000 :  0\n",
      "2010000-2020000 :  0\n",
      "2020000-2030000 :  0\n",
      "2030000-2040000 :  0\n",
      "2040000-2050000 :  0\n",
      "2050000-2060000 :  0\n",
      "2060000-2070000 :  0\n",
      "2070000-2080000 :  0\n",
      "2080000-2090000 :  0\n",
      "2090000-2100000 :  0\n",
      "2100000-2110000 :  0\n",
      "2110000-2120000 :  0\n",
      "2120000-2130000 :  0\n",
      "2130000-2140000 :  0\n",
      "2140000-2150000 :  0\n",
      "2150000-2160000 :  0\n",
      "2160000-2170000 :  0\n",
      "2170000-2180000 :  0\n",
      "2180000-2190000 :  0\n",
      "2190000-2200000 :  0\n",
      "2200000-2210000 :  0\n",
      "2210000-2220000 :  0\n",
      "2220000-2230000 :  0\n",
      "2230000-2240000 :  0\n",
      "2240000-2250000 :  0\n",
      "2250000-2260000 :  0\n",
      "2260000-2270000 :  0\n",
      "2270000-2280000 :  0\n",
      "2280000-2290000 :  0\n",
      "2290000-2300000 :  0\n",
      "2300000-2310000 :  0\n",
      "2310000-2320000 :  0\n",
      "2320000-2330000 :  0\n",
      "2330000-2340000 :  0\n",
      "2340000-2350000 :  0\n",
      "2350000-2360000 :  0\n",
      "2360000-2370000 :  0\n",
      "2370000-2380000 :  0\n",
      "2380000-2390000 :  0\n",
      "2390000-2400000 :  0\n",
      "2400000-2410000 :  0\n",
      "2410000-2420000 :  0\n",
      "2420000-2430000 :  0\n",
      "2430000-2440000 :  0\n",
      "2440000-2450000 :  0\n",
      "2450000-2460000 :  0\n",
      "2460000-2470000 :  0\n",
      "2470000-2480000 :  0\n",
      "2480000-2490000 :  0\n",
      "2490000-2500000 :  1\n"
     ]
    }
   ],
   "source": [
    "for m in range(0,250):\n",
    "    print('{0}-{1} : '.format(m*10000,(m+1)*10000),\n",
    "          len(train[(m*10000 <= train['y'])&(train['y'] <= (m+1)*10000)]))"
   ]
  },
  {
   "cell_type": "code",
   "execution_count": 91,
   "metadata": {},
   "outputs": [
    {
     "data": {
      "text/html": [
       "<div>\n",
       "<style scoped>\n",
       "    .dataframe tbody tr th:only-of-type {\n",
       "        vertical-align: middle;\n",
       "    }\n",
       "\n",
       "    .dataframe tbody tr th {\n",
       "        vertical-align: top;\n",
       "    }\n",
       "\n",
       "    .dataframe thead th {\n",
       "        text-align: right;\n",
       "    }\n",
       "</style>\n",
       "<table border=\"1\" class=\"dataframe\">\n",
       "  <thead>\n",
       "    <tr style=\"text-align: right;\">\n",
       "      <th></th>\n",
       "      <th>id</th>\n",
       "      <th>y</th>\n",
       "      <th>location</th>\n",
       "      <th>access</th>\n",
       "      <th>layout</th>\n",
       "      <th>age</th>\n",
       "      <th>direction</th>\n",
       "      <th>area</th>\n",
       "      <th>floor</th>\n",
       "      <th>bath_toilet</th>\n",
       "      <th>kitchen</th>\n",
       "      <th>broadcast_com</th>\n",
       "      <th>facilities</th>\n",
       "      <th>parking</th>\n",
       "      <th>enviroment</th>\n",
       "    </tr>\n",
       "  </thead>\n",
       "  <tbody>\n",
       "    <tr>\n",
       "      <td>5093</td>\n",
       "      <td>5094</td>\n",
       "      <td>2500000</td>\n",
       "      <td>東京都港区三田２丁目4-3</td>\n",
       "      <td>南北線\\t麻布十番駅\\t徒歩8分\\t\\t都営大江戸線\\t赤羽橋駅\\t徒歩9分\\t\\t山手線\\...</td>\n",
       "      <td>2LDK+S(納戸)</td>\n",
       "      <td>1年8ヶ月</td>\n",
       "      <td>西</td>\n",
       "      <td>217.29m2</td>\n",
       "      <td>9</td>\n",
       "      <td>専用バス／\\t専用トイレ／\\tバス・トイレ別／\\tシャワー／\\t追焚機能／\\t浴室乾燥機\\t...</td>\n",
       "      <td>IHコンロ\\t／\\tコンロ3口／\\tシステムキッチン\\t／\\tカウンターキッチン\\t／\\tL...</td>\n",
       "      <td>インターネット対応</td>\n",
       "      <td>エアコン付／\\t床暖房\\tウォークインクローゼット\\tシューズボックス／\\tバルコニー／\\t...</td>\n",
       "      <td>駐車場\\t空有(43台)\\t48,600円</td>\n",
       "      <td>【飲食店】 959m\\t【飲食店】 611m\\t【スーパー】 417m\\t【スーパー】 65...</td>\n",
       "    </tr>\n",
       "  </tbody>\n",
       "</table>\n",
       "</div>"
      ],
      "text/plain": [
       "        id        y       location  \\\n",
       "5093  5094  2500000  東京都港区三田２丁目4-3   \n",
       "\n",
       "                                                 access      layout    age  \\\n",
       "5093  南北線\\t麻布十番駅\\t徒歩8分\\t\\t都営大江戸線\\t赤羽橋駅\\t徒歩9分\\t\\t山手線\\...  2LDK+S(納戸)  1年8ヶ月   \n",
       "\n",
       "     direction      area  floor  \\\n",
       "5093         西  217.29m2      9   \n",
       "\n",
       "                                            bath_toilet  \\\n",
       "5093  専用バス／\\t専用トイレ／\\tバス・トイレ別／\\tシャワー／\\t追焚機能／\\t浴室乾燥機\\t...   \n",
       "\n",
       "                                                kitchen broadcast_com  \\\n",
       "5093  IHコンロ\\t／\\tコンロ3口／\\tシステムキッチン\\t／\\tカウンターキッチン\\t／\\tL...     インターネット対応   \n",
       "\n",
       "                                             facilities  \\\n",
       "5093  エアコン付／\\t床暖房\\tウォークインクローゼット\\tシューズボックス／\\tバルコニー／\\t...   \n",
       "\n",
       "                    parking                                         enviroment  \n",
       "5093  駐車場\\t空有(43台)\\t48,600円  【飲食店】 959m\\t【飲食店】 611m\\t【スーパー】 417m\\t【スーパー】 65...  "
      ]
     },
     "execution_count": 91,
     "metadata": {},
     "output_type": "execute_result"
    }
   ],
   "source": [
    "train[train['y']>2000000].iloc[:,:15]"
   ]
  },
  {
   "cell_type": "code",
   "execution_count": 95,
   "metadata": {},
   "outputs": [
    {
     "name": "stdout",
     "output_type": "stream",
     "text": [
      "0-10000 :  0.0\n",
      "10000-20000 :  0.0\n",
      "20000-30000 :  0.04766898655734579\n",
      "30000-40000 :  0.4131312168303302\n",
      "40000-50000 :  2.701242571582928\n",
      "50000-60000 :  8.701179012934185\n",
      "60000-70000 :  18.34302602726666\n",
      "70000-80000 :  28.118346203959703\n",
      "80000-90000 :  38.41166936790924\n",
      "90000-100000 :  47.989957733498585\n",
      "100000-110000 :  57.26316458512092\n",
      "110000-120000 :  64.80439825849302\n",
      "120000-130000 :  71.19204245717737\n",
      "130000-140000 :  76.48012203260559\n",
      "140000-150000 :  80.02987256490928\n",
      "150000-160000 :  83.18555947500558\n",
      "160000-170000 :  85.67070264086188\n",
      "170000-180000 :  87.72046906282775\n",
      "180000-190000 :  89.60498299806149\n",
      "190000-200000 :  91.13992436520802\n",
      "200000-210000 :  92.3507166237646\n",
      "210000-220000 :  93.32951981440877\n",
      "220000-230000 :  94.13353672100934\n",
      "230000-240000 :  94.84539358693236\n",
      "240000-250000 :  95.53182699335814\n",
      "250000-260000 :  96.17376934566373\n",
      "260000-270000 :  96.72672958972893\n",
      "270000-280000 :  97.18752979311661\n",
      "280000-290000 :  97.61337273969556\n",
      "290000-300000 :  97.89303079416533\n",
      "300000-310000 :  98.11866399720343\n",
      "310000-320000 :  98.33476340293007\n",
      "320000-330000 :  98.47459243016495\n",
      "330000-340000 :  98.61124352496267\n",
      "340000-350000 :  98.72882702513746\n",
      "350000-360000 :  98.88136778212098\n",
      "360000-370000 :  98.95128229573841\n",
      "370000-380000 :  99.03073060666732\n",
      "380000-390000 :  99.13242444465632\n",
      "390000-400000 :  99.18962722852514\n",
      "400000-410000 :  99.26271967457974\n",
      "410000-420000 :  99.29767693138847\n",
      "420000-430000 :  99.35487971525728\n",
      "430000-440000 :  99.41526043156325\n",
      "440000-450000 :  99.4343280261862\n",
      "450000-460000 :  99.4629294181206\n",
      "460000-470000 :  99.48835287761784\n",
      "470000-480000 :  99.50424253980363\n",
      "480000-490000 :  99.55826739123529\n",
      "490000-500000 :  99.57733498585823\n",
      "500000-510000 :  99.62500397241557\n",
      "510000-520000 :  99.63135983728988\n",
      "520000-530000 :  99.64407156703851\n",
      "530000-540000 :  99.65360536434997\n",
      "540000-550000 :  99.67267295897291\n",
      "550000-560000 :  99.71080814821879\n",
      "560000-570000 :  99.7171640130931\n",
      "570000-580000 :  99.72669781040456\n",
      "580000-590000 :  99.72987574284171\n",
      "590000-600000 :  99.74258747259034\n",
      "600000-610000 :  99.76801093208759\n",
      "610000-620000 :  99.76801093208759\n",
      "620000-630000 :  99.7743667969619\n",
      "630000-640000 :  99.78072266183621\n",
      "640000-650000 :  99.78707852671052\n",
      "650000-660000 :  99.80614612133346\n",
      "660000-670000 :  99.80614612133346\n",
      "670000-680000 :  99.80932405377061\n",
      "680000-690000 :  99.81885785108207\n",
      "690000-700000 :  99.82521371595638\n",
      "700000-710000 :  99.85381510789078\n",
      "710000-720000 :  99.85381510789078\n",
      "720000-730000 :  99.86017097276509\n",
      "730000-740000 :  99.8665268376394\n",
      "740000-750000 :  99.8665268376394\n",
      "750000-760000 :  99.8728827025137\n",
      "760000-770000 :  99.8728827025137\n",
      "770000-780000 :  99.87923856738801\n",
      "780000-790000 :  99.88877236469948\n",
      "790000-800000 :  99.89512822957379\n",
      "800000-810000 :  99.89512822957379\n",
      "810000-820000 :  99.89512822957379\n",
      "820000-830000 :  99.89830616201094\n",
      "830000-840000 :  99.89830616201094\n",
      "840000-850000 :  99.9014840944481\n",
      "850000-860000 :  99.9078399593224\n",
      "860000-870000 :  99.9078399593224\n",
      "870000-880000 :  99.9078399593224\n",
      "880000-890000 :  99.91737375663386\n",
      "890000-900000 :  99.91737375663386\n",
      "900000-910000 :  99.9300854863825\n",
      "910000-920000 :  99.9300854863825\n",
      "920000-930000 :  99.93326341881965\n",
      "930000-940000 :  99.93326341881965\n",
      "940000-950000 :  99.93326341881965\n",
      "950000-960000 :  99.94597514856828\n",
      "960000-970000 :  99.94597514856828\n",
      "970000-980000 :  99.94597514856828\n",
      "980000-990000 :  99.94915308100543\n",
      "990000-1000000 :  99.94915308100543\n",
      "1000000-1010000 :  99.94915308100543\n",
      "1010000-1020000 :  99.94915308100543\n",
      "1020000-1030000 :  99.94915308100543\n",
      "1030000-1040000 :  99.94915308100543\n",
      "1040000-1050000 :  99.94915308100543\n",
      "1050000-1060000 :  99.94915308100543\n",
      "1060000-1070000 :  99.94915308100543\n",
      "1070000-1080000 :  99.94915308100543\n",
      "1080000-1090000 :  99.94915308100543\n",
      "1090000-1100000 :  99.94915308100543\n",
      "1100000-1110000 :  99.9586868783169\n",
      "1110000-1120000 :  99.9586868783169\n",
      "1120000-1130000 :  99.96822067562836\n",
      "1130000-1140000 :  99.96822067562836\n",
      "1140000-1150000 :  99.96822067562836\n",
      "1150000-1160000 :  99.96822067562836\n",
      "1160000-1170000 :  99.96822067562836\n",
      "1170000-1180000 :  99.96822067562836\n",
      "1180000-1190000 :  99.96822067562836\n",
      "1190000-1200000 :  99.96822067562836\n",
      "1200000-1210000 :  99.97457654050267\n",
      "1210000-1220000 :  99.97457654050267\n",
      "1220000-1230000 :  99.97457654050267\n",
      "1230000-1240000 :  99.97457654050267\n",
      "1240000-1250000 :  99.97457654050267\n",
      "1250000-1260000 :  99.97457654050267\n",
      "1260000-1270000 :  99.97457654050267\n",
      "1270000-1280000 :  99.97457654050267\n",
      "1280000-1290000 :  99.97457654050267\n",
      "1290000-1300000 :  99.97457654050267\n",
      "1300000-1310000 :  99.98411033781413\n",
      "1310000-1320000 :  99.98411033781413\n",
      "1320000-1330000 :  99.98411033781413\n",
      "1330000-1340000 :  99.98411033781413\n",
      "1340000-1350000 :  99.98411033781413\n",
      "1350000-1360000 :  99.98411033781413\n",
      "1360000-1370000 :  99.98411033781413\n",
      "1370000-1380000 :  99.98411033781413\n",
      "1380000-1390000 :  99.98411033781413\n",
      "1390000-1400000 :  99.98728827025128\n",
      "1400000-1410000 :  99.98728827025128\n",
      "1410000-1420000 :  99.98728827025128\n",
      "1420000-1430000 :  99.98728827025128\n",
      "1430000-1440000 :  99.98728827025128\n",
      "1440000-1450000 :  99.98728827025128\n",
      "1450000-1460000 :  99.99046620268844\n",
      "1460000-1470000 :  99.99046620268844\n",
      "1470000-1480000 :  99.99046620268844\n",
      "1480000-1490000 :  99.99046620268844\n",
      "1490000-1500000 :  99.99046620268844\n",
      "1500000-1510000 :  99.99046620268844\n",
      "1510000-1520000 :  99.99046620268844\n",
      "1520000-1530000 :  99.99046620268844\n",
      "1530000-1540000 :  99.99046620268844\n",
      "1540000-1550000 :  99.99046620268844\n",
      "1550000-1560000 :  99.99046620268844\n",
      "1560000-1570000 :  99.99046620268844\n",
      "1570000-1580000 :  99.99046620268844\n",
      "1580000-1590000 :  99.99046620268844\n",
      "1590000-1600000 :  99.99046620268844\n",
      "1600000-1610000 :  99.99046620268844\n",
      "1610000-1620000 :  99.99046620268844\n",
      "1620000-1630000 :  99.99046620268844\n",
      "1630000-1640000 :  99.99046620268844\n",
      "1640000-1650000 :  99.99046620268844\n",
      "1650000-1660000 :  99.99046620268844\n",
      "1660000-1670000 :  99.99364413512559\n",
      "1670000-1680000 :  99.99364413512559\n",
      "1680000-1690000 :  99.99364413512559\n",
      "1690000-1700000 :  99.99364413512559\n",
      "1700000-1710000 :  99.99364413512559\n",
      "1710000-1720000 :  99.99364413512559\n",
      "1720000-1730000 :  99.99364413512559\n",
      "1730000-1740000 :  99.99364413512559\n",
      "1740000-1750000 :  99.99364413512559\n",
      "1750000-1760000 :  99.99364413512559\n",
      "1760000-1770000 :  99.99364413512559\n",
      "1770000-1780000 :  99.99364413512559\n",
      "1780000-1790000 :  99.99364413512559\n",
      "1790000-1800000 :  99.99364413512559\n",
      "1800000-1810000 :  99.99682206756275\n",
      "1810000-1820000 :  99.99682206756275\n",
      "1820000-1830000 :  99.99682206756275\n",
      "1830000-1840000 :  99.99682206756275\n",
      "1840000-1850000 :  99.99682206756275\n",
      "1850000-1860000 :  99.99682206756275\n",
      "1860000-1870000 :  99.99682206756275\n",
      "1870000-1880000 :  99.99682206756275\n",
      "1880000-1890000 :  99.99682206756275\n",
      "1890000-1900000 :  99.99682206756275\n",
      "1900000-1910000 :  99.99682206756275\n",
      "1910000-1920000 :  99.99682206756275\n",
      "1920000-1930000 :  99.99682206756275\n",
      "1930000-1940000 :  99.99682206756275\n",
      "1940000-1950000 :  99.99682206756275\n",
      "1950000-1960000 :  99.99682206756275\n",
      "1960000-1970000 :  99.99682206756275\n",
      "1970000-1980000 :  99.99682206756275\n",
      "1980000-1990000 :  99.99682206756275\n",
      "1990000-2000000 :  99.99682206756275\n",
      "2000000-2010000 :  99.99682206756275\n",
      "2010000-2020000 :  99.99682206756275\n",
      "2020000-2030000 :  99.99682206756275\n",
      "2030000-2040000 :  99.99682206756275\n",
      "2040000-2050000 :  99.99682206756275\n",
      "2050000-2060000 :  99.99682206756275\n",
      "2060000-2070000 :  99.99682206756275\n",
      "2070000-2080000 :  99.99682206756275\n",
      "2080000-2090000 :  99.99682206756275\n",
      "2090000-2100000 :  99.99682206756275\n",
      "2100000-2110000 :  99.99682206756275\n",
      "2110000-2120000 :  99.99682206756275\n",
      "2120000-2130000 :  99.99682206756275\n",
      "2130000-2140000 :  99.99682206756275\n",
      "2140000-2150000 :  99.99682206756275\n",
      "2150000-2160000 :  99.99682206756275\n",
      "2160000-2170000 :  99.99682206756275\n",
      "2170000-2180000 :  99.99682206756275\n",
      "2180000-2190000 :  99.99682206756275\n",
      "2190000-2200000 :  99.99682206756275\n",
      "2200000-2210000 :  99.99682206756275\n",
      "2210000-2220000 :  99.99682206756275\n",
      "2220000-2230000 :  99.99682206756275\n",
      "2230000-2240000 :  99.99682206756275\n",
      "2240000-2250000 :  99.99682206756275\n",
      "2250000-2260000 :  99.99682206756275\n",
      "2260000-2270000 :  99.99682206756275\n",
      "2270000-2280000 :  99.99682206756275\n",
      "2280000-2290000 :  99.99682206756275\n",
      "2290000-2300000 :  99.99682206756275\n",
      "2300000-2310000 :  99.99682206756275\n",
      "2310000-2320000 :  99.99682206756275\n",
      "2320000-2330000 :  99.99682206756275\n",
      "2330000-2340000 :  99.99682206756275\n",
      "2340000-2350000 :  99.99682206756275\n",
      "2350000-2360000 :  99.99682206756275\n",
      "2360000-2370000 :  99.99682206756275\n",
      "2370000-2380000 :  99.99682206756275\n",
      "2380000-2390000 :  99.99682206756275\n",
      "2390000-2400000 :  99.99682206756275\n",
      "2400000-2410000 :  99.99682206756275\n",
      "2410000-2420000 :  99.99682206756275\n",
      "2420000-2430000 :  99.99682206756275\n",
      "2430000-2440000 :  99.99682206756275\n",
      "2440000-2450000 :  99.99682206756275\n",
      "2450000-2460000 :  99.99682206756275\n",
      "2460000-2470000 :  99.99682206756275\n",
      "2470000-2480000 :  99.99682206756275\n",
      "2480000-2490000 :  99.99682206756275\n",
      "2490000-2500000 :  99.99682206756275\n"
     ]
    }
   ],
   "source": [
    "s = 0\n",
    "for m in range(0,250):\n",
    "    s += 100*len(train[(m*10000 <= train['y'])&(train['y'] < (m+1)*10000)])/len(train)\n",
    "    print('{0}-{1} : '.format(m*10000,(m+1)*10000),s)"
   ]
  },
  {
   "cell_type": "code",
   "execution_count": null,
   "metadata": {},
   "outputs": [],
   "source": []
  }
 ],
 "metadata": {
  "kernelspec": {
   "display_name": "Python 3",
   "language": "python",
   "name": "python3"
  },
  "language_info": {
   "codemirror_mode": {
    "name": "ipython",
    "version": 3
   },
   "file_extension": ".py",
   "mimetype": "text/x-python",
   "name": "python",
   "nbconvert_exporter": "python",
   "pygments_lexer": "ipython3",
   "version": "3.7.4"
  },
  "toc": {
   "base_numbering": 1,
   "nav_menu": {},
   "number_sections": true,
   "sideBar": true,
   "skip_h1_title": false,
   "title_cell": "Table of Contents",
   "title_sidebar": "Contents",
   "toc_cell": false,
   "toc_position": {},
   "toc_section_display": true,
   "toc_window_display": false
  },
  "varInspector": {
   "cols": {
    "lenName": 16,
    "lenType": 16,
    "lenVar": 40
   },
   "kernels_config": {
    "python": {
     "delete_cmd_postfix": "",
     "delete_cmd_prefix": "del ",
     "library": "var_list.py",
     "varRefreshCmd": "print(var_dic_list())"
    },
    "r": {
     "delete_cmd_postfix": ") ",
     "delete_cmd_prefix": "rm(",
     "library": "var_list.r",
     "varRefreshCmd": "cat(var_dic_list()) "
    }
   },
   "types_to_exclude": [
    "module",
    "function",
    "builtin_function_or_method",
    "instance",
    "_Feature"
   ],
   "window_display": false
  }
 },
 "nbformat": 4,
 "nbformat_minor": 2
}
