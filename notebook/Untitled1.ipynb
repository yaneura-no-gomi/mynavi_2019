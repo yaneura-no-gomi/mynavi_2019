{
 "cells": [
  {
   "cell_type": "code",
   "execution_count": 108,
   "metadata": {},
   "outputs": [],
   "source": [
    "import glob\n",
    "import os\n",
    "import re\n",
    "import sys\n",
    "import warnings\n",
    "import pickle\n",
    "\n",
    "import lightgbm as lgb\n",
    "import matplotlib.pyplot as plt\n",
    "import numpy as np\n",
    "import optuna\n",
    "import pandas as pd\n",
    "import seaborn as sns\n",
    "from sklearn.metrics import accuracy_score,confusion_matrix\n",
    "from sklearn.model_selection import (KFold, StratifiedKFold, cross_val_score,\n",
    "                                     train_test_split)\n",
    "from sklearn.preprocessing import StandardScaler\n",
    "from tqdm import tqdm\n",
    "\n",
    "warnings.filterwarnings('ignore')"
   ]
  },
  {
   "cell_type": "code",
   "execution_count": 72,
   "metadata": {},
   "outputs": [
    {
     "name": "stdout",
     "output_type": "stream",
     "text": [
      "/home/toshiya/Workspace/learning/signate/mynavi_2019\n"
     ]
    }
   ],
   "source": [
    "%pwd\n",
    "%cd /home/toshiya/Workspace/learning/signate/mynavi_2019/"
   ]
  },
  {
   "cell_type": "markdown",
   "metadata": {},
   "source": [
    "### 方針"
   ]
  },
  {
   "cell_type": "markdown",
   "metadata": {},
   "source": [
    "- high_price_flag==1が30000件中254件のみ\n",
    "- アンダーサンプリングによって複数の学習データと学習させた分類器を作成\n",
    "- テストデータに対する外れ値予測をアンサンブルによって行う"
   ]
  },
  {
   "cell_type": "code",
   "execution_count": 73,
   "metadata": {},
   "outputs": [],
   "source": [
    "df = pd.read_csv('processed_data/train_v11.csv')"
   ]
  },
  {
   "cell_type": "markdown",
   "metadata": {},
   "source": [
    "### データの分割&学習データ作成"
   ]
  },
  {
   "cell_type": "code",
   "execution_count": 74,
   "metadata": {},
   "outputs": [],
   "source": [
    "high = df[df['high_price_flag']==1]\n",
    "other = df[df['high_price_flag']!=1]"
   ]
  },
  {
   "cell_type": "code",
   "execution_count": 75,
   "metadata": {},
   "outputs": [],
   "source": [
    "ratio = 3\n",
    "r1 = other.sample(n=len(high)*ratio)\n",
    "r2 = other.sample(n=len(high)*ratio)\n",
    "r3 = other.sample(n=len(high)*ratio)\n",
    "r4 = other.sample(n=len(high)*ratio)"
   ]
  },
  {
   "cell_type": "code",
   "execution_count": 76,
   "metadata": {},
   "outputs": [],
   "source": [
    "r1 = pd.concat([r1,high]).reset_index(drop=True)\n",
    "r2 = pd.concat([r2,high]).reset_index(drop=True)\n",
    "r3 = pd.concat([r3,high]).reset_index(drop=True)\n",
    "r4 = pd.concat([r4,high]).reset_index(drop=True)"
   ]
  },
  {
   "cell_type": "markdown",
   "metadata": {},
   "source": [
    "### 実験"
   ]
  },
  {
   "cell_type": "code",
   "execution_count": 77,
   "metadata": {},
   "outputs": [],
   "source": [
    "from src.utils.high_and_low_clf import High_and_Low_Classifier"
   ]
  },
  {
   "cell_type": "code",
   "execution_count": 78,
   "metadata": {},
   "outputs": [],
   "source": [
    "use_col = df.columns\n",
    "un_use_col = ['id','y','log_y','location', 'access', 'layout', 'age', 'direction', 'area','floor', 'bath_toilet', 'kitchen',\n",
    "                 'broadcast_com', 'facilities','parking', 'enviroment', 'structure', 'contract_period',\n",
    "                 'walk_time','23ku',\n",
    "                #  'area_num_countall','floor_countall','room_num_countall','facilities_countall','age_countall','area_num_countall',\n",
    "                ]\n",
    "mdl = lgb.Booster(model_file='mdl/1011_lgbm.txt')\n",
    "feature_importances = pd.DataFrame()\n",
    "feature_importances['feature'] = mdl.feature_name()\n",
    "feature_importances['importance'] = mdl.feature_importance()\n",
    "feature_importances = feature_importances.sort_values(by='importance', ascending=False)\n",
    "\n",
    "un_use_col += list(feature_importances[feature_importances['importance']==0]['feature'])\n",
    "\n",
    "use_col = [c for c in use_col if c not in un_use_col]"
   ]
  },
  {
   "cell_type": "code",
   "execution_count": 79,
   "metadata": {},
   "outputs": [
    {
     "data": {
      "text/plain": [
       "88"
      ]
     },
     "execution_count": 79,
     "metadata": {},
     "output_type": "execute_result"
    }
   ],
   "source": [
    "len(use_col)"
   ]
  },
  {
   "cell_type": "code",
   "execution_count": 80,
   "metadata": {},
   "outputs": [],
   "source": [
    "X_train,X_test,y_train,y_test = train_test_split(r1.loc[:,use_col],r1.loc[:,'high_price_flag'],random_state=0,test_size=0.3)"
   ]
  },
  {
   "cell_type": "code",
   "execution_count": 84,
   "metadata": {},
   "outputs": [],
   "source": [
    "def objective(trial):\n",
    "\n",
    "    learning_rate = trial.suggest_uniform('learning_rate', 0, 1.0)\n",
    "    num_leaves = trial.suggest_int('num_leaves', 10, 2**8)\n",
    "    max_depth = trial.suggest_int('max_depth', 3, 8)\n",
    "\n",
    "    lgbm_params = {\n",
    "        'task': 'train',\n",
    "        # \"metrics\": 'xentropy',\n",
    "        'boosting_type': 'gbdt',\n",
    "        'objective': 'binary',\n",
    "        \"learning_rate\": learning_rate,\n",
    "        \"num_leaves\": num_leaves,\n",
    "        \"max_depth\": max_depth,\n",
    "        \"n_jobs\": 1,\n",
    "        'verbose': -1,\n",
    "        \"seed\": 0\n",
    "    }\n",
    "\n",
    "    mdl = lgb.LGBMClassifier(**lgbm_params)\n",
    "    stratifiedkfold = StratifiedKFold(n_splits=3)\n",
    "    scores = cross_val_score(mdl,X_train,y_train,cv=stratifiedkfold,scoring='neg_log_loss')\n",
    "    score = np.mean(scores)\n",
    "\n",
    "    return score"
   ]
  },
  {
   "cell_type": "code",
   "execution_count": 85,
   "metadata": {
    "collapsed": true
   },
   "outputs": [
    {
     "name": "stderr",
     "output_type": "stream",
     "text": [
      "\u001b[32m[I 2019-10-11 23:04:52,255]\u001b[0m Finished trial#0 resulted in value: -3.814753195251598e-06. Current best value is -3.814753195251598e-06 with parameters: {'learning_rate': 0.1683242508253997, 'num_leaves': 34, 'max_depth': 5}.\u001b[0m\n",
      "\u001b[32m[I 2019-10-11 23:04:52,804]\u001b[0m Finished trial#1 resulted in value: -3.812615324363212e-06. Current best value is -3.814753195251598e-06 with parameters: {'learning_rate': 0.1683242508253997, 'num_leaves': 34, 'max_depth': 5}.\u001b[0m\n",
      "\u001b[32m[I 2019-10-11 23:04:53,344]\u001b[0m Finished trial#2 resulted in value: -3.4258698731307027e-06. Current best value is -3.814753195251598e-06 with parameters: {'learning_rate': 0.1683242508253997, 'num_leaves': 34, 'max_depth': 5}.\u001b[0m\n",
      "\u001b[32m[I 2019-10-11 23:04:53,862]\u001b[0m Finished trial#3 resulted in value: -3.60119730411879e-06. Current best value is -3.814753195251598e-06 with parameters: {'learning_rate': 0.1683242508253997, 'num_leaves': 34, 'max_depth': 5}.\u001b[0m\n",
      "\u001b[32m[I 2019-10-11 23:04:54,389]\u001b[0m Finished trial#4 resulted in value: -4.064565269749805e-06. Current best value is -4.064565269749805e-06 with parameters: {'learning_rate': 0.7958788238750588, 'num_leaves': 248, 'max_depth': 3}.\u001b[0m\n",
      "\u001b[32m[I 2019-10-11 23:04:54,913]\u001b[0m Finished trial#5 resulted in value: -3.9928628979693325e-06. Current best value is -4.064565269749805e-06 with parameters: {'learning_rate': 0.7958788238750588, 'num_leaves': 248, 'max_depth': 3}.\u001b[0m\n",
      "\u001b[32m[I 2019-10-11 23:04:55,435]\u001b[0m Finished trial#6 resulted in value: -3.5844037597547624e-06. Current best value is -4.064565269749805e-06 with parameters: {'learning_rate': 0.7958788238750588, 'num_leaves': 248, 'max_depth': 3}.\u001b[0m\n",
      "\u001b[32m[I 2019-10-11 23:04:55,963]\u001b[0m Finished trial#7 resulted in value: -3.5829243446017596e-06. Current best value is -4.064565269749805e-06 with parameters: {'learning_rate': 0.7958788238750588, 'num_leaves': 248, 'max_depth': 3}.\u001b[0m\n",
      "\u001b[32m[I 2019-10-11 23:04:56,525]\u001b[0m Finished trial#8 resulted in value: -3.64533136679444e-06. Current best value is -4.064565269749805e-06 with parameters: {'learning_rate': 0.7958788238750588, 'num_leaves': 248, 'max_depth': 3}.\u001b[0m\n",
      "\u001b[32m[I 2019-10-11 23:04:57,055]\u001b[0m Finished trial#9 resulted in value: -3.558360932894709e-06. Current best value is -4.064565269749805e-06 with parameters: {'learning_rate': 0.7958788238750588, 'num_leaves': 248, 'max_depth': 3}.\u001b[0m\n"
     ]
    }
   ],
   "source": [
    "study = optuna.create_study()\n",
    "study.optimize(objective,n_trials=10)"
   ]
  },
  {
   "cell_type": "code",
   "execution_count": 90,
   "metadata": {
    "collapsed": true
   },
   "outputs": [
    {
     "name": "stderr",
     "output_type": "stream",
     "text": [
      "\u001b[32m[I 2019-10-11 23:07:02,076]\u001b[0m Finished trial#0 resulted in value: -4.079421569981034e-06. Current best value is -4.079421569981034e-06 with parameters: {'learning_rate': 0.6130678836720552, 'num_leaves': 39, 'max_depth': 4}.\u001b[0m\n",
      "\u001b[32m[I 2019-10-11 23:07:02,603]\u001b[0m Finished trial#1 resulted in value: -3.577493797616305e-06. Current best value is -4.079421569981034e-06 with parameters: {'learning_rate': 0.6130678836720552, 'num_leaves': 39, 'max_depth': 4}.\u001b[0m\n",
      "\u001b[32m[I 2019-10-11 23:07:03,162]\u001b[0m Finished trial#2 resulted in value: -0.03707670679054336. Current best value is -0.03707670679054336 with parameters: {'learning_rate': 0.023191361057977367, 'num_leaves': 160, 'max_depth': 4}.\u001b[0m\n",
      "\u001b[32m[I 2019-10-11 23:07:03,700]\u001b[0m Finished trial#3 resulted in value: -3.19876951652724e-06. Current best value is -0.03707670679054336 with parameters: {'learning_rate': 0.023191361057977367, 'num_leaves': 160, 'max_depth': 4}.\u001b[0m\n",
      "\u001b[32m[I 2019-10-11 23:07:04,226]\u001b[0m Finished trial#4 resulted in value: -4.090853585443763e-06. Current best value is -0.03707670679054336 with parameters: {'learning_rate': 0.023191361057977367, 'num_leaves': 160, 'max_depth': 4}.\u001b[0m\n",
      "\u001b[32m[I 2019-10-11 23:07:04,756]\u001b[0m Finished trial#5 resulted in value: -3.448193173535661e-06. Current best value is -0.03707670679054336 with parameters: {'learning_rate': 0.023191361057977367, 'num_leaves': 160, 'max_depth': 4}.\u001b[0m\n",
      "\u001b[32m[I 2019-10-11 23:07:05,299]\u001b[0m Finished trial#6 resulted in value: -3.4049850779442084e-06. Current best value is -0.03707670679054336 with parameters: {'learning_rate': 0.023191361057977367, 'num_leaves': 160, 'max_depth': 4}.\u001b[0m\n",
      "\u001b[32m[I 2019-10-11 23:07:05,822]\u001b[0m Finished trial#7 resulted in value: -3.6223849424171667e-06. Current best value is -0.03707670679054336 with parameters: {'learning_rate': 0.023191361057977367, 'num_leaves': 160, 'max_depth': 4}.\u001b[0m\n",
      "\u001b[32m[I 2019-10-11 23:07:06,343]\u001b[0m Finished trial#8 resulted in value: -3.443659124517872e-06. Current best value is -0.03707670679054336 with parameters: {'learning_rate': 0.023191361057977367, 'num_leaves': 160, 'max_depth': 4}.\u001b[0m\n",
      "\u001b[32m[I 2019-10-11 23:07:06,913]\u001b[0m Finished trial#9 resulted in value: -0.0001241246369910852. Current best value is -0.03707670679054336 with parameters: {'learning_rate': 0.023191361057977367, 'num_leaves': 160, 'max_depth': 4}.\u001b[0m\n"
     ]
    },
    {
     "data": {
      "text/plain": [
       "LGBMClassifier(boosting_type='gbdt', class_weight=None, colsample_bytree=1.0,\n",
       "               importance_type='split', learning_rate=0.023191361057977367,\n",
       "               max_depth=4, min_child_samples=20, min_child_weight=0.001,\n",
       "               min_split_gain=0.0, n_estimators=100, n_jobs=-1, num_leaves=160,\n",
       "               objective=None, random_state=None, reg_alpha=0.0, reg_lambda=0.0,\n",
       "               silent=True, subsample=1.0, subsample_for_bin=200000,\n",
       "               subsample_freq=0)"
      ]
     },
     "execution_count": 90,
     "metadata": {},
     "output_type": "execute_result"
    }
   ],
   "source": [
    "mdl = lgb.LGBMClassifier(**study.best_params)\n",
    "mdl.fit(X_train,y_train)"
   ]
  },
  {
   "cell_type": "code",
   "execution_count": 97,
   "metadata": {},
   "outputs": [],
   "source": [
    "pred_train = mdl.predict_proba(X_train)[:,1]\n",
    "pred_train = [1 if i>0.5 else 0 for i in pred_train]\n",
    "pred_test = mdl.predict_proba(X_test)[:,1]\n",
    "pred_test = [1 if i>0.5 else 0 for i in pred_test]\n",
    "train_accuracy = accuracy_score(y_train,pred_train)\n",
    "test_accuracy = accuracy_score(y_test,pred_test)"
   ]
  },
  {
   "cell_type": "code",
   "execution_count": 100,
   "metadata": {},
   "outputs": [
    {
     "data": {
      "text/plain": [
       "array([[226,   0],\n",
       "       [  0,  79]])"
      ]
     },
     "execution_count": 100,
     "metadata": {},
     "output_type": "execute_result"
    }
   ],
   "source": [
    "confusion_matrix(y_test,pred_test)"
   ]
  },
  {
   "cell_type": "code",
   "execution_count": 112,
   "metadata": {},
   "outputs": [
    {
     "data": {
      "text/plain": [
       "array([[31212,     0],\n",
       "       [    0,   254]])"
      ]
     },
     "execution_count": 112,
     "metadata": {},
     "output_type": "execute_result"
    }
   ],
   "source": [
    "pred_r2 = mdl.predict_proba(df.loc[:,use_col])[:,1]\n",
    "pred_r2 = [1 if i>0.5 else 0 for i in pred_r2]\n",
    "confusion_matrix(df.loc[:,'high_price_flag'],pred_r2)"
   ]
  },
  {
   "cell_type": "markdown",
   "metadata": {},
   "source": [
    "### 関数定義"
   ]
  },
  {
   "cell_type": "code",
   "execution_count": 106,
   "metadata": {},
   "outputs": [],
   "source": [
    "def model_train(r,use_col):\n",
    "    X_train,X_test,y_train,y_test = train_test_split(r.loc[:,use_col],r.loc[:,'high_price_flag'],random_state=0,test_size=0.3)\n",
    "    def objective(trial):\n",
    "\n",
    "        learning_rate = trial.suggest_uniform('learning_rate', 0, 1.0)\n",
    "        num_leaves = trial.suggest_int('num_leaves', 10, 2**8)\n",
    "        max_depth = trial.suggest_int('max_depth', 3, 8)\n",
    "\n",
    "        lgbm_params = {\n",
    "            'task': 'train',\n",
    "            'boosting_type': 'gbdt',\n",
    "            'objective': 'binary',\n",
    "            \"learning_rate\": learning_rate,\n",
    "            \"num_leaves\": num_leaves,\n",
    "            \"max_depth\": max_depth,\n",
    "            \"n_jobs\": 1,\n",
    "            'verbose': -1,\n",
    "            \"seed\": 0\n",
    "        }\n",
    "\n",
    "        mdl = lgb.LGBMClassifier(**lgbm_params)\n",
    "        stratifiedkfold = StratifiedKFold(n_splits=3)\n",
    "        scores = cross_val_score(mdl,X_train,y_train,cv=stratifiedkfold,scoring='neg_log_loss')\n",
    "        score = np.mean(scores)\n",
    "\n",
    "        return score\n",
    "    \n",
    "    study = optuna.create_study()\n",
    "    study.optimize(objective,n_trials=10)\n",
    "    \n",
    "    mdl = lgb.LGBMClassifier(**study.best_params)\n",
    "    mdl.fit(X_train,y_train)\n",
    "    \n",
    "    pred_test = mdl.predict_proba(X_test)[:,1]\n",
    "    pred_test = [1 if i>0.5 else 0 for i in pred_test]\n",
    "    test_accuracy = accuracy_score(y_test,pred_test)\n",
    "    \n",
    "    trained_mdl = mdl.fit(r.loc[:,use_col],r.loc[:,'high_price_flag'])\n",
    "    \n",
    "    return test_accuracy,confusion_matrix(y_test,pred_test),trained_mdl"
   ]
  },
  {
   "cell_type": "code",
   "execution_count": 109,
   "metadata": {},
   "outputs": [
    {
     "name": "stderr",
     "output_type": "stream",
     "text": [
      "\u001b[32m[I 2019-10-11 23:34:22,372]\u001b[0m Finished trial#0 resulted in value: -3.43462620870446e-06. Current best value is -3.43462620870446e-06 with parameters: {'learning_rate': 0.42068960160351054, 'num_leaves': 169, 'max_depth': 4}.\u001b[0m\n",
      "\u001b[32m[I 2019-10-11 23:34:22,915]\u001b[0m Finished trial#1 resulted in value: -3.670889718394251e-06. Current best value is -3.670889718394251e-06 with parameters: {'learning_rate': 0.5405102681305786, 'num_leaves': 55, 'max_depth': 7}.\u001b[0m\n",
      "\u001b[32m[I 2019-10-11 23:34:23,457]\u001b[0m Finished trial#2 resulted in value: -3.7827567063415282e-06. Current best value is -3.7827567063415282e-06 with parameters: {'learning_rate': 0.5391100127895041, 'num_leaves': 104, 'max_depth': 6}.\u001b[0m\n",
      "\u001b[32m[I 2019-10-11 23:34:23,996]\u001b[0m Finished trial#3 resulted in value: -3.4126699684336676e-06. Current best value is -3.7827567063415282e-06 with parameters: {'learning_rate': 0.5391100127895041, 'num_leaves': 104, 'max_depth': 6}.\u001b[0m\n",
      "\u001b[32m[I 2019-10-11 23:34:24,542]\u001b[0m Finished trial#4 resulted in value: -3.992010514661696e-06. Current best value is -3.992010514661696e-06 with parameters: {'learning_rate': 0.36286383331554295, 'num_leaves': 101, 'max_depth': 4}.\u001b[0m\n",
      "\u001b[32m[I 2019-10-11 23:34:25,080]\u001b[0m Finished trial#5 resulted in value: -3.385135013212616e-06. Current best value is -3.992010514661696e-06 with parameters: {'learning_rate': 0.36286383331554295, 'num_leaves': 101, 'max_depth': 4}.\u001b[0m\n",
      "\u001b[32m[I 2019-10-11 23:34:25,627]\u001b[0m Finished trial#6 resulted in value: -3.4798025509298726e-06. Current best value is -3.992010514661696e-06 with parameters: {'learning_rate': 0.36286383331554295, 'num_leaves': 101, 'max_depth': 4}.\u001b[0m\n",
      "\u001b[32m[I 2019-10-11 23:34:26,162]\u001b[0m Finished trial#7 resulted in value: -3.827917759191863e-06. Current best value is -3.992010514661696e-06 with parameters: {'learning_rate': 0.36286383331554295, 'num_leaves': 101, 'max_depth': 4}.\u001b[0m\n",
      "\u001b[32m[I 2019-10-11 23:34:26,704]\u001b[0m Finished trial#8 resulted in value: -3.265041046544103e-06. Current best value is -3.992010514661696e-06 with parameters: {'learning_rate': 0.36286383331554295, 'num_leaves': 101, 'max_depth': 4}.\u001b[0m\n",
      "\u001b[32m[I 2019-10-11 23:34:27,286]\u001b[0m Finished trial#9 resulted in value: -3.931422687241245e-05. Current best value is -3.931422687241245e-05 with parameters: {'learning_rate': 0.09112674920178909, 'num_leaves': 210, 'max_depth': 6}.\u001b[0m\n"
     ]
    },
    {
     "name": "stdout",
     "output_type": "stream",
     "text": [
      "---------------------\n",
      "test acc:  1.0\n",
      "[[226   0]\n",
      " [  0  79]]\n",
      "---------------------\n"
     ]
    },
    {
     "name": "stderr",
     "output_type": "stream",
     "text": [
      "\u001b[32m[I 2019-10-11 23:34:27,938]\u001b[0m Finished trial#0 resulted in value: -3.68547520273531e-06. Current best value is -3.68547520273531e-06 with parameters: {'learning_rate': 0.5970612949593745, 'num_leaves': 205, 'max_depth': 3}.\u001b[0m\n",
      "\u001b[32m[I 2019-10-11 23:34:28,527]\u001b[0m Finished trial#1 resulted in value: -1.2750646878340078e-05. Current best value is -1.2750646878340078e-05 with parameters: {'learning_rate': 0.10233481880391293, 'num_leaves': 251, 'max_depth': 6}.\u001b[0m\n",
      "\u001b[32m[I 2019-10-11 23:34:29,082]\u001b[0m Finished trial#2 resulted in value: -3.123338308890526e-06. Current best value is -1.2750646878340078e-05 with parameters: {'learning_rate': 0.10233481880391293, 'num_leaves': 251, 'max_depth': 6}.\u001b[0m\n",
      "\u001b[32m[I 2019-10-11 23:34:29,630]\u001b[0m Finished trial#3 resulted in value: -3.8499615653387655e-06. Current best value is -1.2750646878340078e-05 with parameters: {'learning_rate': 0.10233481880391293, 'num_leaves': 251, 'max_depth': 6}.\u001b[0m\n",
      "\u001b[32m[I 2019-10-11 23:34:30,182]\u001b[0m Finished trial#4 resulted in value: -3.865881225904485e-06. Current best value is -1.2750646878340078e-05 with parameters: {'learning_rate': 0.10233481880391293, 'num_leaves': 251, 'max_depth': 6}.\u001b[0m\n",
      "\u001b[32m[I 2019-10-11 23:34:30,755]\u001b[0m Finished trial#5 resulted in value: -3.7232605770541564e-06. Current best value is -1.2750646878340078e-05 with parameters: {'learning_rate': 0.10233481880391293, 'num_leaves': 251, 'max_depth': 6}.\u001b[0m\n",
      "\u001b[32m[I 2019-10-11 23:34:31,316]\u001b[0m Finished trial#6 resulted in value: -3.736876555313471e-06. Current best value is -1.2750646878340078e-05 with parameters: {'learning_rate': 0.10233481880391293, 'num_leaves': 251, 'max_depth': 6}.\u001b[0m\n",
      "\u001b[32m[I 2019-10-11 23:34:31,873]\u001b[0m Finished trial#7 resulted in value: -3.7079968778314237e-06. Current best value is -1.2750646878340078e-05 with parameters: {'learning_rate': 0.10233481880391293, 'num_leaves': 251, 'max_depth': 6}.\u001b[0m\n",
      "\u001b[32m[I 2019-10-11 23:34:32,435]\u001b[0m Finished trial#8 resulted in value: -4.018313424027666e-06. Current best value is -1.2750646878340078e-05 with parameters: {'learning_rate': 0.10233481880391293, 'num_leaves': 251, 'max_depth': 6}.\u001b[0m\n",
      "\u001b[32m[I 2019-10-11 23:34:32,984]\u001b[0m Finished trial#9 resulted in value: -3.285980188698082e-06. Current best value is -1.2750646878340078e-05 with parameters: {'learning_rate': 0.10233481880391293, 'num_leaves': 251, 'max_depth': 6}.\u001b[0m\n"
     ]
    },
    {
     "name": "stdout",
     "output_type": "stream",
     "text": [
      "---------------------\n",
      "test acc:  1.0\n",
      "[[226   0]\n",
      " [  0  79]]\n",
      "---------------------\n"
     ]
    },
    {
     "name": "stderr",
     "output_type": "stream",
     "text": [
      "\u001b[32m[I 2019-10-11 23:34:33,682]\u001b[0m Finished trial#0 resulted in value: -3.706912933186865e-06. Current best value is -3.706912933186865e-06 with parameters: {'learning_rate': 0.18500248072409453, 'num_leaves': 241, 'max_depth': 7}.\u001b[0m\n",
      "\u001b[32m[I 2019-10-11 23:34:34,240]\u001b[0m Finished trial#1 resulted in value: -3.6060335586444725e-06. Current best value is -3.706912933186865e-06 with parameters: {'learning_rate': 0.18500248072409453, 'num_leaves': 241, 'max_depth': 7}.\u001b[0m\n",
      "\u001b[32m[I 2019-10-11 23:34:34,797]\u001b[0m Finished trial#2 resulted in value: -4.1559107671690924e-06. Current best value is -4.1559107671690924e-06 with parameters: {'learning_rate': 0.6120810391129562, 'num_leaves': 61, 'max_depth': 8}.\u001b[0m\n",
      "\u001b[32m[I 2019-10-11 23:34:35,395]\u001b[0m Finished trial#3 resulted in value: -0.0007556004683583283. Current best value is -0.0007556004683583283 with parameters: {'learning_rate': 0.06170551740145147, 'num_leaves': 49, 'max_depth': 8}.\u001b[0m\n",
      "\u001b[32m[I 2019-10-11 23:34:35,980]\u001b[0m Finished trial#4 resulted in value: -4.683988348386519e-06. Current best value is -0.0007556004683583283 with parameters: {'learning_rate': 0.06170551740145147, 'num_leaves': 49, 'max_depth': 8}.\u001b[0m\n",
      "\u001b[32m[I 2019-10-11 23:34:36,530]\u001b[0m Finished trial#5 resulted in value: -3.6310923588805287e-06. Current best value is -0.0007556004683583283 with parameters: {'learning_rate': 0.06170551740145147, 'num_leaves': 49, 'max_depth': 8}.\u001b[0m\n",
      "\u001b[32m[I 2019-10-11 23:34:37,105]\u001b[0m Finished trial#6 resulted in value: -3.1953333509676794e-06. Current best value is -0.0007556004683583283 with parameters: {'learning_rate': 0.06170551740145147, 'num_leaves': 49, 'max_depth': 8}.\u001b[0m\n",
      "\u001b[32m[I 2019-10-11 23:34:37,666]\u001b[0m Finished trial#7 resulted in value: -3.2071268303036616e-06. Current best value is -0.0007556004683583283 with parameters: {'learning_rate': 0.06170551740145147, 'num_leaves': 49, 'max_depth': 8}.\u001b[0m\n",
      "\u001b[32m[I 2019-10-11 23:34:38,218]\u001b[0m Finished trial#8 resulted in value: -3.2725959676164758e-06. Current best value is -0.0007556004683583283 with parameters: {'learning_rate': 0.06170551740145147, 'num_leaves': 49, 'max_depth': 8}.\u001b[0m\n",
      "\u001b[32m[I 2019-10-11 23:34:38,804]\u001b[0m Finished trial#9 resulted in value: -0.15037133116589432. Current best value is -0.15037133116589432 with parameters: {'learning_rate': 0.010032106453020218, 'num_leaves': 246, 'max_depth': 3}.\u001b[0m\n"
     ]
    },
    {
     "name": "stdout",
     "output_type": "stream",
     "text": [
      "---------------------\n",
      "test acc:  1.0\n",
      "[[226   0]\n",
      " [  0  79]]\n",
      "---------------------\n"
     ]
    },
    {
     "name": "stderr",
     "output_type": "stream",
     "text": [
      "\u001b[32m[I 2019-10-11 23:34:39,464]\u001b[0m Finished trial#0 resulted in value: -3.512538054618446e-06. Current best value is -3.512538054618446e-06 with parameters: {'learning_rate': 0.8765856655842689, 'num_leaves': 65, 'max_depth': 6}.\u001b[0m\n",
      "\u001b[32m[I 2019-10-11 23:34:40,052]\u001b[0m Finished trial#1 resulted in value: -0.0004016232048930767. Current best value is -0.0004016232048930767 with parameters: {'learning_rate': 0.06799493252810873, 'num_leaves': 55, 'max_depth': 6}.\u001b[0m\n",
      "\u001b[32m[I 2019-10-11 23:34:40,606]\u001b[0m Finished trial#2 resulted in value: -3.279772876627993e-06. Current best value is -0.0004016232048930767 with parameters: {'learning_rate': 0.06799493252810873, 'num_leaves': 55, 'max_depth': 6}.\u001b[0m\n",
      "\u001b[32m[I 2019-10-11 23:34:41,153]\u001b[0m Finished trial#3 resulted in value: -4.1334707550597575e-06. Current best value is -0.0004016232048930767 with parameters: {'learning_rate': 0.06799493252810873, 'num_leaves': 55, 'max_depth': 6}.\u001b[0m\n",
      "\u001b[32m[I 2019-10-11 23:34:41,692]\u001b[0m Finished trial#4 resulted in value: -3.716918795658409e-06. Current best value is -0.0004016232048930767 with parameters: {'learning_rate': 0.06799493252810873, 'num_leaves': 55, 'max_depth': 6}.\u001b[0m\n",
      "\u001b[32m[I 2019-10-11 23:34:42,251]\u001b[0m Finished trial#5 resulted in value: -3.3546215606993967e-06. Current best value is -0.0004016232048930767 with parameters: {'learning_rate': 0.06799493252810873, 'num_leaves': 55, 'max_depth': 6}.\u001b[0m\n",
      "\u001b[32m[I 2019-10-11 23:34:42,796]\u001b[0m Finished trial#6 resulted in value: -3.6644910734597563e-06. Current best value is -0.0004016232048930767 with parameters: {'learning_rate': 0.06799493252810873, 'num_leaves': 55, 'max_depth': 6}.\u001b[0m\n",
      "\u001b[32m[I 2019-10-11 23:34:43,345]\u001b[0m Finished trial#7 resulted in value: -3.795198335464166e-06. Current best value is -0.0004016232048930767 with parameters: {'learning_rate': 0.06799493252810873, 'num_leaves': 55, 'max_depth': 6}.\u001b[0m\n",
      "\u001b[32m[I 2019-10-11 23:34:43,884]\u001b[0m Finished trial#8 resulted in value: -4.10208992199869e-06. Current best value is -0.0004016232048930767 with parameters: {'learning_rate': 0.06799493252810873, 'num_leaves': 55, 'max_depth': 6}.\u001b[0m\n",
      "\u001b[32m[I 2019-10-11 23:34:44,456]\u001b[0m Finished trial#9 resulted in value: -0.00032172152014049347. Current best value is -0.0004016232048930767 with parameters: {'learning_rate': 0.06799493252810873, 'num_leaves': 55, 'max_depth': 6}.\u001b[0m\n"
     ]
    },
    {
     "name": "stdout",
     "output_type": "stream",
     "text": [
      "---------------------\n",
      "test acc:  1.0\n",
      "[[226   0]\n",
      " [  0  79]]\n",
      "---------------------\n"
     ]
    }
   ],
   "source": [
    "for i,r in enumerate([r1,r2,r3,r4]):\n",
    "    acc,cm,m = model_train(r,use_col)\n",
    "    print('---------------------')\n",
    "    print('test acc: ',acc)\n",
    "    print(cm)\n",
    "    print('---------------------')\n",
    "    with open('mdl/1011_hl{}.pkl'.format(str(i)), 'wb') as f:\n",
    "        pickle.dump(m, f)"
   ]
  },
  {
   "cell_type": "code",
   "execution_count": null,
   "metadata": {},
   "outputs": [],
   "source": []
  }
 ],
 "metadata": {
  "kernelspec": {
   "display_name": "Python 3",
   "language": "python",
   "name": "python3"
  },
  "language_info": {
   "codemirror_mode": {
    "name": "ipython",
    "version": 3
   },
   "file_extension": ".py",
   "mimetype": "text/x-python",
   "name": "python",
   "nbconvert_exporter": "python",
   "pygments_lexer": "ipython3",
   "version": "3.7.4"
  },
  "toc": {
   "base_numbering": 1,
   "nav_menu": {},
   "number_sections": true,
   "sideBar": true,
   "skip_h1_title": false,
   "title_cell": "Table of Contents",
   "title_sidebar": "Contents",
   "toc_cell": false,
   "toc_position": {},
   "toc_section_display": true,
   "toc_window_display": true
  },
  "varInspector": {
   "cols": {
    "lenName": 16,
    "lenType": 16,
    "lenVar": 40
   },
   "kernels_config": {
    "python": {
     "delete_cmd_postfix": "",
     "delete_cmd_prefix": "del ",
     "library": "var_list.py",
     "varRefreshCmd": "print(var_dic_list())"
    },
    "r": {
     "delete_cmd_postfix": ") ",
     "delete_cmd_prefix": "rm(",
     "library": "var_list.r",
     "varRefreshCmd": "cat(var_dic_list()) "
    }
   },
   "types_to_exclude": [
    "module",
    "function",
    "builtin_function_or_method",
    "instance",
    "_Feature"
   ],
   "window_display": false
  }
 },
 "nbformat": 4,
 "nbformat_minor": 2
}
