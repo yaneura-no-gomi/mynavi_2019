{
 "cells": [
  {
   "cell_type": "code",
   "execution_count": 8,
   "metadata": {},
   "outputs": [],
   "source": [
    "import pandas as pd"
   ]
  },
  {
   "cell_type": "code",
   "execution_count": 21,
   "metadata": {},
   "outputs": [],
   "source": [
    "df = pd.read_csv('../data/train.csv')"
   ]
  },
  {
   "cell_type": "code",
   "execution_count": 22,
   "metadata": {},
   "outputs": [
    {
     "data": {
      "text/plain": [
       "Index(['id', '賃料', '所在地', 'アクセス', '間取り', '築年数', '方角', '面積', '所在階', 'バス・トイレ',\n",
       "       'キッチン', '放送・通信', '室内設備', '駐車場', '周辺環境', '建物構造', '契約期間'],\n",
       "      dtype='object')"
      ]
     },
     "execution_count": 22,
     "metadata": {},
     "output_type": "execute_result"
    }
   ],
   "source": [
    "df.columns"
   ]
  },
  {
   "cell_type": "code",
   "execution_count": 12,
   "metadata": {
    "collapsed": true
   },
   "outputs": [
    {
     "data": {
      "text/html": [
       "<div>\n",
       "<style scoped>\n",
       "    .dataframe tbody tr th:only-of-type {\n",
       "        vertical-align: middle;\n",
       "    }\n",
       "\n",
       "    .dataframe tbody tr th {\n",
       "        vertical-align: top;\n",
       "    }\n",
       "\n",
       "    .dataframe thead th {\n",
       "        text-align: right;\n",
       "    }\n",
       "</style>\n",
       "<table border=\"1\" class=\"dataframe\">\n",
       "  <thead>\n",
       "    <tr style=\"text-align: right;\">\n",
       "      <th></th>\n",
       "      <th>id</th>\n",
       "      <th>賃料</th>\n",
       "      <th>所在地</th>\n",
       "      <th>アクセス</th>\n",
       "      <th>間取り</th>\n",
       "      <th>築年数</th>\n",
       "      <th>方角</th>\n",
       "      <th>面積</th>\n",
       "      <th>所在階</th>\n",
       "      <th>バス・トイレ</th>\n",
       "      <th>キッチン</th>\n",
       "      <th>放送・通信</th>\n",
       "      <th>室内設備</th>\n",
       "      <th>駐車場</th>\n",
       "      <th>周辺環境</th>\n",
       "      <th>建物構造</th>\n",
       "      <th>契約期間</th>\n",
       "    </tr>\n",
       "  </thead>\n",
       "  <tbody>\n",
       "    <tr>\n",
       "      <td>20235</td>\n",
       "      <td>20236</td>\n",
       "      <td>80000</td>\n",
       "      <td>東京都豊島区雑司が谷２丁目</td>\n",
       "      <td>山手線\\t目白駅\\t徒歩11分\\t\\t副都心線\\t雑司が谷駅\\t徒歩3分\\t\\t都電荒川線\\...</td>\n",
       "      <td>1R</td>\n",
       "      <td>21年5ヶ月</td>\n",
       "      <td>西</td>\n",
       "      <td>20.74m2</td>\n",
       "      <td>8階／9階建</td>\n",
       "      <td>専用バス／\\t専用トイレ／\\tシャワー</td>\n",
       "      <td>IHコンロ\\t／\\tコンロ1口／\\t給湯</td>\n",
       "      <td>インターネット対応／\\tCATV／\\tCSアンテナ／\\tBSアンテナ</td>\n",
       "      <td>冷房／\\tエアコン付\\tバルコニー／\\tルーフバルコニー\\t／\\tフローリング／\\t室内洗濯...</td>\n",
       "      <td>NaN</td>\n",
       "      <td>NaN</td>\n",
       "      <td>RC（鉄筋コンクリート）</td>\n",
       "      <td>NaN</td>\n",
       "    </tr>\n",
       "    <tr>\n",
       "      <td>20236</td>\n",
       "      <td>20237</td>\n",
       "      <td>75500</td>\n",
       "      <td>東京都世田谷区桜上水１丁目</td>\n",
       "      <td>京王線\\t桜上水駅\\t徒歩16分</td>\n",
       "      <td>1K</td>\n",
       "      <td>12年8ヶ月</td>\n",
       "      <td>東</td>\n",
       "      <td>19.87m2</td>\n",
       "      <td>1階／2階建</td>\n",
       "      <td>専用バス／\\t専用トイレ／\\tバス・トイレ別</td>\n",
       "      <td>NaN</td>\n",
       "      <td>光ファイバー／\\tCATV</td>\n",
       "      <td>エアコン付\\tシューズボックス／\\tロフト付き／\\t室内洗濯機置場</td>\n",
       "      <td>NaN</td>\n",
       "      <td>NaN</td>\n",
       "      <td>軽量鉄骨</td>\n",
       "      <td>NaN</td>\n",
       "    </tr>\n",
       "    <tr>\n",
       "      <td>20237</td>\n",
       "      <td>20238</td>\n",
       "      <td>80500</td>\n",
       "      <td>東京都足立区足立１丁目</td>\n",
       "      <td>東武スカイツリーライン\\t五反野駅\\t徒歩8分\\t\\t千代田線\\t北千住駅\\t徒歩23分\\t...</td>\n",
       "      <td>1K</td>\n",
       "      <td>0年1ヶ月</td>\n",
       "      <td>西</td>\n",
       "      <td>25.66m2</td>\n",
       "      <td>6階／12階建</td>\n",
       "      <td>バス・トイレ別／\\tシャワー／\\t浴室乾燥機\\t／\\t温水洗浄便座／\\t洗面台独立</td>\n",
       "      <td>ガスコンロ／\\tコンロ2口／\\tシステムキッチン\\t／\\t給湯</td>\n",
       "      <td>インターネット対応／\\t高速インターネット／\\t光ファイバー／\\tCSアンテナ／\\tBSアン...</td>\n",
       "      <td>エアコン付\\tシューズボックス／\\tバルコニー／\\tフローリング／\\t24時間換気システム\\...</td>\n",
       "      <td>駐輪場\\t空有\\tバイク置き場\\t空有\\t駐車場\\t無</td>\n",
       "      <td>【総合病院】 2302m\\t【スーパー】 737m\\t【コンビニ】 360m\\t【ドラッグス...</td>\n",
       "      <td>RC（鉄筋コンクリート）</td>\n",
       "      <td>2年間</td>\n",
       "    </tr>\n",
       "    <tr>\n",
       "      <td>20238</td>\n",
       "      <td>20239</td>\n",
       "      <td>185000</td>\n",
       "      <td>東京都豊島区池袋本町４丁目</td>\n",
       "      <td>埼京線\\t板橋駅\\t徒歩5分\\t\\t東武東上線\\t下板橋駅\\t徒歩5分\\t\\t都営三田線\\t...</td>\n",
       "      <td>3LDK</td>\n",
       "      <td>22年5ヶ月</td>\n",
       "      <td>南東</td>\n",
       "      <td>70.27m2</td>\n",
       "      <td>12階／19階建</td>\n",
       "      <td>専用バス／\\t専用トイレ／\\tバス・トイレ別／\\tシャワー／\\t追焚機能／\\t浴室乾燥機\\t...</td>\n",
       "      <td>ガスコンロ／\\tコンロ3口／\\tシステムキッチン\\t／\\tカウンターキッチン\\t／\\t給湯</td>\n",
       "      <td>インターネット対応</td>\n",
       "      <td>エアコン付\\tバルコニー／\\tフローリング／\\t室内洗濯機置場／\\tエレベーター／\\tタイル...</td>\n",
       "      <td>駐車場\\t無</td>\n",
       "      <td>NaN</td>\n",
       "      <td>SRC（鉄骨鉄筋コンクリート）</td>\n",
       "      <td>2年間</td>\n",
       "    </tr>\n",
       "    <tr>\n",
       "      <td>20239</td>\n",
       "      <td>20240</td>\n",
       "      <td>38000</td>\n",
       "      <td>東京都練馬区谷原６丁目</td>\n",
       "      <td>西武池袋線\\t石神井公園駅\\t徒歩17分</td>\n",
       "      <td>1R</td>\n",
       "      <td>30年7ヶ月</td>\n",
       "      <td>NaN</td>\n",
       "      <td>13.8m2</td>\n",
       "      <td>2階／2階建</td>\n",
       "      <td>NaN</td>\n",
       "      <td>給湯</td>\n",
       "      <td>CATV</td>\n",
       "      <td>エアコン付\\tロフト付き／\\t出窓</td>\n",
       "      <td>駐輪場\\t無\\tバイク置き場\\t無</td>\n",
       "      <td>NaN</td>\n",
       "      <td>木造</td>\n",
       "      <td>NaN</td>\n",
       "    </tr>\n",
       "    <tr>\n",
       "      <td>20240</td>\n",
       "      <td>20241</td>\n",
       "      <td>117000</td>\n",
       "      <td>東京都板橋区双葉町8-15</td>\n",
       "      <td>東武東上線\\t中板橋駅\\t徒歩9分\\t\\t都営三田線\\t板橋本町駅\\t徒歩10分\\t\\t東武...</td>\n",
       "      <td>1LDK</td>\n",
       "      <td>1年7ヶ月</td>\n",
       "      <td>南</td>\n",
       "      <td>43m2</td>\n",
       "      <td>2階／3階建</td>\n",
       "      <td>バス・トイレ別／\\tシャワー／\\t追焚機能／\\t浴室乾燥機\\t／\\t温水洗浄便座／\\t洗面台...</td>\n",
       "      <td>ガスコンロ／\\tコンロ2口／\\tシステムキッチン\\t／\\t給湯</td>\n",
       "      <td>インターネット対応／\\tCATV／\\tBSアンテナ</td>\n",
       "      <td>エアコン付\\tシューズボックス／\\tバルコニー／\\tフローリング／\\t24時間換気システム\\...</td>\n",
       "      <td>NaN</td>\n",
       "      <td>【スーパー】 303m\\t【スーパー】 442m\\t【コンビニ】 344m\\t【ドラッグスト...</td>\n",
       "      <td>木造</td>\n",
       "      <td>2年間</td>\n",
       "    </tr>\n",
       "  </tbody>\n",
       "</table>\n",
       "</div>"
      ],
      "text/plain": [
       "          id      賃料            所在地  \\\n",
       "20235  20236   80000  東京都豊島区雑司が谷２丁目   \n",
       "20236  20237   75500  東京都世田谷区桜上水１丁目   \n",
       "20237  20238   80500    東京都足立区足立１丁目   \n",
       "20238  20239  185000  東京都豊島区池袋本町４丁目   \n",
       "20239  20240   38000    東京都練馬区谷原６丁目   \n",
       "20240  20241  117000  東京都板橋区双葉町8-15   \n",
       "\n",
       "                                                    アクセス   間取り     築年数   方角  \\\n",
       "20235  山手線\\t目白駅\\t徒歩11分\\t\\t副都心線\\t雑司が谷駅\\t徒歩3分\\t\\t都電荒川線\\...    1R  21年5ヶ月    西   \n",
       "20236                                   京王線\\t桜上水駅\\t徒歩16分    1K  12年8ヶ月    東   \n",
       "20237  東武スカイツリーライン\\t五反野駅\\t徒歩8分\\t\\t千代田線\\t北千住駅\\t徒歩23分\\t...    1K   0年1ヶ月    西   \n",
       "20238  埼京線\\t板橋駅\\t徒歩5分\\t\\t東武東上線\\t下板橋駅\\t徒歩5分\\t\\t都営三田線\\t...  3LDK  22年5ヶ月   南東   \n",
       "20239                               西武池袋線\\t石神井公園駅\\t徒歩17分    1R  30年7ヶ月  NaN   \n",
       "20240  東武東上線\\t中板橋駅\\t徒歩9分\\t\\t都営三田線\\t板橋本町駅\\t徒歩10分\\t\\t東武...  1LDK   1年7ヶ月    南   \n",
       "\n",
       "            面積       所在階                                             バス・トイレ  \\\n",
       "20235  20.74m2    8階／9階建                                専用バス／\\t専用トイレ／\\tシャワー   \n",
       "20236  19.87m2    1階／2階建                             専用バス／\\t専用トイレ／\\tバス・トイレ別   \n",
       "20237  25.66m2   6階／12階建          バス・トイレ別／\\tシャワー／\\t浴室乾燥機\\t／\\t温水洗浄便座／\\t洗面台独立   \n",
       "20238  70.27m2  12階／19階建  専用バス／\\t専用トイレ／\\tバス・トイレ別／\\tシャワー／\\t追焚機能／\\t浴室乾燥機\\t...   \n",
       "20239   13.8m2    2階／2階建                                                NaN   \n",
       "20240     43m2    2階／3階建  バス・トイレ別／\\tシャワー／\\t追焚機能／\\t浴室乾燥機\\t／\\t温水洗浄便座／\\t洗面台...   \n",
       "\n",
       "                                                キッチン  \\\n",
       "20235                           IHコンロ\\t／\\tコンロ1口／\\t給湯   \n",
       "20236                                            NaN   \n",
       "20237                ガスコンロ／\\tコンロ2口／\\tシステムキッチン\\t／\\t給湯   \n",
       "20238  ガスコンロ／\\tコンロ3口／\\tシステムキッチン\\t／\\tカウンターキッチン\\t／\\t給湯   \n",
       "20239                                             給湯   \n",
       "20240                ガスコンロ／\\tコンロ2口／\\tシステムキッチン\\t／\\t給湯   \n",
       "\n",
       "                                                   放送・通信  \\\n",
       "20235                 インターネット対応／\\tCATV／\\tCSアンテナ／\\tBSアンテナ   \n",
       "20236                                      光ファイバー／\\tCATV   \n",
       "20237  インターネット対応／\\t高速インターネット／\\t光ファイバー／\\tCSアンテナ／\\tBSアン...   \n",
       "20238                                          インターネット対応   \n",
       "20239                                               CATV   \n",
       "20240                          インターネット対応／\\tCATV／\\tBSアンテナ   \n",
       "\n",
       "                                                    室内設備  \\\n",
       "20235  冷房／\\tエアコン付\\tバルコニー／\\tルーフバルコニー\\t／\\tフローリング／\\t室内洗濯...   \n",
       "20236                  エアコン付\\tシューズボックス／\\tロフト付き／\\t室内洗濯機置場   \n",
       "20237  エアコン付\\tシューズボックス／\\tバルコニー／\\tフローリング／\\t24時間換気システム\\...   \n",
       "20238  エアコン付\\tバルコニー／\\tフローリング／\\t室内洗濯機置場／\\tエレベーター／\\tタイル...   \n",
       "20239                                  エアコン付\\tロフト付き／\\t出窓   \n",
       "20240  エアコン付\\tシューズボックス／\\tバルコニー／\\tフローリング／\\t24時間換気システム\\...   \n",
       "\n",
       "                               駐車場  \\\n",
       "20235                          NaN   \n",
       "20236                          NaN   \n",
       "20237  駐輪場\\t空有\\tバイク置き場\\t空有\\t駐車場\\t無   \n",
       "20238                       駐車場\\t無   \n",
       "20239            駐輪場\\t無\\tバイク置き場\\t無   \n",
       "20240                          NaN   \n",
       "\n",
       "                                                    周辺環境             建物構造 契約期間  \n",
       "20235                                                NaN     RC（鉄筋コンクリート）  NaN  \n",
       "20236                                                NaN             軽量鉄骨  NaN  \n",
       "20237  【総合病院】 2302m\\t【スーパー】 737m\\t【コンビニ】 360m\\t【ドラッグス...     RC（鉄筋コンクリート）  2年間  \n",
       "20238                                                NaN  SRC（鉄骨鉄筋コンクリート）  2年間  \n",
       "20239                                                NaN               木造  NaN  \n",
       "20240  【スーパー】 303m\\t【スーパー】 442m\\t【コンビニ】 344m\\t【ドラッグスト...               木造  2年間  "
      ]
     },
     "execution_count": 12,
     "metadata": {},
     "output_type": "execute_result"
    }
   ],
   "source": [
    "df.loc[20235:20240,:]"
   ]
  },
  {
   "cell_type": "code",
   "execution_count": 13,
   "metadata": {},
   "outputs": [],
   "source": [
    "a = df['アクセス']"
   ]
  },
  {
   "cell_type": "code",
   "execution_count": 19,
   "metadata": {},
   "outputs": [
    {
     "name": "stdout",
     "output_type": "stream",
     "text": [
      "Series([], Name: アクセス, dtype: object)\n"
     ]
    }
   ],
   "source": [
    "print(a[a.isnull()])"
   ]
  },
  {
   "cell_type": "code",
   "execution_count": 27,
   "metadata": {},
   "outputs": [
    {
     "data": {
      "text/plain": [
       "Index(['id', 'y', 'location', 'access', 'layout', 'age', 'direction', 'area',\n",
       "       'floor', 'bath_toilet', 'kitchen', 'broadcast_com', 'facilities',\n",
       "       'parking', 'enviroment', 'structure', 'contract_period', 'log_y',\n",
       "       'area_num', 'age_month', 'max_floor', 'room_num', 'L', 'D', 'K', 'R',\n",
       "       'S', 'north', 'structure_orderd', 'walk_time'],\n",
       "      dtype='object')"
      ]
     },
     "execution_count": 27,
     "metadata": {},
     "output_type": "execute_result"
    }
   ],
   "source": [
    "pd.read_csv('../processed_data/train_v8.csv').columns[:30]"
   ]
  },
  {
   "cell_type": "code",
   "execution_count": null,
   "metadata": {},
   "outputs": [],
   "source": []
  }
 ],
 "metadata": {
  "kernelspec": {
   "display_name": "Python 3",
   "language": "python",
   "name": "python3"
  },
  "language_info": {
   "codemirror_mode": {
    "name": "ipython",
    "version": 3
   },
   "file_extension": ".py",
   "mimetype": "text/x-python",
   "name": "python",
   "nbconvert_exporter": "python",
   "pygments_lexer": "ipython3",
   "version": "3.7.4"
  },
  "toc": {
   "base_numbering": 1,
   "nav_menu": {},
   "number_sections": true,
   "sideBar": true,
   "skip_h1_title": false,
   "title_cell": "Table of Contents",
   "title_sidebar": "Contents",
   "toc_cell": false,
   "toc_position": {},
   "toc_section_display": true,
   "toc_window_display": false
  },
  "varInspector": {
   "cols": {
    "lenName": 16,
    "lenType": 16,
    "lenVar": 40
   },
   "kernels_config": {
    "python": {
     "delete_cmd_postfix": "",
     "delete_cmd_prefix": "del ",
     "library": "var_list.py",
     "varRefreshCmd": "print(var_dic_list())"
    },
    "r": {
     "delete_cmd_postfix": ") ",
     "delete_cmd_prefix": "rm(",
     "library": "var_list.r",
     "varRefreshCmd": "cat(var_dic_list()) "
    }
   },
   "types_to_exclude": [
    "module",
    "function",
    "builtin_function_or_method",
    "instance",
    "_Feature"
   ],
   "window_display": false
  }
 },
 "nbformat": 4,
 "nbformat_minor": 2
}
